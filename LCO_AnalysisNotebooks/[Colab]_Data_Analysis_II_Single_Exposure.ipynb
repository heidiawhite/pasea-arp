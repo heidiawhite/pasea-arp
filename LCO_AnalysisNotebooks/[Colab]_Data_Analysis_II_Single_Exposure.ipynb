{
  "cells": [
    {
      "cell_type": "markdown",
      "metadata": {
        "id": "tEuxzVK0plxY"
      },
      "source": [
        "# Processing A Single Exposure Image\n",
        "\n",
        "In this tutorial, you will learn how to perform photometry on a single image of your target star. \n",
        "\n",
        "Before doing this tutorial, you should have watched the _Introduction to Photometry_ video lecture linked in Slack. In this tutorial, you will \n",
        "1. Review the basics on displaying data sets as `matplotlib` figures\n",
        "2. Read in a fits image from your requested dataset and display it in Python\n",
        "3. Calculate a value for the background for the whole image and subtract it \n",
        "4. Pick out your target star and reference stars\n",
        "\n",
        "==============================================\n",
        "\n",
        "We will then take all of these steps and put them together to:\n",
        "5. Perform aperture photometry of your target\n",
        "6. Create a cutout image around the target star\n",
        "\n",
        "You will be using many skills you learned in the PASEA Alumni Programming Python Workshops. Skills include reading in fits files, plotting and functional programming. \n",
        "\n",
        "This notebook requires installing the following Python modules. This should be set up already on the google co-lab platform but if you choose to run this notebook offline, you will require the following modules: \n",
        "* `astropy`\n",
        "* `imageio`"
      ]
    },
    {
      "cell_type": "markdown",
      "source": [
        "Just like before, let's start by loading in some important packages and modules:"
      ],
      "metadata": {
        "id": "I0Yh3cF4bkQr"
      }
    },
    {
      "cell_type": "code",
      "execution_count": null,
      "metadata": {
        "id": "ZGKIxlZGplxa"
      },
      "outputs": [],
      "source": [
        "!pip install photutils\n",
        "\n",
        "# Import statements\n",
        "\n",
        "import warnings\n",
        "warnings.filterwarnings('ignore')\n",
        "\n",
        "import glob\n",
        "import numpy as np\n",
        "\n",
        "from photutils import Background2D, SExtractorBackground\n",
        "from photutils import DAOStarFinder\n",
        "from photutils import CircularAperture,aperture_photometry\n",
        "from photutils.utils import calc_total_error\n",
        "\n",
        "import astropy.wcs as wcs\n",
        "from astropy.io import fits\n",
        "from astropy.stats import sigma_clipped_stats, SigmaClip\n",
        "from astropy.nddata.utils import Cutout2D\n",
        "from astropy import units as u\n",
        "\n",
        "import matplotlib.pyplot as plt\n",
        "from astropy.visualization import ZScaleInterval"
      ]
    },
    {
      "cell_type": "markdown",
      "metadata": {
        "id": "5P7_V_R2plxc"
      },
      "source": [
        "# 1. Tutorial on plotting images\n",
        "\n",
        "An image is a 2D array of numbers. You can display a 2D array of numbers as an image using `matplotlib.pyplot`'s `imshow`. \n",
        "\n",
        "The example below has pixel values mostly around 1-3, but one pixel value (lower left) is 1000. When you display it, the 1000 pixel will be displayed as white and because the rest of the pixels are so close together in value, they will all appear black. This is because the range between 1 and 1000 is evenly assigned colours black to white in an even gradient. "
      ]
    },
    {
      "cell_type": "code",
      "execution_count": null,
      "metadata": {
        "id": "Lj6ErkPlplxc"
      },
      "outputs": [],
      "source": [
        "simple_image = [[1.,2.,1.3],\n",
        "                [1.9,2.3,1.8],\n",
        "                [1000,2.1,1.4]]\n",
        "plt.imshow(simple_image, cmap='gray')\n",
        "# To see what color represents what value, add a colorbar: \n",
        "plt.colorbar()"
      ]
    },
    {
      "cell_type": "markdown",
      "metadata": {
        "id": "phLSyvmqplxd"
      },
      "source": [
        "What if we want to see the variation in pixel value of the pixels with values 1-3? We can ask imshow to plot all pixels brighter than 3 as white and all pixels fainter than 1 as black. This way, only the pixel values between 1 and 3 will need to be assigned colours black to white with an even gradient.  \n",
        "\n",
        "`plt.colorbar` adds the colorbar on the right hand side.\n",
        "\n",
        "Notice in the image shown below, the colorbar now only shows colors for numbers between 1 and 3. \n",
        "Any value smaller than one will be black, any value larger than 3 will be white.\n",
        "E.g. Notice below the top left pixel value is 1, and it is black and the bottom left pixel value is 1000 and it is white. "
      ]
    },
    {
      "cell_type": "code",
      "execution_count": null,
      "metadata": {
        "id": "3p7EPEgkplxe"
      },
      "outputs": [],
      "source": [
        "simple_image = [[1.,  2., 1.3],\n",
        "                [1.9, 2.3,1.8],\n",
        "                [1000,2.1,1.4]]\n",
        "\n",
        "plt.imshow(simple_image,vmin=1, vmax=3, cmap='gray')\n",
        "plt.colorbar()"
      ]
    },
    {
      "cell_type": "markdown",
      "metadata": {
        "id": "bP7zdFmKplxf"
      },
      "source": [
        "## Exercises / Questions\n",
        "\n",
        "Try plotting the below image and setting your own vmax and vmin so that you see the following displayed for the simple_image defined below.\n",
        "![example.png](data:image/png;base64,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)\n",
        "\n",
        "Also try plotting the image with a different cmap, which defines what the color to display the image. "
      ]
    },
    {
      "cell_type": "code",
      "execution_count": null,
      "metadata": {
        "id": "gHzcZeGBplxf"
      },
      "outputs": [],
      "source": [
        "# You can do your exercise in this cell, as well as make extra cells. \n",
        "\n",
        "simple_image = [[1., 2., 1.5, 3.1, 0.9, 2.5, 1.7],\n",
        "                [5., 976, 955, 1.9, 2.6, 2.5, 1.7 ],\n",
        "                [1., 999, 985, 3.1, 0.9, 2.5, 1.7],\n",
        "                [1., 3, 1.5, 3.1, 0.9, 1.8, 1.7],\n",
        "                [1., 2., 1.5, 3.1, 0.9, 2.5, 1.7],\n",
        "                [5., 3.1, 1., 1.9, 12.4, 12.9, 1.7],\n",
        "                [1., 2., 1.5, 3.1, 13., 12.3, 0.9],\n",
        "                [5., 3.1, 1., 1.9, 2.6, 2.5, 1.7]\n",
        "               ]\n",
        "\n",
        "# Exercise: Add your code here such that you display your image so it looks like the example above"
      ]
    },
    {
      "cell_type": "code",
      "execution_count": null,
      "metadata": {
        "id": "hHO0jajKplxg"
      },
      "outputs": [],
      "source": [
        "# You can do your exercise in this cell, as well as make extra cells. \n",
        "\n",
        "simple_image = [[1., 2., 1.5, 3.1, 0.9, 2.5, 1.7],\n",
        "                [5., 976, 955, 1.9, 2.6, 2.5, 1.7 ],\n",
        "                [1., 999, 985, 3.1, 0.9, 2.5, 1.7],\n",
        "                [1., 3, 1.5, 3.1, 0.9, 1.8, 1.7],\n",
        "                [1., 2., 1.5, 3.1, 0.9, 2.5, 1.7],\n",
        "                [5., 3.1, 1., 1.9, 12.4, 12.9, 1.7],\n",
        "                [1., 2., 1.5, 3.1, 13., 12.3, 0.9],\n",
        "                [5., 3.1, 1., 1.9, 2.6, 2.5, 1.7]\n",
        "               ]\n",
        "\n",
        "# Exercise: Add your code here such that it displays your image with a different color map. \n",
        "# Note you can find out more about matplotlib color maps here: https://matplotlib.org/stable/tutorials/colors/colormaps.html"
      ]
    },
    {
      "cell_type": "markdown",
      "metadata": {
        "id": "Ojw9bm-Aplxh"
      },
      "source": [
        "There is a function that helps you set reasonable vmin and vmax values for any input image. It's called a zscale.\n",
        "\n",
        "The zscale algorithm is designed to display the image values near the _median image value_ without the time consuming process of computing a full image histogram. This is particularly useful for astronomical images which generally have a very peaked histogram corresponding to the background sky in direct imaging or the continuum in a two dimensional spectrum.\n",
        "\n",
        "Here is an example of how to use it. "
      ]
    },
    {
      "cell_type": "code",
      "execution_count": null,
      "metadata": {
        "id": "gUZ1jjatplxh"
      },
      "outputs": [],
      "source": [
        "simple_image = [[1., 2., 1.5, 3.1, 0.9, 2.5, 1.7],\n",
        "                [5., 976, 955, 1.9, 2.6, 2.5, 1.7 ],\n",
        "                [1., 999, 985, 3.1, 0.9, 2.5, 1.7],\n",
        "                [1., 3, 1.5, 3.1, 0.9, 1.8, 1.7],\n",
        "                [1., 2., 1.5, 3.1, 0.9, 2.5, 1.7],\n",
        "                [5., 3.1, 1., 1.9, 12.4, 12.9, 1.7],\n",
        "                [1., 2., 1.5, 3.1, 13., 12.3, 0.9],\n",
        "                [5., 3.1, 1., 1.9, 2.6, 2.5, 1.7]\n",
        "               ]\n",
        "\n",
        "interval = ZScaleInterval()\n",
        "vmin     = interval.get_limits(simple_image)[0]\n",
        "vmax     = interval.get_limits(simple_image)[1]\n",
        "print('vmin: ',vmin)\n",
        "print('vmax: ',vmax)\n",
        "\n",
        "# Exercise: Use this automatically determined vmin and vmax to display your image. "
      ]
    },
    {
      "cell_type": "markdown",
      "metadata": {
        "id": "gkN_STpnplxi"
      },
      "source": [
        "# 2. Read in a fits image from dataset and display it in Python\n",
        "First let's mount our GDrive: "
      ]
    },
    {
      "cell_type": "code",
      "execution_count": null,
      "metadata": {
        "id": "wk02JzWSplxj"
      },
      "outputs": [],
      "source": [
        "from google.colab import drive\n",
        "drive.mount('/content/drive/', force_remount=True)"
      ]
    },
    {
      "cell_type": "markdown",
      "source": [
        "Now that we've connected our Colab notebook to GDrive, we can set up some parameters that contain both the path to our data and the filename of one of the exposures we downloaded in the previous notebook.\n",
        "\n",
        "Check out your GDrive directory and choose one of the V-filter files you downloaded and copy the filename.\n",
        "\n",
        "This can be done by either accessing your GDrive 📁LCO via the Drive browser or via the directory tree accessible in the sidebar to the left.\n",
        "\n",
        "Note: You can always find the path to your .fits file by clicking the three dots next to the file (highlighted by the <font color='magenta'>pink</font> box) and selecting \"Copy Path to File\":\n",
        "\n",
        "![Screen Shot 2022-08-26 at 15.48.18.png](data:image/png;base64,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)"
      ],
      "metadata": {
        "id": "0fFerXqktEy-"
      }
    },
    {
      "cell_type": "markdown",
      "source": [
        "Next we're going to set the path to our mounted LCO directory and select one of the data files we downloaded to Drive in the \"Get Data\" notebook."
      ],
      "metadata": {
        "id": "DHCU3aU-hfTh"
      }
    },
    {
      "cell_type": "code",
      "execution_count": null,
      "metadata": {
        "id": "RIMD5ClTplxk"
      },
      "outputs": [],
      "source": [
        "mypath = 'mypath'\n",
        "myfile = 'myfile'"
      ]
    },
    {
      "cell_type": "markdown",
      "metadata": {
        "id": "J0z8gP-Wplxl"
      },
      "source": [
        "Then open the fits file for the single image and display it. Notice in the `plt.imshow` line below, we set `origin='lower'`. This puts 0,0 in the bottom left instead of 0,0 in the top left as is the default (you can see in the above that 0,0 is in the top left."
      ]
    },
    {
      "cell_type": "code",
      "execution_count": null,
      "metadata": {
        "id": "8yxOeqBSplxl"
      },
      "outputs": [],
      "source": [
        "# Plot the whole image with the reference star and target star marked to see if it all looks ok\n",
        "\n",
        "# Read in the data and the fits file header information\n",
        "sci_data, sci_header   = fits.getdata(mypath+myfile,header=True)\n",
        "\n",
        "# Get the best vmin and vmax to visualize the image\n",
        "# See why these two values were picked using ds9. \n",
        "interval = ZScaleInterval()\n",
        "vmin     = interval.get_limits(sci_data)[0]\n",
        "vmax     = interval.get_limits(sci_data)[1]\n",
        "print('vmin: ',vmin)\n",
        "print('vmax: ',vmax)\n",
        "\n",
        "figure = plt.figure(figsize=(10,22))     # This sets the figure (image) size, and is larger than default.\n",
        "im = plt.imshow(sci_data, vmin=vmin, vmax=vmax, origin='lower')\n",
        "plt.colorbar(im,fraction=0.03, pad=0.03) # This sets the colorbar size and position. "
      ]
    },
    {
      "cell_type": "markdown",
      "metadata": {
        "id": "orik9xskplxm"
      },
      "source": [
        "# 3. Calculate the background for the whole image and subtract it.\n",
        "\n",
        "Even if no visible astronomical objects are present in given part of the sky, there always is some low luminosity present (known as the _sky background_) due mostly to light diffusion from the atmosphere. This includes the diffusion of both incoming light from nearby sources and of man-made Earth sources like cities. This sky background also changes over time, so it needs to be subtracted off any data images before they undergo photometry of the target. A background frame is first calculated and then subtracted from the actual observation result, leaving (in theory) only the incoming light from the astronomical object being observed.\n",
        "\n",
        "Here, we will estimate the background of every pixel in the image, then subtract it from the image to get a background subtracted image with which we can measure the brightness of stars. To estimate the background we will use a software called `Source Extractor`. You can learn more about this software [here](https://sextractor.readthedocs.io/en/latest/Introduction.html)."
      ]
    },
    {
      "cell_type": "code",
      "execution_count": null,
      "metadata": {
        "id": "-h0V-VtEplxm"
      },
      "outputs": [],
      "source": [
        "# Sigma clip bright obvious things to avoid biasing the background estimate\n",
        "sigma_clip    = SigmaClip(sigma=3.) \n",
        "\n",
        "# Apply the SExtractor algorithm to our estimation\n",
        "bkg_estimator = SExtractorBackground() \n",
        "bkg           = Background2D(   sci_data, (50, 50),\n",
        "                                filter_size=(3, 3),\n",
        "                                sigma_clip=sigma_clip,\n",
        "                                bkg_estimator=bkg_estimator )\n",
        "\n",
        "# Now let's subtract the background from the data\n",
        "# The background that Source Extractor calculated is stored in the variable bkg.background. \n",
        "sci_bkg = sci_data - bkg.background"
      ]
    },
    {
      "cell_type": "markdown",
      "metadata": {
        "id": "JFdC_etMplxn"
      },
      "source": [
        "## Exercise / Question\n",
        "\n",
        "Display the background image found above, i.e. bkg.background. You can use what you learned about displaying images in the \"1. Tutorial on plotting images\" above. Just like the fits image displayed above, put the origin of your image in the lower left. "
      ]
    },
    {
      "cell_type": "code",
      "execution_count": null,
      "metadata": {
        "id": "IpSp1VZ2plxn"
      },
      "outputs": [],
      "source": [
        "#YOUR CODE HERE"
      ]
    },
    {
      "cell_type": "markdown",
      "source": [
        "# Exercise / Question\n",
        "\n",
        "Play around a little with the `sigma` value set in SigmaClip in the `Sextractor` cell above. What do you think this parameter controls/determines? \n",
        "\n",
        "❕Remember to set this `sigma` value back to 3.0 before continuing on."
      ],
      "metadata": {
        "id": "wJoG_N9-ugTu"
      }
    },
    {
      "cell_type": "code",
      "source": [
        "#Your Findings here"
      ],
      "metadata": {
        "id": "f2MkhwwU6tBD"
      },
      "execution_count": null,
      "outputs": []
    },
    {
      "cell_type": "markdown",
      "metadata": {
        "id": "j_E4tnzzplxo"
      },
      "source": [
        "## Exercise / Question\n",
        "Show the background subtracted image and see what it looks like. Can you tell that it's been background subtracted? Does it look different to the original image?"
      ]
    },
    {
      "cell_type": "code",
      "execution_count": null,
      "metadata": {
        "id": "AlYI18iDplxp"
      },
      "outputs": [],
      "source": [
        "# Show the background subtracted image "
      ]
    },
    {
      "cell_type": "markdown",
      "metadata": {
        "id": "Ut_ZEvQDplxp"
      },
      "source": [
        "# 4. Pick out the target and reference stars\n",
        "\n",
        "As you learned in the _Introduction to Photometry_ tutorial, to do photometry, you need to determine a zeropoint that needs to be added to the uncalibrated magnitude of stars in your image to turn them into _calibrated_ magnitudes. Calibrated magnitudes are useful as they directly relate to physical flux units (where flux is measured in energy per second per collecting area). \n",
        "\n",
        "E.g. \n",
        "1. You add up the pixel values in background subtracted image of the reference star, let this be counts_ccd_ref = 10,000\n",
        "2. you turn this into uncalibrated magnitude, m_uncalibrated_ref = -2.5*log10(counts_ccd_ref) = -10\n",
        "3. Since this is a reference star, others have measured the calibrated magnitude, let's say it is m_calibrated_ref = 17\n",
        "4. then your zerpoint, zp = m_calibrated_ref - m_uncalibrated_ref = 17 - (-10) = 27. \n",
        "5. You can now find the calibrated magnitude of any star that you count up the pixel values for. \n",
        "6. Say counts_ccd_MYSTAR = 1000\n",
        "7. m_uncalibrated_MYSTAR = -2.5*log10(counts_ccd_MYSTAR) = -7.5\n",
        "8. m_calibrated_MYSTAR = m_uncalibrated_MYSTAR + zp = -7.5 + 27 = 19.5\n",
        "\n",
        "We will use a series of reference stars to calculate the zeropoint (we will find zeropoints for all of them and use the median as our zeropoint). The best quality reference stars are bright stars that are not saturated. \n",
        "\n",
        "A PASEA Instructor will have provided you with a `wget` command that will download a list of potential reference stars for your target. Please enter it below."
      ]
    },
    {
      "cell_type": "code",
      "execution_count": null,
      "metadata": {
        "id": "_CIsAw0Gplxr"
      },
      "outputs": [],
      "source": [
        "#Your WGET command here"
      ]
    },
    {
      "cell_type": "markdown",
      "source": [
        "Now we will be loading in the reference star lists using `pandas`. Recall that you learned about how to use `pandas` in the PASEA-ARP Python Workshop. \n",
        "\n",
        "## Exercise / Question\n",
        "\n",
        "Load in your reference star list.\n",
        "\n",
        "Note: It's best to use the `pandas.set_option('display.max_rows', None)` option."
      ],
      "metadata": {
        "id": "v-rO08udpmuD"
      }
    },
    {
      "cell_type": "code",
      "execution_count": null,
      "metadata": {
        "id": "JgbCTqSyplxr"
      },
      "outputs": [],
      "source": [
        "#Your code here"
      ]
    },
    {
      "cell_type": "markdown",
      "source": [
        "Now let's load in the RA of Dec of the target."
      ],
      "metadata": {
        "id": "R_d6Z8BFxfLG"
      }
    },
    {
      "cell_type": "code",
      "source": [
        "# Target star RA and DEC. This is where you enter the RA and Dec coordinates of your target star. We want to try and find the magnitude of this star.\n",
        "target_RA  = XXX\n",
        "target_DEC = XXX"
      ],
      "metadata": {
        "id": "Rlhtb15gxcOe"
      },
      "execution_count": null,
      "outputs": []
    },
    {
      "cell_type": "markdown",
      "source": [
        "The next step will be to select between 5-8 reference stars from the list above. Enter their values in the lists below:"
      ],
      "metadata": {
        "id": "RGLJ-H_pxjqn"
      }
    },
    {
      "cell_type": "code",
      "execution_count": null,
      "metadata": {
        "id": "KSXt93pDplxr"
      },
      "outputs": [],
      "source": [
        "# Useful reference stars are ones which are bright, but not saturated, and stars which lie within the field of view. \n",
        "\n",
        "#-------------------------------------------------------------------\n",
        "# TO DO: From the list above, choose 5-8 reference stars.\n",
        "#-------------------------------------------------------------------\n",
        "# Construct Python lists for the RA and Dec coordinate values for the stars you've selected from the list above. \n",
        "# The list mag_calibrated_ref should be defined by a Python list of the relevant magnitudes (make sure to check what filter was used to capture this frame!) for your chosen reference stars.\n",
        "# This subset of stars was selected from the APASS DR20 catalog which can be accessed here: \n",
        "# https://www.aavso.org/apass-dr10-download\n",
        "\n",
        "ref_ra             = []\n",
        "ref_dec            = []\n",
        "mag_calibrated_ref = []"
      ]
    },
    {
      "cell_type": "markdown",
      "metadata": {
        "id": "9xHEo-goplxr"
      },
      "source": [
        "## Let's visualise where on the image our target and reference stars are located in this frame.\n",
        "To do this, we have to mark circles where the target and reference stars are. We have to know the x,y position in pixel coordinates for this image, and not just the RA and DEC. To get the x,y pixel coordinates, we use `AstroPy` and  the World Coordinate System information in the header of the fits image to convert RA/DEC to x,y pixels. "
      ]
    },
    {
      "cell_type": "code",
      "execution_count": null,
      "metadata": {
        "id": "-nqi2NR7plxs"
      },
      "outputs": [],
      "source": [
        "# Plot the whole image (background subtracted version) with the reference star and target star marked to see if it all looks ok\n",
        "\n",
        "# Read in the data and the fits file header information\n",
        "sci_data, sci_header   = fits.getdata(mypath+myfile,header=True)\n",
        "\n",
        "# Get the World Coordinate System (WCS) from the fits header. \n",
        "w                            = wcs.WCS(sci_header)\n",
        "\n",
        "# Convert RA and DEC to x,y pixel coordinate for ref and target stars using the WCS. \n",
        "xcoord_ref, ycoord_ref       = w.all_world2pix(ref_ra,ref_dec,1)\n",
        "xcoord_target, ycoord_target = w.all_world2pix([target_RA],[target_DEC],1)\n",
        "\n",
        "# Get the best vmin and vmax to visualize the image\n",
        "interval = ZScaleInterval()\n",
        "vmin     = interval.get_limits(sci_bkg)[0]\n",
        "vmax     = interval.get_limits(sci_bkg)[1]\n",
        "\n",
        "# Plot the figure\n",
        "figure = plt.figure(figsize=(12,24))\n",
        "plt.imshow(sci_bkg, vmin=vmin, vmax=vmax, origin='lower')\n",
        "\n",
        "# Mark with a red circle the target stars. \n",
        "plt.scatter(xcoord_target,ycoord_target,marker='o',\n",
        "            facecolors='none',s=150,linewidth=1,color='red')\n",
        "\n",
        "# Mark with white circles the reference stars. \n",
        "plt.scatter(xcoord_ref,ycoord_ref,marker='o',\n",
        "            facecolors='none',s=150,linewidth=1,color='white')"
      ]
    },
    {
      "cell_type": "markdown",
      "source": [
        "Reflect on what you see in the figure above. Are you satisfied with your reference star choices? Take this moment to make any modifications to your reference star lists now before proceeding to the next section."
      ],
      "metadata": {
        "id": "Wm0gUegNlCQK"
      }
    },
    {
      "cell_type": "markdown",
      "metadata": {
        "id": "3alsaC-1plxt"
      },
      "source": [
        "---\n",
        "# 5. Put it all together: Do Aperture Photometry\n",
        "\n",
        "This is where the photometry actually happens! \n",
        "\n",
        "*Important Note: All the steps are listed here from start to end. While it will include some repeated steps, this represents the FULL data analysis procedure in it's entirety."
      ]
    },
    {
      "cell_type": "markdown",
      "metadata": {
        "id": "MUQsElfYplxv"
      },
      "source": [
        "## A useful function\n",
        "A function that outputs the uncalibrated magnitude of a source, and its error. The inputs to the function are the background subtracted science image \"data\", the fits header \"hdr\", the error image \"err\" that you get from determining the background and the RA (`ra`) and DEC (`dec`) of the object you want to measure photometry to. \n",
        "\n",
        "You will be using this function to do photometry, so load it in!"
      ]
    },
    {
      "cell_type": "code",
      "execution_count": null,
      "metadata": {
        "id": "0VnhXb-_plxw"
      },
      "outputs": [],
      "source": [
        "def do_phot_get_mag(data,hdr,err,ra,dec):\n",
        "\n",
        "    # Get the WCS from the input header or \"hdr\"\n",
        "    w         = wcs.WCS(hdr)\n",
        "    \n",
        "    # Calculate the x,y pixel coordinates given the RA and DEC input\n",
        "    xcoords, ycoords = w.all_world2pix(ra,dec,1)\n",
        "    # Get it in the required format\n",
        "    positions = np.transpose((xcoords, ycoords))\n",
        "    \n",
        "    # Set the aperture inside which to add up the pixel values\n",
        "    apertures = CircularAperture(positions, r=24.)\n",
        "    # Perform the photometry given the image, the apertures and the error image. \n",
        "    phot      = aperture_photometry(data, apertures, error=err)\n",
        "\n",
        "    # calculate the uncalibrated magnitude of the sources\n",
        "    mag     = list(-2.5*np.log10(phot['aperture_sum']) )\n",
        "    # calculate the error of the uncalibrated magnitudes\n",
        "    mag_err = list((2.5/np.log(10))*(phot['aperture_sum_err']/phot['aperture_sum']))\n",
        "    \n",
        "    return mag,mag_err"
      ]
    },
    {
      "cell_type": "markdown",
      "metadata": {
        "id": "0sAO3IMRplxy"
      },
      "source": [
        "### a. Open the frame and read out the data, header, and time of observation"
      ]
    },
    {
      "cell_type": "code",
      "execution_count": null,
      "metadata": {
        "id": "Ld-RAXl7plxy"
      },
      "outputs": [],
      "source": [
        "# Read in file\n",
        "sci_data, sci_header   = fits.getdata(mypath+myfile,header=True)\n",
        "\n",
        "# The \"header\" of fits files contains a lot of information on the image.\n",
        "\n",
        "# Grab the time of observation of this image.\n",
        "mjd      = sci_header['MJD-OBS']\n",
        "datetime = sci_header['DATE']\n",
        "\n",
        "# print RA and DEC in header, which tells you where the telescope was pointing when this image was taken.\n",
        "print('RA:',sci_header['RA'])\n",
        "print('DEC:',sci_header['DEC'])"
      ]
    },
    {
      "cell_type": "code",
      "execution_count": null,
      "metadata": {
        "scrolled": true,
        "id": "Nzuxg_l7plxz"
      },
      "outputs": [],
      "source": [
        "# print the whole header to have a look\n",
        "print('\\nEntire header:')\n",
        "sci_header"
      ]
    },
    {
      "cell_type": "markdown",
      "metadata": {
        "id": "Nx66rK8-plx0"
      },
      "source": [
        "### Exercise / Question\n",
        "\n",
        "Print out the time the image was taken and the location. How does this time relate to your requested set of observations?"
      ]
    },
    {
      "cell_type": "code",
      "execution_count": null,
      "metadata": {
        "id": "Q2fmS8upplx0"
      },
      "outputs": [],
      "source": [
        "# Print the time and location of observation of this exposure"
      ]
    },
    {
      "cell_type": "markdown",
      "metadata": {
        "id": "TqIo-9Oiplx1"
      },
      "source": [
        "### b. Get the background of the image and subtract it; Calculate the error associated with the background.\n",
        "\n",
        "Note: The error is calculated by adding the rms error of the background and the background subtracted science image together. "
      ]
    },
    {
      "cell_type": "code",
      "execution_count": null,
      "metadata": {
        "id": "NOjMLGJIplx2"
      },
      "outputs": [],
      "source": [
        "# Background estimation:\n",
        "sigma_clip = SigmaClip(sigma=3.) # Sigma clip bright obvious things to avoid biasing the background estimate\n",
        "bkg_estimator = SExtractorBackground() # Apply the SExtractor algorithm to our estimation\n",
        "bkg = Background2D(\n",
        "    sci_data.data, (50, 50),\n",
        "    filter_size=(3, 3),\n",
        "    sigma_clip=sigma_clip,\n",
        "    bkg_estimator=bkg_estimator)\n",
        "\n",
        "# Now let's subtract the background from the data\n",
        "sci_bkg = sci_data.data - bkg.background\n",
        "\n",
        "# Define an error image that will be used when calculating photometry\n",
        "effective_gain = 1.\n",
        "error = calc_total_error(sci_bkg, bkg.background_rms, effective_gain)"
      ]
    },
    {
      "cell_type": "markdown",
      "metadata": {
        "id": "LkMScDrEplx2"
      },
      "source": [
        "### c. For the target star and each reference star, carry out photometry. \n",
        "\n",
        "Note: Remember to ensure you are using the _background subtracted_ image. This step should output an error of the photometry measurement. "
      ]
    },
    {
      "cell_type": "code",
      "execution_count": null,
      "metadata": {
        "id": "L5zIlrK-plx3"
      },
      "outputs": [],
      "source": [
        "target_RA  = XXX\n",
        "target_DEC = XXX\n",
        "\n",
        "# Useful reference stars are ones which are bright, but not saturated, and stars which lie within the field of view. \n",
        "\n",
        "#-------------------------------------------------------------------\n",
        "# TO DO: From the list above, choose 5-8 reference stars.\n",
        "#-------------------------------------------------------------------\n",
        "# Construct Python lists for the RA and Dec coordinate values for the stars you've selected from the list displayed in pandas above. \n",
        "# The list mag_calibrated_ref should be defined by a Python list of the relevant magnitudes (make sure to check what filter was used to capture this frame!) for your chosen reference stars.\n",
        "# This subset of stars was selected from the APASS DR20 catalog which can be accessed here: \n",
        "# https://www.aavso.org/apass-dr10-download\n",
        "\n",
        "ref_ra             = []\n",
        "ref_dec            = []\n",
        "mag_calibrated_ref = []\n",
        "\n",
        "# Calculate instrumental mags for each of the reference stars\n",
        "mag_uncalibrated_refs,mag_uncalibrated_refs_err     = do_phot_get_mag(sci_bkg,sci_header,error,ref_ra,ref_dec)\n",
        "\n",
        "# Do photometry on the variable target\n",
        "mag_uncalibrated_target,mag_uncalibrated_target_err = do_phot_get_mag(sci_bkg,sci_header,error,target_RA,target_DEC)\n",
        "\n",
        "print('The error in the calibrated magnitude for the target is: \\n',mag_uncalibrated_target_err)"
      ]
    },
    {
      "cell_type": "markdown",
      "metadata": {
        "id": "IZsED0oKplx4"
      },
      "source": [
        "### d. Find the magnitude offset between the reference stars and the catalog magnitudes (i.e. the zeropoint) and calculate the magnitude of the target star, and its error. "
      ]
    },
    {
      "cell_type": "code",
      "execution_count": null,
      "metadata": {
        "id": "CiMV5eJoplx4"
      },
      "outputs": [],
      "source": [
        "# Calculate the zeropoint\n",
        "offsets = mag_calibrated_ref - np.array(mag_uncalibrated_refs)\n",
        "\n",
        "# Print the offset values\n",
        "print('These are the offsets between m_uncalibrated_ref and m_calibrated_ref: \\n',offsets)\n",
        "\n",
        "# Calculate the zeropoint using a median function\n",
        "zeropoint     = np.median(offsets)\n",
        "zeropoint_err = np.std(offsets)\n",
        "print(f'\\nThe zeropoint and zeropoint error is: {zeropoint:.3f}, {zeropoint_err:.2f}')"
      ]
    },
    {
      "cell_type": "markdown",
      "source": [
        "Finally, we will calculate a magntitude (with error) for our target star in this frame! "
      ],
      "metadata": {
        "id": "JXC0ULUZ5BX1"
      }
    },
    {
      "cell_type": "code",
      "execution_count": null,
      "metadata": {
        "id": "34kPMHYeplx5"
      },
      "outputs": [],
      "source": [
        "# Calculate the calibrated magnitude of the target star and it's error\n",
        "\n",
        "mag_calibrated_target     = mag_uncalibrated_target[0]+zeropoint\n",
        "mag_calibrated_target_err = mag_uncalibrated_target_err[0] + zeropoint_err"
      ]
    },
    {
      "cell_type": "markdown",
      "metadata": {
        "id": "ElP-VIqGplx5"
      },
      "source": [
        "## Exercise / Question"
      ]
    },
    {
      "cell_type": "code",
      "execution_count": null,
      "metadata": {
        "id": "hA10w-J5plx5"
      },
      "outputs": [],
      "source": [
        "# Print the magnitude and magnitude error of your target."
      ]
    },
    {
      "cell_type": "markdown",
      "metadata": {
        "id": "yqYXxRpxplx6"
      },
      "source": [
        "# 6. Create a cutout image around the target star\n",
        "\n",
        "\n",
        "The procedure below allows us to create a little cutout of our target star.\n",
        "\n",
        "We can first define the relevant function:"
      ]
    },
    {
      "cell_type": "code",
      "execution_count": null,
      "metadata": {
        "id": "LjP1-Ylwplx6"
      },
      "outputs": [],
      "source": [
        "# A function that outputs a small cutout of an image given a big image. \n",
        "\n",
        "def make_cutout(data,hdr,ra,dec):\n",
        "\n",
        "    w = wcs.WCS(hdr)\n",
        "    xcoord, ycoord = w.all_world2pix(ra,dec,1)\n",
        "    position = np.transpose((xcoord, ycoord))\n",
        "    size = u.Quantity([120, 120], u.pixel)\n",
        "    cutout = Cutout2D(data, position, size, wcs=w, mode='strict')\n",
        "\n",
        "    cutout_wcs = cutout.wcs\n",
        "    header = cutout_wcs.to_header()\n",
        "    hdu = fits.PrimaryHDU(data=cutout.data, header=header)\n",
        "\n",
        "    return hdu"
      ]
    },
    {
      "cell_type": "markdown",
      "source": [
        "Then we can plot it out and save this image as a new file named `cutout.png`."
      ],
      "metadata": {
        "id": "TnWaM_te5hUY"
      }
    },
    {
      "cell_type": "code",
      "execution_count": null,
      "metadata": {
        "id": "6GCN9_GHplx6"
      },
      "outputs": [],
      "source": [
        "# Make tiny cutouts of the variable star in each frame\n",
        "cutout_hdu = make_cutout(sci_bkg,sci_header,target_RA,target_DEC)\n",
        "\n",
        "# Plot figures using these cutouts and output images\n",
        "interval = ZScaleInterval()\n",
        "vmin = interval.get_limits(cutout_hdu.data)[0]\n",
        "vmax = interval.get_limits(cutout_hdu.data)[1]\n",
        "\n",
        "plt.subplot(projection=wcs.WCS(cutout_hdu.header))\n",
        "plt.imshow(cutout_hdu.data, vmin=vmin, vmax=vmax, origin='lower')\n",
        "plt.xlabel('R.A.')\n",
        "plt.ylabel('Declination')\n",
        "\n",
        "# Save the small cutout as a png, with the file name as the time of observation. \n",
        "# This can be used later to make a movie of your source\n",
        "pngname = 'cutout'\n",
        "plt.savefig(mypath+pngname+'.png', overwrite=True)"
      ]
    },
    {
      "cell_type": "markdown",
      "metadata": {
        "id": "WTs1DfSMplx7"
      },
      "source": [
        "# Final Exercise\n",
        "\n",
        "Select some other star (different from your target star and not one you have used as a reference star!) as your target star, and calculate the calibrated magnitude of that star in this exposure."
      ]
    },
    {
      "cell_type": "code",
      "source": [],
      "metadata": {
        "id": "0ONmcs_J547G"
      },
      "execution_count": null,
      "outputs": []
    }
  ],
  "metadata": {
    "kernelspec": {
      "display_name": "Python 3",
      "language": "python",
      "name": "python3"
    },
    "language_info": {
      "codemirror_mode": {
        "name": "ipython",
        "version": 3
      },
      "file_extension": ".py",
      "mimetype": "text/x-python",
      "name": "python",
      "nbconvert_exporter": "python",
      "pygments_lexer": "ipython3",
      "version": "3.8.3"
    },
    "toc": {
      "base_numbering": 1,
      "nav_menu": {},
      "number_sections": true,
      "sideBar": true,
      "skip_h1_title": false,
      "title_cell": "Table of Contents",
      "title_sidebar": "Contents",
      "toc_cell": false,
      "toc_position": {},
      "toc_section_display": true,
      "toc_window_display": false
    },
    "colab": {
      "provenance": []
    }
  },
  "nbformat": 4,
  "nbformat_minor": 0
}