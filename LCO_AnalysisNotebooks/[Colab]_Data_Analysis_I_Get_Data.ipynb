{
  "nbformat": 4,
  "nbformat_minor": 0,
  "metadata": {
    "colab": {
      "provenance": []
    },
    "kernelspec": {
      "name": "python3",
      "display_name": "Python 3"
    },
    "language_info": {
      "name": "python"
    }
  },
  "cells": [
    {
      "cell_type": "markdown",
      "source": [
        "# Downloading Your Data from LCO to Google Drive\n",
        "\n",
        "In this notebook we will outline a process that will allow you to automatically transfer the data for your target from the LCO Archive directly to a folder in your Google Drive. This will allow you to both access and analyze your science data entirely within the cloud!"
      ],
      "metadata": {
        "id": "uVQUA-2yWxap"
      }
    },
    {
      "cell_type": "markdown",
      "source": [
        "Let's start by first importing some necessary items.."
      ],
      "metadata": {
        "id": "47KOuLrgY_MJ"
      }
    },
    {
      "cell_type": "code",
      "execution_count": null,
      "metadata": {
        "id": "Ikq2jvPM2ngc"
      },
      "outputs": [],
      "source": [
        "import requests\n",
        "import numpy as np\n",
        "import datetime\n",
        "import json\n",
        "\n",
        "from IPython.display import Image, display\n",
        "from IPython.core.display import HTML\n",
        "from astropy.io import fits"
      ]
    },
    {
      "cell_type": "markdown",
      "source": [
        "# Accessing the LCO Data Archive\n",
        "\n",
        "The first step is to gain access to the observing portal using our API token.."
      ],
      "metadata": {
        "id": "blkwIfAHZEVO"
      }
    },
    {
      "cell_type": "code",
      "source": [
        "token = \"PUT_TOKEN_HERE\"\n",
        "obs_portal = 'https://observe.lco.global/api/requestgroups/{}/'\n",
        "headers = {'Authorization': 'Token {}'.format(token)}"
      ],
      "metadata": {
        "id": "94Q8o4UA2wCD"
      },
      "execution_count": null,
      "outputs": []
    },
    {
      "cell_type": "markdown",
      "source": [
        "Next, we can request information about the set of observations we requested using our `request_id`.\n",
        "\n",
        "Set the `request_id` variable below to your ID (you will be given this by a PASEA-ARP instructor)."
      ],
      "metadata": {
        "id": "Xw1do9GrdHJk"
      }
    },
    {
      "cell_type": "code",
      "source": [
        "request_id = 'REQ_ID_HERE'\n",
        "url = obs_portal.format(request_id)\n",
        "r = requests.get(url, headers=headers, timeout=20.0)\n",
        "\n",
        "print(r)"
      ],
      "metadata": {
        "id": "r5AV-W0p48GS"
      },
      "execution_count": null,
      "outputs": []
    },
    {
      "cell_type": "markdown",
      "source": [
        "In the next cell we will run a line of code that checks to see if the requested observations are completed. If it returns \"COMPLETED' then you're good to go! "
      ],
      "metadata": {
        "id": "XYTzIN33WnwP"
      }
    },
    {
      "cell_type": "code",
      "source": [
        "print(r.json()['state'])"
      ],
      "metadata": {
        "id": "Lt6Nt4mqSuH4"
      },
      "execution_count": null,
      "outputs": []
    },
    {
      "cell_type": "markdown",
      "source": [
        "Each individual observation made of your target (i.e. each exposure or data frame) is given a unique observation ID number. This means that a given request to LCO will have many observation IDs associated with it. In other words, a given `request_id` will have multiple `obs_ids`.\n",
        "\n",
        "The code below returns a list (`obs_ids`) of all observation IDs linked to your requested data set."
      ],
      "metadata": {
        "id": "eomcwbV5gqJ8"
      }
    },
    {
      "cell_type": "code",
      "source": [
        "obs_ids = [rs['id'] for rs in r.json()['requests']]\n",
        "print(obs_ids)"
      ],
      "metadata": {
        "id": "QZwHU79RS8DF"
      },
      "execution_count": null,
      "outputs": []
    },
    {
      "cell_type": "markdown",
      "source": [
        "In the next step, we will login to the LCO Science Archive (which houses all the public science data taken by LCO) to snag our Archive access token.\n",
        "\n",
        "In the cell below, fill in `username` and `password` dictionary fields with your own username and password for the LCO Archive. \n",
        "\n",
        "If you don't have an account at the LCO Data Archive yet, you can create one [here](https://archive.lco.global/). Note: these values are case-sensitive."
      ],
      "metadata": {
        "id": "KPmhO5aVmofb"
      }
    },
    {
      "cell_type": "code",
      "source": [
        "ARCHIVE_API = 'https://archive.lco.global/?REQNUM={}&start=2014-01-01'\n",
        "ar = requests.post(\n",
        "    'https://archive-api.lco.global/api-token-auth/',\n",
        "    data = {\n",
        "        'username': 'XXX',\n",
        "        'password': 'XXX'\n",
        "    }\n",
        ")\n",
        "ar_token = ar.json()['token']\n",
        "archive_headers={'Authorization': 'Token {}'.format(ar_token)}"
      ],
      "metadata": {
        "id": "aP5D7AbrkFII"
      },
      "execution_count": null,
      "outputs": []
    },
    {
      "cell_type": "markdown",
      "source": [
        "Let's start with just one observation ID. Choose one from the `obs_ids` list above and paste it into the `id_num` variable below."
      ],
      "metadata": {
        "id": "SaoqOrr_sWd8"
      }
    },
    {
      "cell_type": "code",
      "source": [
        "id_num = #YOUR_OBS_ID_NUM_HERE\n",
        "reduc_lvl = 91\n",
        "\n",
        "ar = requests.get(f'https://archive-api.lco.global/frames/?REQNUM={id_num}&RLEVEL={reduc_lvl}',headers=archive_headers,)\n",
        "\n",
        "ar.status_code"
      ],
      "metadata": {
        "id": "B6US_hxQqG20"
      },
      "execution_count": null,
      "outputs": []
    },
    {
      "cell_type": "markdown",
      "source": [
        "Now let's check and see how many files are included in this individual observation.."
      ],
      "metadata": {
        "id": "ia2LpucAsieS"
      }
    },
    {
      "cell_type": "code",
      "source": [
        "print(\"You have {} data files \".format(ar.json()['count']))"
      ],
      "metadata": {
        "id": "nOCEa4QsorfR"
      },
      "execution_count": null,
      "outputs": []
    },
    {
      "cell_type": "markdown",
      "source": [
        "## Exercise / Question\n",
        "\n",
        "Hmm! There's TWO! Why might that be? 🤔\n",
        "\n",
        "Hint: 🌈"
      ],
      "metadata": {
        "id": "JZo9WMHNsrkK"
      }
    },
    {
      "cell_type": "markdown",
      "source": [
        "One fun thing we can do now that we've linked up with some of the data is to visualize the frames within this single set of exposures.."
      ],
      "metadata": {
        "id": "V0Pw5MrTYWBl"
      }
    },
    {
      "cell_type": "code",
      "source": [
        "for req in ar.json()['results'][0:2]:\n",
        "    get_thumb = requests.get('https://thumbnails.lco.global/{}/'.format(req['id'])).json()\n",
        "    display(Image(url= get_thumb['url'], width=300, height=300))\n",
        "    print(req['id'])"
      ],
      "metadata": {
        "id": "5aviym75rC9h"
      },
      "execution_count": null,
      "outputs": []
    },
    {
      "cell_type": "markdown",
      "source": [
        "## Exercise / Question\n",
        "\n",
        "Compare and contrast the two frames above.\n",
        "\n",
        "Can you explain why the two frames look different?"
      ],
      "metadata": {
        "id": "FT83f6gUYhUL"
      }
    },
    {
      "cell_type": "markdown",
      "source": [
        "# Downloading the Archive Data into Directories on Google Drive\n",
        "\n",
        "Now that we've established how to access data in the LCO Archive using notebooks, we need to prep our Google Drive space to save the data."
      ],
      "metadata": {
        "id": "AZkDdShfzD2u"
      }
    },
    {
      "cell_type": "markdown",
      "source": [
        "let's begin by first mounting our Drive directory so that it can be accessed by this notebook.\n",
        "\n",
        "⚠️ NOTE: ⚠️ When you run the cell below it will launch a pop up window from Google that will ask you to authorize Colab to access your Google Drive space. This step is _necessary_! You should make sure you're authorizing the right Google account before you proceed."
      ],
      "metadata": {
        "id": "PGaNnxb3zdnb"
      }
    },
    {
      "cell_type": "code",
      "source": [
        "from google.colab import drive\n",
        "drive.mount('/content/drive')"
      ],
      "metadata": {
        "id": "Xv_CzCEJyk3N"
      },
      "execution_count": null,
      "outputs": []
    },
    {
      "cell_type": "markdown",
      "source": [
        "Next, we need to make a directory in our Google Drive space to house all of our LCO data. Let's call this folder \"LCO\":"
      ],
      "metadata": {
        "id": "XFECNnAnVsdE"
      }
    },
    {
      "cell_type": "code",
      "source": [
        "import os\n",
        "os.mkdir(\"/content/drive/MyDrive/LCO/\")"
      ],
      "metadata": {
        "id": "exC4vMti1LW4"
      },
      "execution_count": null,
      "outputs": []
    },
    {
      "cell_type": "markdown",
      "source": [
        "If you load up your Google Drive in a new browser tab, you should now see the directory there. \n",
        "\n",
        "Another way of checking is by clicking on the folder icon in the left-hand side bar, which shows the full directory tree of your Google Drive."
      ],
      "metadata": {
        "id": "hMdMBYWdV4YY"
      }
    },
    {
      "cell_type": "markdown",
      "source": [
        "Remember that a given observation request has a number of observation IDs associated with it. We want to download all of the reduced data for this observation request.\n",
        "\n",
        "So the next step is to use a `for` loop to iterate over all `obs_ids` and download all the reduced data.\n",
        "\n",
        "NOTE: This next cell may take a while to run, depending on how many exposures are linked with your request. Please be patient! "
      ],
      "metadata": {
        "id": "4Zsco5g8pp3L"
      }
    },
    {
      "cell_type": "code",
      "source": [
        "for id in obs_ids:\n",
        "  reduc_lvl = 91\n",
        "  myreq = requests.get(f'https://archive-api.lco.global/frames/?REQNUM={id}&RLEVEL={reduc_lvl}',headers=archive_headers,)\n",
        "  for req in myreq.json()['results'][0:2]:\n",
        "    !wget -O /content/drive/MyDrive/LCO/\"{req['basename']}\".fits.fz \"{req['url']}\""
      ],
      "metadata": {
        "id": "WLwGGbRD36Yz"
      },
      "execution_count": null,
      "outputs": []
    },
    {
      "cell_type": "markdown",
      "source": [
        "Now check out your Google Drive \"LCO\" directory - the data should be all there! 🙌"
      ],
      "metadata": {
        "id": "jBBxBu6oVLvX"
      }
    },
    {
      "cell_type": "markdown",
      "source": [
        "## Exercise / Question\n",
        "\n",
        "Your next step before proceeding to the next notebook is to use the methods you learned in the Python workshop to write some code that allows you to access the headers of these data files and determine the filter used by the telescope. Remember, you requested observations of your target in more than one filter!\n",
        "\n",
        "Then seperate the data files into TWO folders within the LCO directory, each labeled for the respective filter (i.e. \"B\", etc).\n",
        "\n",
        "When you're done, proceed to the Data Analysis II notebook. ➡️"
      ],
      "metadata": {
        "id": "-5oJ_TbIX8Co"
      }
    },
    {
      "cell_type": "code",
      "source": [
        "# YOUR CODE HERE"
      ],
      "metadata": {
        "id": "A8H_d9gEVVLN"
      },
      "execution_count": null,
      "outputs": []
    },
    {
      "cell_type": "code",
      "source": [],
      "metadata": {
        "id": "FpgIZ1LEZJQb"
      },
      "execution_count": null,
      "outputs": []
    }
  ]
}