{
 "cells": [
  {
   "cell_type": "markdown",
   "metadata": {},
   "source": [
    "# It's Day 1 of the workshop and I know some things!"
   ]
  },
  {
   "cell_type": "markdown",
   "metadata": {},
   "source": [
    "Welcome to day 1 of the bootcamp! Now that we've covered the basics, we can start diving into what makes programming useful and powerful. To begin, let's quickly review what we learned in the pre-workshop. *Note: You'll need to run all code cells of this tutorial in order.*\n",
    "\n",
    "### Variable Declarations\n",
    "We learned that to store information (of any kind) in Python, we want to set a variable name equal to that information, and then use that name to perform calculations on it.\n",
    "\n",
    "### Data Types\n",
    "We learned that Python has different rules for different kinds of data — it performs calculations differently on integers than on floats, treats lists differently than numpy arrays, etc. Figuring out what data type is the most efficient and effective way to work with your data is one of the key conceptual skills to learn when programming. \n",
    "\n",
    "### Lists and Indexing\n",
    "We learned that the \"default\" way to store simple data (say, a bunch of numbers) is in a **list**, which can then be **indexed** by element number (starting with zero) to extract values from the list. We learned that lists can be fed into certain functions, like sum(), to return the sum of all numbers in the list (assuming the list is, indeed, all numbers). \n",
    "\n",
    "### Debugging (barely)\n",
    "You probably didn't notice, but we practiced a little bit of debugging as well — we printed out lists to make sure they were filled with the numbers we wanted after a calculation, a simple form of debugging! \n",
    "\n",
    "## What we will cover here\n",
    "By the end of this tutorial, I hope you will be able to handle the first task a professor might give you when starting to do research with them — loading up some data from a simple ASCII file, performing some calculations, and plotting it. To do all this, we will need to learn a bit of the Numpy and **Pandas** Libraries, some **conditional statements** and **loops**, and some new plotting techniques. We will also introduce the concept of **functions** here that is important for advanced Python programming. Without further ado, let's jump in! "
   ]
  },
  {
   "cell_type": "markdown",
   "metadata": {},
   "source": [
    "### Numpy, Scipy, Matplotlib, and Beyond\n",
    "In the pre-workshop tutorial, we had to resort to calling a special data type that was not native to Python — the Numpy Array. This was useful to us because of a special behavior: Operating math on an array performs the operation on each value in the array, useful for say, subtracting the mean from every value and then squaring every value. \n",
    "\n",
    "But what *is* Numpy, actually? \n",
    "\n",
    "Believe it or not, from a mathematical perspective, what you saw in the previous tutorial was just about the limit of Python's native math functionality. You can add, subtract, multiply, exponentiate, and take modulos. To do anything more complicated — like, say, calculate a sine or cosine, we need to actually **import** libraries of functions which can accomplish these tasks. \n",
    "\n",
    "#### What's a function? \n",
    "It's useful to take a second to make sure we're on the same page about functions. A function is something that takes one or more inputs, and spits something out. When, in math class, you write y = sin(x), \"sin\" is the function you are using. The \"x\" you are plugging in is the *argument* of that function, and you are storing its *output* in the variable \"y\". If I use the range() function, to create a list from 1 to 10, "
   ]
  },
  {
   "cell_type": "code",
   "execution_count": 7,
   "metadata": {},
   "outputs": [
    {
     "name": "stdout",
     "output_type": "stream",
     "text": [
      "range(1, 11)\n"
     ]
    }
   ],
   "source": [
    "y = range(1, 11)\n",
    "print(y)"
   ]
  },
  {
   "cell_type": "markdown",
   "metadata": {},
   "source": [
    "Then \"1\" and \"11\" are arguments to the range function, and it's output is stored in \"y\". Note that print() is also a function — it takes in the argument \"y\" and spits out its value onto the screen. \n",
    "\n",
    "Back to the task at hand. If I want to calculate the sine of a number, $x$, I can't do that in native Python. But luckily, many clever people have crafted libraries of functions which can. "
   ]
  },
  {
   "cell_type": "code",
   "execution_count": 8,
   "metadata": {},
   "outputs": [],
   "source": [
    "import numpy as np\n",
    "import matplotlib.pyplot as plt\n",
    "%matplotlib inline"
   ]
  },
  {
   "cell_type": "markdown",
   "metadata": {},
   "source": [
    "Okay, so to use these libraries of functions, I have to **import** them into my code, as I have above. Notice that I could just \"import numpy\" as well — but Python lets you give the library a \"nickname\" shorthand so that in your code, you don't have to type out \"numpy\" every time. In other libraries, you can choose whatever you want, but generally, numpy is imported as np and matplotlib.pyplot (a subset of matplotlib with the plotting commands we'll be using) as plt. Don't worry about the \"inline\" — it's just required to make plots appear in this notebook rather than a separate window.\n",
    "\n",
    "Now, I can create my sine:"
   ]
  },
  {
   "cell_type": "code",
   "execution_count": 9,
   "metadata": {},
   "outputs": [],
   "source": [
    "x = np.linspace(0, 10, 100)\n",
    "y = np.sin(x)"
   ]
  },
  {
   "cell_type": "markdown",
   "metadata": {},
   "source": [
    "Woah! New function alert! I also just used np.linspace(), a function which, unlike range (which has you pick a start and stop and advances by integer (or multiples) steps in between),  lets you pick a start, a stop, and a number of subdivisions, and then will try to space them evenly. Read it as \"give me an array from 0 to 10 with 100 evenly spaced points.\" Read line two as \"Give me an array that contains the sine of each value in the x array.\" \n",
    "\n",
    "Now let's whip out our plotting:"
   ]
  },
  {
   "cell_type": "code",
   "execution_count": 10,
   "metadata": {},
   "outputs": [
    {
     "data": {
      "text/plain": [
       "[<matplotlib.lines.Line2D at 0x7fedb7dcf8e0>]"
      ]
     },
     "execution_count": 10,
     "metadata": {},
     "output_type": "execute_result"
    },
    {
     "data": {
      "image/png": "[encoded data removed]",
      "text/plain": [
       "<Figure size 432x288 with 1 Axes>"
      ]
     },
     "metadata": {
      "needs_background": "light"
     },
     "output_type": "display_data"
    }
   ],
   "source": [
    "plt.plot(x,y)"
   ]
  },
  {
   "cell_type": "markdown",
   "metadata": {},
   "source": [
    "The above is the absolute barebones you can plot: $x$ against $y$. We've used fancier plotting techniques before and will get into them a bit later. \n",
    "\n",
    "## Loading Data from a File\n",
    "It is day 1 of your new research assignment. You've just met with the professor or post-doc. They've probably given you like 10,000 papers to read (skim). They might also have given you a file or two of data, and told you to \"familiarize\" yourself with the format, get it into Python, and make some plots. \n",
    "\n",
    "This is what we are going to learn to do now.\n",
    "\n",
    "### Loadtxt() and Genfromtxt()\n",
    "Astronomical data are stored in a huge variety of file formats and organizational schemes. Let's start with the most simple and build up. In Ye Olde Days, basically all data were kept in plaintext ASCII files — in short, text. Things have changed recently, though often times data tables are still the most efficient means of storage, they are now wrapped inside file formats like FITS and HDF5 to make them more portable and stable over time. At the end of the day, we are most interested in getting past those layers of protocols to the raw numbers underneath, which we want sitting around in arrays we can mess with. \n",
    "\n",
    "We started with the most simple of cases in the previous tutorial: The ASCII text file. We will be going over FITS files on day 2 the workshop, but for now let's stick to text files. You should have access to the \"cumulative_2022.06.13_17.10.09.csv\" file in the \"pasea-arp/Day_1\" folder on your Google Drive (you uploaded the \"pasea-arp\" GitHub repository to your Drive in the pre-workshop tutorial). This file contains Kepler data that we will investigate to understand exoplanets!\n",
    "\n",
    "Your first task: use the cell below to load the data using Numpy's loadtxt() function into a variable called \"kepler\".\n",
    "\n",
    "The file you are loading contains several \"ID\" and \"name\" columns, the first is the Kepler ID, the second is the Kepler object of interest (KOI) name, and the third is the Kepler name. So, make sure you use the right \"dtype\" option as you did in the last tutorial."
   ]
  },
  {
   "cell_type": "code",
   "execution_count": 11,
   "metadata": {},
   "outputs": [],
   "source": [
    "# Your code here (remember to mount the Google Drive)\n",
    "from google.colab import drive\n",
    "drive.mount('/content/drive')\n",
    "\n",
    "kepler_array = np.loadtxt('drive/My Drive/pasea-arp/Day_1/cumulative_2022.06.13_17.10.09.csv',\n",
    "                          delimiter=',', dtype='str')"
   ]
  },
  {
   "cell_type": "markdown",
   "metadata": {},
   "source": [
    "In the cell below, once you get it to load without throwing an error, print the array to see what it looks like. "
   ]
  },
  {
   "cell_type": "code",
   "execution_count": 12,
   "metadata": {},
   "outputs": [
    {
     "data": {
      "text/plain": [
       "array([['kepid', 'kepoi_name', 'kepler_name', ..., 'koi_dikco_mdec_err',\n",
       "        'koi_dikco_msky', 'koi_dikco_msky_err'],\n",
       "       ['10797460', 'K00752.01', 'Kepler-227 b', ..., '0.1700', '0.3200',\n",
       "        '0.1600'],\n",
       "       ['10797460', 'K00752.02', 'Kepler-227 c', ..., '0.7300', '0.5000',\n",
       "        '0.4500'],\n",
       "       ...,\n",
       "       ['10147276', 'K07987.01', '', ..., '0.2600', '5.1600', '0.2200'],\n",
       "       ['10155286', 'K07988.01', '', ..., '0.6600', '2.0000', '0.4600'],\n",
       "       ['10156110', 'K07989.01', '', ..., '1.1000', '3.5000', '1.1000']],\n",
       "      dtype='<U210')"
      ]
     },
     "execution_count": 12,
     "metadata": {},
     "output_type": "execute_result"
    }
   ],
   "source": [
    "kepler_array"
   ]
  },
  {
   "cell_type": "markdown",
   "metadata": {},
   "source": [
    "Notice how none of the lines starting with a \"#\" in the \"cumulative_2022.04.26_22.11.54.csv\" file are present in \"kepler_array\". This is because np.loadtxt() removes any \"#\" lines by default as they represent comments. You can explicitly specify what symbol represents comments using the \"comments\" keyword."
   ]
  },
  {
   "cell_type": "markdown",
   "metadata": {},
   "source": [
    "There are other ways to load text files. You can use the \"np.genfromtxt()\" function that is slightly more powerful than np.loadtxt(). You can look up the documentation of np.genfromtxt() to see this for yourself. There is also the **pandas** library for data analysis and manipulation that I recommend you use for loading csv files! Let's import this library"
   ]
  },
  {
   "cell_type": "code",
   "execution_count": 13,
   "metadata": {},
   "outputs": [],
   "source": [
    "import pandas as pd"
   ]
  },
  {
   "cell_type": "markdown",
   "metadata": {},
   "source": [
    "Now, we can read the kepler file using the \"pd.read_csv()\" function as follows:"
   ]
  },
  {
   "cell_type": "code",
   "execution_count": 14,
   "metadata": {},
   "outputs": [],
   "source": [
    "kepler_df = pd.read_csv('drive/My Drive/pasea-arp/Day_1/cumulative_2022.06.13_17.10.09.csv', comment=\"#\")"
   ]
  },
  {
   "cell_type": "markdown",
   "metadata": {},
   "source": [
    "Now print \"kepler_df\""
   ]
  },
  {
   "cell_type": "code",
   "execution_count": 15,
   "metadata": {},
   "outputs": [
    {
     "data": {
      "text/html": [
       "<div>\n",
       "<style scoped>\n",
       "    .dataframe tbody tr th:only-of-type {\n",
       "        vertical-align: middle;\n",
       "    }\n",
       "\n",
       "    .dataframe tbody tr th {\n",
       "        vertical-align: top;\n",
       "    }\n",
       "\n",
       "    .dataframe thead th {\n",
       "        text-align: right;\n",
       "    }\n",
       "</style>\n",
       "<table border=\"1\" class=\"dataframe\">\n",
       "  <thead>\n",
       "    <tr style=\"text-align: right;\">\n",
       "      <th></th>\n",
       "      <th>kepid</th>\n",
       "      <th>kepoi_name</th>\n",
       "      <th>kepler_name</th>\n",
       "      <th>koi_disposition</th>\n",
       "      <th>koi_vet_stat</th>\n",
       "      <th>koi_vet_date</th>\n",
       "      <th>koi_pdisposition</th>\n",
       "      <th>koi_score</th>\n",
       "      <th>koi_fpflag_nt</th>\n",
       "      <th>koi_fpflag_ss</th>\n",
       "      <th>...</th>\n",
       "      <th>koi_dicco_mdec</th>\n",
       "      <th>koi_dicco_mdec_err</th>\n",
       "      <th>koi_dicco_msky</th>\n",
       "      <th>koi_dicco_msky_err</th>\n",
       "      <th>koi_dikco_mra</th>\n",
       "      <th>koi_dikco_mra_err</th>\n",
       "      <th>koi_dikco_mdec</th>\n",
       "      <th>koi_dikco_mdec_err</th>\n",
       "      <th>koi_dikco_msky</th>\n",
       "      <th>koi_dikco_msky_err</th>\n",
       "    </tr>\n",
       "  </thead>\n",
       "  <tbody>\n",
       "    <tr>\n",
       "      <th>0</th>\n",
       "      <td>10797460</td>\n",
       "      <td>K00752.01</td>\n",
       "      <td>Kepler-227 b</td>\n",
       "      <td>CONFIRMED</td>\n",
       "      <td>Done</td>\n",
       "      <td>2018-08-16</td>\n",
       "      <td>CANDIDATE</td>\n",
       "      <td>1.000</td>\n",
       "      <td>0</td>\n",
       "      <td>0</td>\n",
       "      <td>...</td>\n",
       "      <td>0.200</td>\n",
       "      <td>0.160</td>\n",
       "      <td>0.200</td>\n",
       "      <td>0.170</td>\n",
       "      <td>0.080</td>\n",
       "      <td>0.130</td>\n",
       "      <td>0.310</td>\n",
       "      <td>0.170</td>\n",
       "      <td>0.320</td>\n",
       "      <td>0.160</td>\n",
       "    </tr>\n",
       "    <tr>\n",
       "      <th>1</th>\n",
       "      <td>10797460</td>\n",
       "      <td>K00752.02</td>\n",
       "      <td>Kepler-227 c</td>\n",
       "      <td>CONFIRMED</td>\n",
       "      <td>Done</td>\n",
       "      <td>2018-08-16</td>\n",
       "      <td>CANDIDATE</td>\n",
       "      <td>0.969</td>\n",
       "      <td>0</td>\n",
       "      <td>0</td>\n",
       "      <td>...</td>\n",
       "      <td>0.000</td>\n",
       "      <td>0.480</td>\n",
       "      <td>0.390</td>\n",
       "      <td>0.360</td>\n",
       "      <td>0.490</td>\n",
       "      <td>0.340</td>\n",
       "      <td>0.120</td>\n",
       "      <td>0.730</td>\n",
       "      <td>0.500</td>\n",
       "      <td>0.450</td>\n",
       "    </tr>\n",
       "    <tr>\n",
       "      <th>2</th>\n",
       "      <td>10811496</td>\n",
       "      <td>K00753.01</td>\n",
       "      <td>NaN</td>\n",
       "      <td>CANDIDATE</td>\n",
       "      <td>Done</td>\n",
       "      <td>2018-08-16</td>\n",
       "      <td>CANDIDATE</td>\n",
       "      <td>0.000</td>\n",
       "      <td>0</td>\n",
       "      <td>0</td>\n",
       "      <td>...</td>\n",
       "      <td>-0.034</td>\n",
       "      <td>0.070</td>\n",
       "      <td>0.042</td>\n",
       "      <td>0.072</td>\n",
       "      <td>0.002</td>\n",
       "      <td>0.071</td>\n",
       "      <td>-0.027</td>\n",
       "      <td>0.074</td>\n",
       "      <td>0.027</td>\n",
       "      <td>0.074</td>\n",
       "    </tr>\n",
       "    <tr>\n",
       "      <th>3</th>\n",
       "      <td>10848459</td>\n",
       "      <td>K00754.01</td>\n",
       "      <td>NaN</td>\n",
       "      <td>FALSE POSITIVE</td>\n",
       "      <td>Done</td>\n",
       "      <td>2018-08-16</td>\n",
       "      <td>FALSE POSITIVE</td>\n",
       "      <td>0.000</td>\n",
       "      <td>0</td>\n",
       "      <td>1</td>\n",
       "      <td>...</td>\n",
       "      <td>0.147</td>\n",
       "      <td>0.078</td>\n",
       "      <td>0.289</td>\n",
       "      <td>0.079</td>\n",
       "      <td>-0.257</td>\n",
       "      <td>0.072</td>\n",
       "      <td>0.099</td>\n",
       "      <td>0.077</td>\n",
       "      <td>0.276</td>\n",
       "      <td>0.076</td>\n",
       "    </tr>\n",
       "    <tr>\n",
       "      <th>4</th>\n",
       "      <td>10854555</td>\n",
       "      <td>K00755.01</td>\n",
       "      <td>Kepler-664 b</td>\n",
       "      <td>CONFIRMED</td>\n",
       "      <td>Done</td>\n",
       "      <td>2018-08-16</td>\n",
       "      <td>CANDIDATE</td>\n",
       "      <td>1.000</td>\n",
       "      <td>0</td>\n",
       "      <td>0</td>\n",
       "      <td>...</td>\n",
       "      <td>-0.090</td>\n",
       "      <td>0.180</td>\n",
       "      <td>0.100</td>\n",
       "      <td>0.140</td>\n",
       "      <td>0.070</td>\n",
       "      <td>0.180</td>\n",
       "      <td>0.020</td>\n",
       "      <td>0.160</td>\n",
       "      <td>0.070</td>\n",
       "      <td>0.200</td>\n",
       "    </tr>\n",
       "    <tr>\n",
       "      <th>...</th>\n",
       "      <td>...</td>\n",
       "      <td>...</td>\n",
       "      <td>...</td>\n",
       "      <td>...</td>\n",
       "      <td>...</td>\n",
       "      <td>...</td>\n",
       "      <td>...</td>\n",
       "      <td>...</td>\n",
       "      <td>...</td>\n",
       "      <td>...</td>\n",
       "      <td>...</td>\n",
       "      <td>...</td>\n",
       "      <td>...</td>\n",
       "      <td>...</td>\n",
       "      <td>...</td>\n",
       "      <td>...</td>\n",
       "      <td>...</td>\n",
       "      <td>...</td>\n",
       "      <td>...</td>\n",
       "      <td>...</td>\n",
       "      <td>...</td>\n",
       "    </tr>\n",
       "    <tr>\n",
       "      <th>9559</th>\n",
       "      <td>10090151</td>\n",
       "      <td>K07985.01</td>\n",
       "      <td>NaN</td>\n",
       "      <td>FALSE POSITIVE</td>\n",
       "      <td>Done</td>\n",
       "      <td>2018-08-16</td>\n",
       "      <td>FALSE POSITIVE</td>\n",
       "      <td>0.000</td>\n",
       "      <td>0</td>\n",
       "      <td>1</td>\n",
       "      <td>...</td>\n",
       "      <td>-1.757</td>\n",
       "      <td>0.068</td>\n",
       "      <td>2.763</td>\n",
       "      <td>0.074</td>\n",
       "      <td>2.344</td>\n",
       "      <td>0.072</td>\n",
       "      <td>-1.756</td>\n",
       "      <td>0.068</td>\n",
       "      <td>2.929</td>\n",
       "      <td>0.072</td>\n",
       "    </tr>\n",
       "    <tr>\n",
       "      <th>9560</th>\n",
       "      <td>10128825</td>\n",
       "      <td>K07986.01</td>\n",
       "      <td>NaN</td>\n",
       "      <td>CANDIDATE</td>\n",
       "      <td>Done</td>\n",
       "      <td>2018-08-16</td>\n",
       "      <td>CANDIDATE</td>\n",
       "      <td>0.497</td>\n",
       "      <td>0</td>\n",
       "      <td>0</td>\n",
       "      <td>...</td>\n",
       "      <td>-0.250</td>\n",
       "      <td>0.490</td>\n",
       "      <td>0.780</td>\n",
       "      <td>0.460</td>\n",
       "      <td>0.500</td>\n",
       "      <td>0.400</td>\n",
       "      <td>-0.180</td>\n",
       "      <td>0.470</td>\n",
       "      <td>0.530</td>\n",
       "      <td>0.470</td>\n",
       "    </tr>\n",
       "    <tr>\n",
       "      <th>9561</th>\n",
       "      <td>10147276</td>\n",
       "      <td>K07987.01</td>\n",
       "      <td>NaN</td>\n",
       "      <td>FALSE POSITIVE</td>\n",
       "      <td>Done</td>\n",
       "      <td>2018-08-16</td>\n",
       "      <td>FALSE POSITIVE</td>\n",
       "      <td>0.021</td>\n",
       "      <td>0</td>\n",
       "      <td>0</td>\n",
       "      <td>...</td>\n",
       "      <td>-3.650</td>\n",
       "      <td>0.260</td>\n",
       "      <td>5.000</td>\n",
       "      <td>0.220</td>\n",
       "      <td>3.380</td>\n",
       "      <td>0.160</td>\n",
       "      <td>-3.890</td>\n",
       "      <td>0.260</td>\n",
       "      <td>5.160</td>\n",
       "      <td>0.220</td>\n",
       "    </tr>\n",
       "    <tr>\n",
       "      <th>9562</th>\n",
       "      <td>10155286</td>\n",
       "      <td>K07988.01</td>\n",
       "      <td>NaN</td>\n",
       "      <td>CANDIDATE</td>\n",
       "      <td>Done</td>\n",
       "      <td>2018-08-16</td>\n",
       "      <td>CANDIDATE</td>\n",
       "      <td>0.092</td>\n",
       "      <td>0</td>\n",
       "      <td>0</td>\n",
       "      <td>...</td>\n",
       "      <td>1.320</td>\n",
       "      <td>0.670</td>\n",
       "      <td>1.690</td>\n",
       "      <td>0.530</td>\n",
       "      <td>1.450</td>\n",
       "      <td>0.110</td>\n",
       "      <td>1.370</td>\n",
       "      <td>0.660</td>\n",
       "      <td>2.000</td>\n",
       "      <td>0.460</td>\n",
       "    </tr>\n",
       "    <tr>\n",
       "      <th>9563</th>\n",
       "      <td>10156110</td>\n",
       "      <td>K07989.01</td>\n",
       "      <td>NaN</td>\n",
       "      <td>FALSE POSITIVE</td>\n",
       "      <td>Done</td>\n",
       "      <td>2018-08-16</td>\n",
       "      <td>FALSE POSITIVE</td>\n",
       "      <td>0.000</td>\n",
       "      <td>0</td>\n",
       "      <td>0</td>\n",
       "      <td>...</td>\n",
       "      <td>3.300</td>\n",
       "      <td>1.100</td>\n",
       "      <td>3.400</td>\n",
       "      <td>1.100</td>\n",
       "      <td>0.960</td>\n",
       "      <td>0.670</td>\n",
       "      <td>3.400</td>\n",
       "      <td>1.100</td>\n",
       "      <td>3.500</td>\n",
       "      <td>1.100</td>\n",
       "    </tr>\n",
       "  </tbody>\n",
       "</table>\n",
       "<p>9564 rows × 140 columns</p>\n",
       "</div>"
      ],
      "text/plain": [
       "         kepid kepoi_name   kepler_name koi_disposition koi_vet_stat  \\\n",
       "0     10797460  K00752.01  Kepler-227 b       CONFIRMED         Done   \n",
       "1     10797460  K00752.02  Kepler-227 c       CONFIRMED         Done   \n",
       "2     10811496  K00753.01           NaN       CANDIDATE         Done   \n",
       "3     10848459  K00754.01           NaN  FALSE POSITIVE         Done   \n",
       "4     10854555  K00755.01  Kepler-664 b       CONFIRMED         Done   \n",
       "...        ...        ...           ...             ...          ...   \n",
       "9559  10090151  K07985.01           NaN  FALSE POSITIVE         Done   \n",
       "9560  10128825  K07986.01           NaN       CANDIDATE         Done   \n",
       "9561  10147276  K07987.01           NaN  FALSE POSITIVE         Done   \n",
       "9562  10155286  K07988.01           NaN       CANDIDATE         Done   \n",
       "9563  10156110  K07989.01           NaN  FALSE POSITIVE         Done   \n",
       "\n",
       "     koi_vet_date koi_pdisposition  koi_score  koi_fpflag_nt  koi_fpflag_ss  \\\n",
       "0      2018-08-16        CANDIDATE      1.000              0              0   \n",
       "1      2018-08-16        CANDIDATE      0.969              0              0   \n",
       "2      2018-08-16        CANDIDATE      0.000              0              0   \n",
       "3      2018-08-16   FALSE POSITIVE      0.000              0              1   \n",
       "4      2018-08-16        CANDIDATE      1.000              0              0   \n",
       "...           ...              ...        ...            ...            ...   \n",
       "9559   2018-08-16   FALSE POSITIVE      0.000              0              1   \n",
       "9560   2018-08-16        CANDIDATE      0.497              0              0   \n",
       "9561   2018-08-16   FALSE POSITIVE      0.021              0              0   \n",
       "9562   2018-08-16        CANDIDATE      0.092              0              0   \n",
       "9563   2018-08-16   FALSE POSITIVE      0.000              0              0   \n",
       "\n",
       "      ...  koi_dicco_mdec  koi_dicco_mdec_err koi_dicco_msky  \\\n",
       "0     ...           0.200               0.160          0.200   \n",
       "1     ...           0.000               0.480          0.390   \n",
       "2     ...          -0.034               0.070          0.042   \n",
       "3     ...           0.147               0.078          0.289   \n",
       "4     ...          -0.090               0.180          0.100   \n",
       "...   ...             ...                 ...            ...   \n",
       "9559  ...          -1.757               0.068          2.763   \n",
       "9560  ...          -0.250               0.490          0.780   \n",
       "9561  ...          -3.650               0.260          5.000   \n",
       "9562  ...           1.320               0.670          1.690   \n",
       "9563  ...           3.300               1.100          3.400   \n",
       "\n",
       "     koi_dicco_msky_err  koi_dikco_mra  koi_dikco_mra_err  koi_dikco_mdec  \\\n",
       "0                 0.170          0.080              0.130           0.310   \n",
       "1                 0.360          0.490              0.340           0.120   \n",
       "2                 0.072          0.002              0.071          -0.027   \n",
       "3                 0.079         -0.257              0.072           0.099   \n",
       "4                 0.140          0.070              0.180           0.020   \n",
       "...                 ...            ...                ...             ...   \n",
       "9559              0.074          2.344              0.072          -1.756   \n",
       "9560              0.460          0.500              0.400          -0.180   \n",
       "9561              0.220          3.380              0.160          -3.890   \n",
       "9562              0.530          1.450              0.110           1.370   \n",
       "9563              1.100          0.960              0.670           3.400   \n",
       "\n",
       "      koi_dikco_mdec_err  koi_dikco_msky  koi_dikco_msky_err  \n",
       "0                  0.170           0.320               0.160  \n",
       "1                  0.730           0.500               0.450  \n",
       "2                  0.074           0.027               0.074  \n",
       "3                  0.077           0.276               0.076  \n",
       "4                  0.160           0.070               0.200  \n",
       "...                  ...             ...                 ...  \n",
       "9559               0.068           2.929               0.072  \n",
       "9560               0.470           0.530               0.470  \n",
       "9561               0.260           5.160               0.220  \n",
       "9562               0.660           2.000               0.460  \n",
       "9563               1.100           3.500               1.100  \n",
       "\n",
       "[9564 rows x 140 columns]"
      ]
     },
     "execution_count": 15,
     "metadata": {},
     "output_type": "execute_result"
    }
   ],
   "source": [
    "kepler_df"
   ]
  },
  {
   "cell_type": "markdown",
   "metadata": {},
   "source": [
    "That looks like a table! You have 9564 rows × 48 columns. The rows are indexed from 0 to 9563 and the columns are indexed by their names.\n",
    "\n",
    "Let's check the datatype of \"kepler_df\""
   ]
  },
  {
   "cell_type": "code",
   "execution_count": 16,
   "metadata": {},
   "outputs": [
    {
     "data": {
      "text/plain": [
       "pandas.core.frame.DataFrame"
      ]
     },
     "execution_count": 16,
     "metadata": {},
     "output_type": "execute_result"
    }
   ],
   "source": [
    "# Your code here\n",
    "type(kepler_df)"
   ]
  },
  {
   "cell_type": "markdown",
   "metadata": {},
   "source": [
    "We get what is called a pandas \"DataFrame\". \n",
    "\n",
    "You can index a column in a DataFrame using its name (similar to how you did indexing with dictionaries)"
   ]
  },
  {
   "cell_type": "code",
   "execution_count": 17,
   "metadata": {},
   "outputs": [
    {
     "data": {
      "text/plain": [
       "0       10797460\n",
       "1       10797460\n",
       "2       10811496\n",
       "3       10848459\n",
       "4       10854555\n",
       "          ...   \n",
       "9559    10090151\n",
       "9560    10128825\n",
       "9561    10147276\n",
       "9562    10155286\n",
       "9563    10156110\n",
       "Name: kepid, Length: 9564, dtype: int64"
      ]
     },
     "execution_count": 17,
     "metadata": {},
     "output_type": "execute_result"
    }
   ],
   "source": [
    "kepler_df['kepid']"
   ]
  },
  {
   "cell_type": "markdown",
   "metadata": {},
   "source": [
    "You see that the data type of all the values in this column is \"int64\". Thus, pd.csv() was able to interpret the data type. \n",
    "\n",
    "To index the 2nd row of the DataFrame, you use the following code"
   ]
  },
  {
   "cell_type": "code",
   "execution_count": 18,
   "metadata": {},
   "outputs": [
    {
     "data": {
      "text/plain": [
       "kepid                  10811496\n",
       "kepoi_name            K00753.01\n",
       "kepler_name                 NaN\n",
       "koi_disposition       CANDIDATE\n",
       "koi_vet_stat               Done\n",
       "                        ...    \n",
       "koi_dikco_mra_err         0.071\n",
       "koi_dikco_mdec           -0.027\n",
       "koi_dikco_mdec_err        0.074\n",
       "koi_dikco_msky            0.027\n",
       "koi_dikco_msky_err        0.074\n",
       "Name: 2, Length: 140, dtype: object"
      ]
     },
     "execution_count": 18,
     "metadata": {},
     "output_type": "execute_result"
    }
   ],
   "source": [
    "kepler_df.loc[2]"
   ]
  },
  {
   "cell_type": "markdown",
   "metadata": {},
   "source": [
    "Here we see a few entries that say **NaN**. pd.csv() automatically converts all missing values to \"NaN\", which stands for not a number. It is a numeric data type that represents undefined values (e.g., 0/0). Let's explicitly check the data type of one such value"
   ]
  },
  {
   "cell_type": "code",
   "execution_count": 19,
   "metadata": {},
   "outputs": [
    {
     "data": {
      "text/plain": [
       "float"
      ]
     },
     "execution_count": 19,
     "metadata": {},
     "output_type": "execute_result"
    }
   ],
   "source": [
    "type(kepler_df.loc[2]['kepler_name'])"
   ]
  },
  {
   "cell_type": "markdown",
   "metadata": {},
   "source": [
    "The value is numeric! This is good because we can apply numeric operations to numeric arrays despite having missing (NaN) values. More on this will be covered later in the workshop."
   ]
  },
  {
   "cell_type": "markdown",
   "metadata": {},
   "source": [
    "Now let's acess the same row as above using the \"kepler_array\" ndarray"
   ]
  },
  {
   "cell_type": "code",
   "execution_count": 20,
   "metadata": {},
   "outputs": [
    {
     "data": {
      "text/plain": [
       "array(['10811496', 'K00753.01', '', 'CANDIDATE', 'Done', '2018-08-16',\n",
       "       'CANDIDATE', '0.0000', '0', '0', '0', '0', 'q1_q17_dr25_sup_koi',\n",
       "       'DEEP_V_SHAPED', '19.899139950', '1.4940000e-05', '-1.4940000e-05',\n",
       "       '175.8502520', '5.810000e-04', '-5.810000e-04', '2455008.850',\n",
       "       '5.810000e-04', '-5.810000e-04', '0', '', '', '', '', '', '0.9690',\n",
       "       '5.1260', '-0.0770', '1.78220', '0.03410', '-0.03410', '', '', '',\n",
       "       '1.0829e+04', '1.710e+02', '-1.710e+02', '0.154046',\n",
       "       '5.034292e+00', '-4.217900e-02', '7.29555', '35.03293', '-2.75453',\n",
       "       'LS+MCMC', '14.60', '3.920e+00', '-1.310e+00', '0.1419', '', '',\n",
       "       '88.96', '', '', '638.0', '', '', '39.30', '31.04', '-10.49',\n",
       "       '53.500000', '25.700000', '-25.700000',\n",
       "       'Claret (2011 A&A 529 75) ATLAS LS', '0.0000', '0.0000', '0.2711',\n",
       "       '0.3858', 'q1_q17_dr25_koi', '37.1597670', '187.4491000', '76.30',\n",
       "       '1', '56', '1', 'q1_q17_dr25_tce',\n",
       "       '11111101110111011000000000000000', '0.66240',\n",
       "       'Mandel and Agol (2002 ApJ 580 171)', '', '',\n",
       "       '010/010811/010811496/dv/kplr010811496-20160209194854_dvr.pdf',\n",
       "       '010/010811/010811496/dv/kplr010811496-001-20160209194854_dvs.pdf',\n",
       "       '5853.00', '158.00', '-176.00', '4.544', '0.044', '-0.176',\n",
       "       '-0.1800', '0.3000', '-0.3000', '0.8680', '0.2330', '-0.0780',\n",
       "       '0.9610', '0.1100', '-0.1210', '', '', '', 'q1_q17_dr25_stellar',\n",
       "       '297.004820', '48.134129', '15.436', '15.943', '15.390', '15.220',\n",
       "       '15.166', '14.254', '13.900', '13.826', '0.278', '19.800320700',\n",
       "       '0.000001900', '48.13412000', '0.00002000', '-0.02100', '0.06900',\n",
       "       '-0.03800', '0.07100', '7.000000e-04', '2.40000e-03',\n",
       "       '6.000000e-04', '3.40000e-03', '-0.0250', '0.0700', '-0.0340',\n",
       "       '0.0700', '0.0420', '0.0720', '0.0020', '0.0710', '-0.0270',\n",
       "       '0.0740', '0.0270', '0.0740'], dtype='<U210')"
      ]
     },
     "execution_count": 20,
     "metadata": {},
     "output_type": "execute_result"
    }
   ],
   "source": [
    "# Row 3 because the header forms Row 0\n",
    "kepler_array[3]"
   ]
  },
  {
   "cell_type": "markdown",
   "metadata": {},
   "source": [
    "You see that the same entries that are marked \"NaN\" in the DataFrame are empty strings ('') in the ndarray."
   ]
  },
  {
   "cell_type": "markdown",
   "metadata": {},
   "source": [
    "So now we are starting to see a methodology for extracting the numbers out of the strings. Our next step is going to be searching for multiple observations of a Kepler target (a star) in the Kepler data and analyzing them to understand the target and its exoplanets. We are going to take a detailed look into pandas DataFrames and **for-loops**.\n",
    "\n",
    "For indexing all observations of a particular target, we can use \"kepid\" as the index. This is shown below"
   ]
  },
  {
   "cell_type": "code",
   "execution_count": 21,
   "metadata": {},
   "outputs": [],
   "source": [
    "kepler_df = kepler_df.set_index('kepid')"
   ]
  },
  {
   "cell_type": "code",
   "execution_count": 22,
   "metadata": {},
   "outputs": [
    {
     "data": {
      "text/html": [
       "<div>\n",
       "<style scoped>\n",
       "    .dataframe tbody tr th:only-of-type {\n",
       "        vertical-align: middle;\n",
       "    }\n",
       "\n",
       "    .dataframe tbody tr th {\n",
       "        vertical-align: top;\n",
       "    }\n",
       "\n",
       "    .dataframe thead th {\n",
       "        text-align: right;\n",
       "    }\n",
       "</style>\n",
       "<table border=\"1\" class=\"dataframe\">\n",
       "  <thead>\n",
       "    <tr style=\"text-align: right;\">\n",
       "      <th></th>\n",
       "      <th>kepoi_name</th>\n",
       "      <th>kepler_name</th>\n",
       "      <th>koi_disposition</th>\n",
       "      <th>koi_vet_stat</th>\n",
       "      <th>koi_vet_date</th>\n",
       "      <th>koi_pdisposition</th>\n",
       "      <th>koi_score</th>\n",
       "      <th>koi_fpflag_nt</th>\n",
       "      <th>koi_fpflag_ss</th>\n",
       "      <th>koi_fpflag_co</th>\n",
       "      <th>...</th>\n",
       "      <th>koi_dicco_mdec</th>\n",
       "      <th>koi_dicco_mdec_err</th>\n",
       "      <th>koi_dicco_msky</th>\n",
       "      <th>koi_dicco_msky_err</th>\n",
       "      <th>koi_dikco_mra</th>\n",
       "      <th>koi_dikco_mra_err</th>\n",
       "      <th>koi_dikco_mdec</th>\n",
       "      <th>koi_dikco_mdec_err</th>\n",
       "      <th>koi_dikco_msky</th>\n",
       "      <th>koi_dikco_msky_err</th>\n",
       "    </tr>\n",
       "    <tr>\n",
       "      <th>kepid</th>\n",
       "      <th></th>\n",
       "      <th></th>\n",
       "      <th></th>\n",
       "      <th></th>\n",
       "      <th></th>\n",
       "      <th></th>\n",
       "      <th></th>\n",
       "      <th></th>\n",
       "      <th></th>\n",
       "      <th></th>\n",
       "      <th></th>\n",
       "      <th></th>\n",
       "      <th></th>\n",
       "      <th></th>\n",
       "      <th></th>\n",
       "      <th></th>\n",
       "      <th></th>\n",
       "      <th></th>\n",
       "      <th></th>\n",
       "      <th></th>\n",
       "      <th></th>\n",
       "    </tr>\n",
       "  </thead>\n",
       "  <tbody>\n",
       "    <tr>\n",
       "      <th>10797460</th>\n",
       "      <td>K00752.01</td>\n",
       "      <td>Kepler-227 b</td>\n",
       "      <td>CONFIRMED</td>\n",
       "      <td>Done</td>\n",
       "      <td>2018-08-16</td>\n",
       "      <td>CANDIDATE</td>\n",
       "      <td>1.000</td>\n",
       "      <td>0</td>\n",
       "      <td>0</td>\n",
       "      <td>0</td>\n",
       "      <td>...</td>\n",
       "      <td>0.200</td>\n",
       "      <td>0.160</td>\n",
       "      <td>0.200</td>\n",
       "      <td>0.170</td>\n",
       "      <td>0.080</td>\n",
       "      <td>0.130</td>\n",
       "      <td>0.310</td>\n",
       "      <td>0.170</td>\n",
       "      <td>0.320</td>\n",
       "      <td>0.160</td>\n",
       "    </tr>\n",
       "    <tr>\n",
       "      <th>10797460</th>\n",
       "      <td>K00752.02</td>\n",
       "      <td>Kepler-227 c</td>\n",
       "      <td>CONFIRMED</td>\n",
       "      <td>Done</td>\n",
       "      <td>2018-08-16</td>\n",
       "      <td>CANDIDATE</td>\n",
       "      <td>0.969</td>\n",
       "      <td>0</td>\n",
       "      <td>0</td>\n",
       "      <td>0</td>\n",
       "      <td>...</td>\n",
       "      <td>0.000</td>\n",
       "      <td>0.480</td>\n",
       "      <td>0.390</td>\n",
       "      <td>0.360</td>\n",
       "      <td>0.490</td>\n",
       "      <td>0.340</td>\n",
       "      <td>0.120</td>\n",
       "      <td>0.730</td>\n",
       "      <td>0.500</td>\n",
       "      <td>0.450</td>\n",
       "    </tr>\n",
       "    <tr>\n",
       "      <th>10811496</th>\n",
       "      <td>K00753.01</td>\n",
       "      <td>NaN</td>\n",
       "      <td>CANDIDATE</td>\n",
       "      <td>Done</td>\n",
       "      <td>2018-08-16</td>\n",
       "      <td>CANDIDATE</td>\n",
       "      <td>0.000</td>\n",
       "      <td>0</td>\n",
       "      <td>0</td>\n",
       "      <td>0</td>\n",
       "      <td>...</td>\n",
       "      <td>-0.034</td>\n",
       "      <td>0.070</td>\n",
       "      <td>0.042</td>\n",
       "      <td>0.072</td>\n",
       "      <td>0.002</td>\n",
       "      <td>0.071</td>\n",
       "      <td>-0.027</td>\n",
       "      <td>0.074</td>\n",
       "      <td>0.027</td>\n",
       "      <td>0.074</td>\n",
       "    </tr>\n",
       "    <tr>\n",
       "      <th>10848459</th>\n",
       "      <td>K00754.01</td>\n",
       "      <td>NaN</td>\n",
       "      <td>FALSE POSITIVE</td>\n",
       "      <td>Done</td>\n",
       "      <td>2018-08-16</td>\n",
       "      <td>FALSE POSITIVE</td>\n",
       "      <td>0.000</td>\n",
       "      <td>0</td>\n",
       "      <td>1</td>\n",
       "      <td>0</td>\n",
       "      <td>...</td>\n",
       "      <td>0.147</td>\n",
       "      <td>0.078</td>\n",
       "      <td>0.289</td>\n",
       "      <td>0.079</td>\n",
       "      <td>-0.257</td>\n",
       "      <td>0.072</td>\n",
       "      <td>0.099</td>\n",
       "      <td>0.077</td>\n",
       "      <td>0.276</td>\n",
       "      <td>0.076</td>\n",
       "    </tr>\n",
       "    <tr>\n",
       "      <th>10854555</th>\n",
       "      <td>K00755.01</td>\n",
       "      <td>Kepler-664 b</td>\n",
       "      <td>CONFIRMED</td>\n",
       "      <td>Done</td>\n",
       "      <td>2018-08-16</td>\n",
       "      <td>CANDIDATE</td>\n",
       "      <td>1.000</td>\n",
       "      <td>0</td>\n",
       "      <td>0</td>\n",
       "      <td>0</td>\n",
       "      <td>...</td>\n",
       "      <td>-0.090</td>\n",
       "      <td>0.180</td>\n",
       "      <td>0.100</td>\n",
       "      <td>0.140</td>\n",
       "      <td>0.070</td>\n",
       "      <td>0.180</td>\n",
       "      <td>0.020</td>\n",
       "      <td>0.160</td>\n",
       "      <td>0.070</td>\n",
       "      <td>0.200</td>\n",
       "    </tr>\n",
       "    <tr>\n",
       "      <th>...</th>\n",
       "      <td>...</td>\n",
       "      <td>...</td>\n",
       "      <td>...</td>\n",
       "      <td>...</td>\n",
       "      <td>...</td>\n",
       "      <td>...</td>\n",
       "      <td>...</td>\n",
       "      <td>...</td>\n",
       "      <td>...</td>\n",
       "      <td>...</td>\n",
       "      <td>...</td>\n",
       "      <td>...</td>\n",
       "      <td>...</td>\n",
       "      <td>...</td>\n",
       "      <td>...</td>\n",
       "      <td>...</td>\n",
       "      <td>...</td>\n",
       "      <td>...</td>\n",
       "      <td>...</td>\n",
       "      <td>...</td>\n",
       "      <td>...</td>\n",
       "    </tr>\n",
       "    <tr>\n",
       "      <th>10090151</th>\n",
       "      <td>K07985.01</td>\n",
       "      <td>NaN</td>\n",
       "      <td>FALSE POSITIVE</td>\n",
       "      <td>Done</td>\n",
       "      <td>2018-08-16</td>\n",
       "      <td>FALSE POSITIVE</td>\n",
       "      <td>0.000</td>\n",
       "      <td>0</td>\n",
       "      <td>1</td>\n",
       "      <td>1</td>\n",
       "      <td>...</td>\n",
       "      <td>-1.757</td>\n",
       "      <td>0.068</td>\n",
       "      <td>2.763</td>\n",
       "      <td>0.074</td>\n",
       "      <td>2.344</td>\n",
       "      <td>0.072</td>\n",
       "      <td>-1.756</td>\n",
       "      <td>0.068</td>\n",
       "      <td>2.929</td>\n",
       "      <td>0.072</td>\n",
       "    </tr>\n",
       "    <tr>\n",
       "      <th>10128825</th>\n",
       "      <td>K07986.01</td>\n",
       "      <td>NaN</td>\n",
       "      <td>CANDIDATE</td>\n",
       "      <td>Done</td>\n",
       "      <td>2018-08-16</td>\n",
       "      <td>CANDIDATE</td>\n",
       "      <td>0.497</td>\n",
       "      <td>0</td>\n",
       "      <td>0</td>\n",
       "      <td>0</td>\n",
       "      <td>...</td>\n",
       "      <td>-0.250</td>\n",
       "      <td>0.490</td>\n",
       "      <td>0.780</td>\n",
       "      <td>0.460</td>\n",
       "      <td>0.500</td>\n",
       "      <td>0.400</td>\n",
       "      <td>-0.180</td>\n",
       "      <td>0.470</td>\n",
       "      <td>0.530</td>\n",
       "      <td>0.470</td>\n",
       "    </tr>\n",
       "    <tr>\n",
       "      <th>10147276</th>\n",
       "      <td>K07987.01</td>\n",
       "      <td>NaN</td>\n",
       "      <td>FALSE POSITIVE</td>\n",
       "      <td>Done</td>\n",
       "      <td>2018-08-16</td>\n",
       "      <td>FALSE POSITIVE</td>\n",
       "      <td>0.021</td>\n",
       "      <td>0</td>\n",
       "      <td>0</td>\n",
       "      <td>1</td>\n",
       "      <td>...</td>\n",
       "      <td>-3.650</td>\n",
       "      <td>0.260</td>\n",
       "      <td>5.000</td>\n",
       "      <td>0.220</td>\n",
       "      <td>3.380</td>\n",
       "      <td>0.160</td>\n",
       "      <td>-3.890</td>\n",
       "      <td>0.260</td>\n",
       "      <td>5.160</td>\n",
       "      <td>0.220</td>\n",
       "    </tr>\n",
       "    <tr>\n",
       "      <th>10155286</th>\n",
       "      <td>K07988.01</td>\n",
       "      <td>NaN</td>\n",
       "      <td>CANDIDATE</td>\n",
       "      <td>Done</td>\n",
       "      <td>2018-08-16</td>\n",
       "      <td>CANDIDATE</td>\n",
       "      <td>0.092</td>\n",
       "      <td>0</td>\n",
       "      <td>0</td>\n",
       "      <td>0</td>\n",
       "      <td>...</td>\n",
       "      <td>1.320</td>\n",
       "      <td>0.670</td>\n",
       "      <td>1.690</td>\n",
       "      <td>0.530</td>\n",
       "      <td>1.450</td>\n",
       "      <td>0.110</td>\n",
       "      <td>1.370</td>\n",
       "      <td>0.660</td>\n",
       "      <td>2.000</td>\n",
       "      <td>0.460</td>\n",
       "    </tr>\n",
       "    <tr>\n",
       "      <th>10156110</th>\n",
       "      <td>K07989.01</td>\n",
       "      <td>NaN</td>\n",
       "      <td>FALSE POSITIVE</td>\n",
       "      <td>Done</td>\n",
       "      <td>2018-08-16</td>\n",
       "      <td>FALSE POSITIVE</td>\n",
       "      <td>0.000</td>\n",
       "      <td>0</td>\n",
       "      <td>0</td>\n",
       "      <td>1</td>\n",
       "      <td>...</td>\n",
       "      <td>3.300</td>\n",
       "      <td>1.100</td>\n",
       "      <td>3.400</td>\n",
       "      <td>1.100</td>\n",
       "      <td>0.960</td>\n",
       "      <td>0.670</td>\n",
       "      <td>3.400</td>\n",
       "      <td>1.100</td>\n",
       "      <td>3.500</td>\n",
       "      <td>1.100</td>\n",
       "    </tr>\n",
       "  </tbody>\n",
       "</table>\n",
       "<p>9564 rows × 139 columns</p>\n",
       "</div>"
      ],
      "text/plain": [
       "         kepoi_name   kepler_name koi_disposition koi_vet_stat koi_vet_date  \\\n",
       "kepid                                                                         \n",
       "10797460  K00752.01  Kepler-227 b       CONFIRMED         Done   2018-08-16   \n",
       "10797460  K00752.02  Kepler-227 c       CONFIRMED         Done   2018-08-16   \n",
       "10811496  K00753.01           NaN       CANDIDATE         Done   2018-08-16   \n",
       "10848459  K00754.01           NaN  FALSE POSITIVE         Done   2018-08-16   \n",
       "10854555  K00755.01  Kepler-664 b       CONFIRMED         Done   2018-08-16   \n",
       "...             ...           ...             ...          ...          ...   \n",
       "10090151  K07985.01           NaN  FALSE POSITIVE         Done   2018-08-16   \n",
       "10128825  K07986.01           NaN       CANDIDATE         Done   2018-08-16   \n",
       "10147276  K07987.01           NaN  FALSE POSITIVE         Done   2018-08-16   \n",
       "10155286  K07988.01           NaN       CANDIDATE         Done   2018-08-16   \n",
       "10156110  K07989.01           NaN  FALSE POSITIVE         Done   2018-08-16   \n",
       "\n",
       "         koi_pdisposition  koi_score  koi_fpflag_nt  koi_fpflag_ss  \\\n",
       "kepid                                                                \n",
       "10797460        CANDIDATE      1.000              0              0   \n",
       "10797460        CANDIDATE      0.969              0              0   \n",
       "10811496        CANDIDATE      0.000              0              0   \n",
       "10848459   FALSE POSITIVE      0.000              0              1   \n",
       "10854555        CANDIDATE      1.000              0              0   \n",
       "...                   ...        ...            ...            ...   \n",
       "10090151   FALSE POSITIVE      0.000              0              1   \n",
       "10128825        CANDIDATE      0.497              0              0   \n",
       "10147276   FALSE POSITIVE      0.021              0              0   \n",
       "10155286        CANDIDATE      0.092              0              0   \n",
       "10156110   FALSE POSITIVE      0.000              0              0   \n",
       "\n",
       "          koi_fpflag_co  ...  koi_dicco_mdec koi_dicco_mdec_err  \\\n",
       "kepid                    ...                                      \n",
       "10797460              0  ...           0.200              0.160   \n",
       "10797460              0  ...           0.000              0.480   \n",
       "10811496              0  ...          -0.034              0.070   \n",
       "10848459              0  ...           0.147              0.078   \n",
       "10854555              0  ...          -0.090              0.180   \n",
       "...                 ...  ...             ...                ...   \n",
       "10090151              1  ...          -1.757              0.068   \n",
       "10128825              0  ...          -0.250              0.490   \n",
       "10147276              1  ...          -3.650              0.260   \n",
       "10155286              0  ...           1.320              0.670   \n",
       "10156110              1  ...           3.300              1.100   \n",
       "\n",
       "         koi_dicco_msky  koi_dicco_msky_err  koi_dikco_mra  koi_dikco_mra_err  \\\n",
       "kepid                                                                           \n",
       "10797460          0.200               0.170          0.080              0.130   \n",
       "10797460          0.390               0.360          0.490              0.340   \n",
       "10811496          0.042               0.072          0.002              0.071   \n",
       "10848459          0.289               0.079         -0.257              0.072   \n",
       "10854555          0.100               0.140          0.070              0.180   \n",
       "...                 ...                 ...            ...                ...   \n",
       "10090151          2.763               0.074          2.344              0.072   \n",
       "10128825          0.780               0.460          0.500              0.400   \n",
       "10147276          5.000               0.220          3.380              0.160   \n",
       "10155286          1.690               0.530          1.450              0.110   \n",
       "10156110          3.400               1.100          0.960              0.670   \n",
       "\n",
       "          koi_dikco_mdec  koi_dikco_mdec_err  koi_dikco_msky  \\\n",
       "kepid                                                          \n",
       "10797460           0.310               0.170           0.320   \n",
       "10797460           0.120               0.730           0.500   \n",
       "10811496          -0.027               0.074           0.027   \n",
       "10848459           0.099               0.077           0.276   \n",
       "10854555           0.020               0.160           0.070   \n",
       "...                  ...                 ...             ...   \n",
       "10090151          -1.756               0.068           2.929   \n",
       "10128825          -0.180               0.470           0.530   \n",
       "10147276          -3.890               0.260           5.160   \n",
       "10155286           1.370               0.660           2.000   \n",
       "10156110           3.400               1.100           3.500   \n",
       "\n",
       "          koi_dikco_msky_err  \n",
       "kepid                         \n",
       "10797460               0.160  \n",
       "10797460               0.450  \n",
       "10811496               0.074  \n",
       "10848459               0.076  \n",
       "10854555               0.200  \n",
       "...                      ...  \n",
       "10090151               0.072  \n",
       "10128825               0.470  \n",
       "10147276               0.220  \n",
       "10155286               0.460  \n",
       "10156110               1.100  \n",
       "\n",
       "[9564 rows x 139 columns]"
      ]
     },
     "execution_count": 22,
     "metadata": {},
     "output_type": "execute_result"
    }
   ],
   "source": [
    "kepler_df"
   ]
  },
  {
   "cell_type": "markdown",
   "metadata": {},
   "source": [
    "We can now index using the first Kepler ID in the list."
   ]
  },
  {
   "cell_type": "code",
   "execution_count": 23,
   "metadata": {},
   "outputs": [],
   "source": [
    "kepler_10872983 = kepler_df.loc[10872983]"
   ]
  },
  {
   "cell_type": "code",
   "execution_count": 24,
   "metadata": {},
   "outputs": [
    {
     "data": {
      "text/html": [
       "<div>\n",
       "<style scoped>\n",
       "    .dataframe tbody tr th:only-of-type {\n",
       "        vertical-align: middle;\n",
       "    }\n",
       "\n",
       "    .dataframe tbody tr th {\n",
       "        vertical-align: top;\n",
       "    }\n",
       "\n",
       "    .dataframe thead th {\n",
       "        text-align: right;\n",
       "    }\n",
       "</style>\n",
       "<table border=\"1\" class=\"dataframe\">\n",
       "  <thead>\n",
       "    <tr style=\"text-align: right;\">\n",
       "      <th></th>\n",
       "      <th>kepoi_name</th>\n",
       "      <th>kepler_name</th>\n",
       "      <th>koi_disposition</th>\n",
       "      <th>koi_vet_stat</th>\n",
       "      <th>koi_vet_date</th>\n",
       "      <th>koi_pdisposition</th>\n",
       "      <th>koi_score</th>\n",
       "      <th>koi_fpflag_nt</th>\n",
       "      <th>koi_fpflag_ss</th>\n",
       "      <th>koi_fpflag_co</th>\n",
       "      <th>...</th>\n",
       "      <th>koi_dicco_mdec</th>\n",
       "      <th>koi_dicco_mdec_err</th>\n",
       "      <th>koi_dicco_msky</th>\n",
       "      <th>koi_dicco_msky_err</th>\n",
       "      <th>koi_dikco_mra</th>\n",
       "      <th>koi_dikco_mra_err</th>\n",
       "      <th>koi_dikco_mdec</th>\n",
       "      <th>koi_dikco_mdec_err</th>\n",
       "      <th>koi_dikco_msky</th>\n",
       "      <th>koi_dikco_msky_err</th>\n",
       "    </tr>\n",
       "    <tr>\n",
       "      <th>kepid</th>\n",
       "      <th></th>\n",
       "      <th></th>\n",
       "      <th></th>\n",
       "      <th></th>\n",
       "      <th></th>\n",
       "      <th></th>\n",
       "      <th></th>\n",
       "      <th></th>\n",
       "      <th></th>\n",
       "      <th></th>\n",
       "      <th></th>\n",
       "      <th></th>\n",
       "      <th></th>\n",
       "      <th></th>\n",
       "      <th></th>\n",
       "      <th></th>\n",
       "      <th></th>\n",
       "      <th></th>\n",
       "      <th></th>\n",
       "      <th></th>\n",
       "      <th></th>\n",
       "    </tr>\n",
       "  </thead>\n",
       "  <tbody>\n",
       "    <tr>\n",
       "      <th>10872983</th>\n",
       "      <td>K00756.01</td>\n",
       "      <td>Kepler-228 d</td>\n",
       "      <td>CONFIRMED</td>\n",
       "      <td>Done</td>\n",
       "      <td>2018-08-16</td>\n",
       "      <td>CANDIDATE</td>\n",
       "      <td>1.000</td>\n",
       "      <td>0</td>\n",
       "      <td>0</td>\n",
       "      <td>0</td>\n",
       "      <td>...</td>\n",
       "      <td>-0.07</td>\n",
       "      <td>0.11</td>\n",
       "      <td>0.08</td>\n",
       "      <td>0.13</td>\n",
       "      <td>-0.02</td>\n",
       "      <td>0.13</td>\n",
       "      <td>-0.08</td>\n",
       "      <td>0.10</td>\n",
       "      <td>0.08</td>\n",
       "      <td>0.10</td>\n",
       "    </tr>\n",
       "    <tr>\n",
       "      <th>10872983</th>\n",
       "      <td>K00756.02</td>\n",
       "      <td>Kepler-228 c</td>\n",
       "      <td>CONFIRMED</td>\n",
       "      <td>Done</td>\n",
       "      <td>2018-08-16</td>\n",
       "      <td>CANDIDATE</td>\n",
       "      <td>1.000</td>\n",
       "      <td>0</td>\n",
       "      <td>0</td>\n",
       "      <td>0</td>\n",
       "      <td>...</td>\n",
       "      <td>0.09</td>\n",
       "      <td>0.16</td>\n",
       "      <td>0.26</td>\n",
       "      <td>0.16</td>\n",
       "      <td>0.18</td>\n",
       "      <td>0.15</td>\n",
       "      <td>0.06</td>\n",
       "      <td>0.15</td>\n",
       "      <td>0.19</td>\n",
       "      <td>0.17</td>\n",
       "    </tr>\n",
       "    <tr>\n",
       "      <th>10872983</th>\n",
       "      <td>K00756.03</td>\n",
       "      <td>Kepler-228 b</td>\n",
       "      <td>CONFIRMED</td>\n",
       "      <td>Done</td>\n",
       "      <td>2018-08-16</td>\n",
       "      <td>CANDIDATE</td>\n",
       "      <td>0.992</td>\n",
       "      <td>0</td>\n",
       "      <td>0</td>\n",
       "      <td>0</td>\n",
       "      <td>...</td>\n",
       "      <td>-0.30</td>\n",
       "      <td>0.21</td>\n",
       "      <td>0.45</td>\n",
       "      <td>0.28</td>\n",
       "      <td>-0.41</td>\n",
       "      <td>0.33</td>\n",
       "      <td>-0.29</td>\n",
       "      <td>0.21</td>\n",
       "      <td>0.50</td>\n",
       "      <td>0.30</td>\n",
       "    </tr>\n",
       "  </tbody>\n",
       "</table>\n",
       "<p>3 rows × 139 columns</p>\n",
       "</div>"
      ],
      "text/plain": [
       "         kepoi_name   kepler_name koi_disposition koi_vet_stat koi_vet_date  \\\n",
       "kepid                                                                         \n",
       "10872983  K00756.01  Kepler-228 d       CONFIRMED         Done   2018-08-16   \n",
       "10872983  K00756.02  Kepler-228 c       CONFIRMED         Done   2018-08-16   \n",
       "10872983  K00756.03  Kepler-228 b       CONFIRMED         Done   2018-08-16   \n",
       "\n",
       "         koi_pdisposition  koi_score  koi_fpflag_nt  koi_fpflag_ss  \\\n",
       "kepid                                                                \n",
       "10872983        CANDIDATE      1.000              0              0   \n",
       "10872983        CANDIDATE      1.000              0              0   \n",
       "10872983        CANDIDATE      0.992              0              0   \n",
       "\n",
       "          koi_fpflag_co  ...  koi_dicco_mdec koi_dicco_mdec_err  \\\n",
       "kepid                    ...                                      \n",
       "10872983              0  ...           -0.07               0.11   \n",
       "10872983              0  ...            0.09               0.16   \n",
       "10872983              0  ...           -0.30               0.21   \n",
       "\n",
       "         koi_dicco_msky  koi_dicco_msky_err  koi_dikco_mra  koi_dikco_mra_err  \\\n",
       "kepid                                                                           \n",
       "10872983           0.08                0.13          -0.02               0.13   \n",
       "10872983           0.26                0.16           0.18               0.15   \n",
       "10872983           0.45                0.28          -0.41               0.33   \n",
       "\n",
       "          koi_dikco_mdec  koi_dikco_mdec_err  koi_dikco_msky  \\\n",
       "kepid                                                          \n",
       "10872983           -0.08                0.10            0.08   \n",
       "10872983            0.06                0.15            0.19   \n",
       "10872983           -0.29                0.21            0.50   \n",
       "\n",
       "          koi_dikco_msky_err  \n",
       "kepid                         \n",
       "10872983                0.10  \n",
       "10872983                0.17  \n",
       "10872983                0.30  \n",
       "\n",
       "[3 rows x 139 columns]"
      ]
     },
     "execution_count": 24,
     "metadata": {},
     "output_type": "execute_result"
    }
   ],
   "source": [
    "kepler_10872983"
   ]
  },
  {
   "cell_type": "markdown",
   "metadata": {},
   "source": [
    "Pandas DataFrames have a \"describe\" function that computes summary (descriptive) statistics as follows:"
   ]
  },
  {
   "cell_type": "code",
   "execution_count": 25,
   "metadata": {},
   "outputs": [
    {
     "data": {
      "text/html": [
       "<div>\n",
       "<style scoped>\n",
       "    .dataframe tbody tr th:only-of-type {\n",
       "        vertical-align: middle;\n",
       "    }\n",
       "\n",
       "    .dataframe tbody tr th {\n",
       "        vertical-align: top;\n",
       "    }\n",
       "\n",
       "    .dataframe thead th {\n",
       "        text-align: right;\n",
       "    }\n",
       "</style>\n",
       "<table border=\"1\" class=\"dataframe\">\n",
       "  <thead>\n",
       "    <tr style=\"text-align: right;\">\n",
       "      <th></th>\n",
       "      <th>koi_score</th>\n",
       "      <th>koi_fpflag_nt</th>\n",
       "      <th>koi_fpflag_ss</th>\n",
       "      <th>koi_fpflag_co</th>\n",
       "      <th>koi_fpflag_ec</th>\n",
       "      <th>koi_period</th>\n",
       "      <th>koi_period_err1</th>\n",
       "      <th>koi_period_err2</th>\n",
       "      <th>koi_time0bk</th>\n",
       "      <th>koi_time0bk_err1</th>\n",
       "      <th>...</th>\n",
       "      <th>koi_dicco_mdec</th>\n",
       "      <th>koi_dicco_mdec_err</th>\n",
       "      <th>koi_dicco_msky</th>\n",
       "      <th>koi_dicco_msky_err</th>\n",
       "      <th>koi_dikco_mra</th>\n",
       "      <th>koi_dikco_mra_err</th>\n",
       "      <th>koi_dikco_mdec</th>\n",
       "      <th>koi_dikco_mdec_err</th>\n",
       "      <th>koi_dikco_msky</th>\n",
       "      <th>koi_dikco_msky_err</th>\n",
       "    </tr>\n",
       "  </thead>\n",
       "  <tbody>\n",
       "    <tr>\n",
       "      <th>count</th>\n",
       "      <td>8054.000000</td>\n",
       "      <td>9564.000000</td>\n",
       "      <td>9564.000000</td>\n",
       "      <td>9564.000000</td>\n",
       "      <td>9564.000000</td>\n",
       "      <td>9564.000000</td>\n",
       "      <td>9110.000000</td>\n",
       "      <td>9110.000000</td>\n",
       "      <td>9564.000000</td>\n",
       "      <td>9110.000000</td>\n",
       "      <td>...</td>\n",
       "      <td>8965.000000</td>\n",
       "      <td>8965.000000</td>\n",
       "      <td>8965.000000</td>\n",
       "      <td>8965.000000</td>\n",
       "      <td>8994.000000</td>\n",
       "      <td>8994.000000</td>\n",
       "      <td>8994.000000</td>\n",
       "      <td>8994.000000</td>\n",
       "      <td>8994.000000</td>\n",
       "      <td>8994.000000</td>\n",
       "    </tr>\n",
       "    <tr>\n",
       "      <th>mean</th>\n",
       "      <td>0.480829</td>\n",
       "      <td>0.208595</td>\n",
       "      <td>0.232748</td>\n",
       "      <td>0.197512</td>\n",
       "      <td>0.120033</td>\n",
       "      <td>75.671358</td>\n",
       "      <td>0.002148</td>\n",
       "      <td>-0.002148</td>\n",
       "      <td>166.183251</td>\n",
       "      <td>0.009933</td>\n",
       "      <td>...</td>\n",
       "      <td>-0.045420</td>\n",
       "      <td>0.446229</td>\n",
       "      <td>1.866561</td>\n",
       "      <td>0.489930</td>\n",
       "      <td>-0.024244</td>\n",
       "      <td>0.425337</td>\n",
       "      <td>-0.076749</td>\n",
       "      <td>0.436684</td>\n",
       "      <td>1.812566</td>\n",
       "      <td>0.476060</td>\n",
       "    </tr>\n",
       "    <tr>\n",
       "      <th>std</th>\n",
       "      <td>0.476928</td>\n",
       "      <td>4.767290</td>\n",
       "      <td>0.422605</td>\n",
       "      <td>0.398142</td>\n",
       "      <td>0.325018</td>\n",
       "      <td>1334.744046</td>\n",
       "      <td>0.008236</td>\n",
       "      <td>0.008236</td>\n",
       "      <td>67.918960</td>\n",
       "      <td>0.023097</td>\n",
       "      <td>...</td>\n",
       "      <td>2.573558</td>\n",
       "      <td>0.569933</td>\n",
       "      <td>2.988742</td>\n",
       "      <td>0.646403</td>\n",
       "      <td>2.382286</td>\n",
       "      <td>0.602150</td>\n",
       "      <td>2.553758</td>\n",
       "      <td>0.567535</td>\n",
       "      <td>2.986376</td>\n",
       "      <td>0.647587</td>\n",
       "    </tr>\n",
       "    <tr>\n",
       "      <th>min</th>\n",
       "      <td>0.000000</td>\n",
       "      <td>0.000000</td>\n",
       "      <td>0.000000</td>\n",
       "      <td>0.000000</td>\n",
       "      <td>0.000000</td>\n",
       "      <td>0.241843</td>\n",
       "      <td>0.000000</td>\n",
       "      <td>-0.172500</td>\n",
       "      <td>120.515914</td>\n",
       "      <td>0.000009</td>\n",
       "      <td>...</td>\n",
       "      <td>-75.900000</td>\n",
       "      <td>0.067000</td>\n",
       "      <td>0.000000</td>\n",
       "      <td>0.067000</td>\n",
       "      <td>-27.800000</td>\n",
       "      <td>0.067000</td>\n",
       "      <td>-76.600000</td>\n",
       "      <td>0.067000</td>\n",
       "      <td>0.000000</td>\n",
       "      <td>0.067000</td>\n",
       "    </tr>\n",
       "    <tr>\n",
       "      <th>25%</th>\n",
       "      <td>0.000000</td>\n",
       "      <td>0.000000</td>\n",
       "      <td>0.000000</td>\n",
       "      <td>0.000000</td>\n",
       "      <td>0.000000</td>\n",
       "      <td>2.733684</td>\n",
       "      <td>0.000005</td>\n",
       "      <td>-0.000276</td>\n",
       "      <td>132.761718</td>\n",
       "      <td>0.001240</td>\n",
       "      <td>...</td>\n",
       "      <td>-0.387000</td>\n",
       "      <td>0.098000</td>\n",
       "      <td>0.170000</td>\n",
       "      <td>0.100000</td>\n",
       "      <td>-0.310000</td>\n",
       "      <td>0.087000</td>\n",
       "      <td>-0.390000</td>\n",
       "      <td>0.090000</td>\n",
       "      <td>0.210000</td>\n",
       "      <td>0.094000</td>\n",
       "    </tr>\n",
       "    <tr>\n",
       "      <th>50%</th>\n",
       "      <td>0.334000</td>\n",
       "      <td>0.000000</td>\n",
       "      <td>0.000000</td>\n",
       "      <td>0.000000</td>\n",
       "      <td>0.000000</td>\n",
       "      <td>9.752831</td>\n",
       "      <td>0.000035</td>\n",
       "      <td>-0.000035</td>\n",
       "      <td>137.224595</td>\n",
       "      <td>0.004130</td>\n",
       "      <td>...</td>\n",
       "      <td>0.000000</td>\n",
       "      <td>0.280000</td>\n",
       "      <td>0.610000</td>\n",
       "      <td>0.310000</td>\n",
       "      <td>-0.004000</td>\n",
       "      <td>0.250000</td>\n",
       "      <td>-0.017000</td>\n",
       "      <td>0.270000</td>\n",
       "      <td>0.583000</td>\n",
       "      <td>0.290000</td>\n",
       "    </tr>\n",
       "    <tr>\n",
       "      <th>75%</th>\n",
       "      <td>0.998000</td>\n",
       "      <td>0.000000</td>\n",
       "      <td>0.000000</td>\n",
       "      <td>0.000000</td>\n",
       "      <td>0.000000</td>\n",
       "      <td>40.715178</td>\n",
       "      <td>0.000276</td>\n",
       "      <td>-0.000005</td>\n",
       "      <td>170.694603</td>\n",
       "      <td>0.010500</td>\n",
       "      <td>...</td>\n",
       "      <td>0.300000</td>\n",
       "      <td>0.610000</td>\n",
       "      <td>2.160000</td>\n",
       "      <td>0.680000</td>\n",
       "      <td>0.290000</td>\n",
       "      <td>0.590000</td>\n",
       "      <td>0.300000</td>\n",
       "      <td>0.600000</td>\n",
       "      <td>1.970000</td>\n",
       "      <td>0.660000</td>\n",
       "    </tr>\n",
       "    <tr>\n",
       "      <th>max</th>\n",
       "      <td>1.000000</td>\n",
       "      <td>465.000000</td>\n",
       "      <td>1.000000</td>\n",
       "      <td>1.000000</td>\n",
       "      <td>1.000000</td>\n",
       "      <td>129995.778400</td>\n",
       "      <td>0.172500</td>\n",
       "      <td>0.000000</td>\n",
       "      <td>1472.522306</td>\n",
       "      <td>0.569000</td>\n",
       "      <td>...</td>\n",
       "      <td>27.500000</td>\n",
       "      <td>22.000000</td>\n",
       "      <td>88.600000</td>\n",
       "      <td>32.000000</td>\n",
       "      <td>46.570000</td>\n",
       "      <td>33.000000</td>\n",
       "      <td>34.000000</td>\n",
       "      <td>22.000000</td>\n",
       "      <td>89.600000</td>\n",
       "      <td>32.000000</td>\n",
       "    </tr>\n",
       "  </tbody>\n",
       "</table>\n",
       "<p>8 rows × 122 columns</p>\n",
       "</div>"
      ],
      "text/plain": [
       "         koi_score  koi_fpflag_nt  koi_fpflag_ss  koi_fpflag_co  \\\n",
       "count  8054.000000    9564.000000    9564.000000    9564.000000   \n",
       "mean      0.480829       0.208595       0.232748       0.197512   \n",
       "std       0.476928       4.767290       0.422605       0.398142   \n",
       "min       0.000000       0.000000       0.000000       0.000000   \n",
       "25%       0.000000       0.000000       0.000000       0.000000   \n",
       "50%       0.334000       0.000000       0.000000       0.000000   \n",
       "75%       0.998000       0.000000       0.000000       0.000000   \n",
       "max       1.000000     465.000000       1.000000       1.000000   \n",
       "\n",
       "       koi_fpflag_ec     koi_period  koi_period_err1  koi_period_err2  \\\n",
       "count    9564.000000    9564.000000      9110.000000      9110.000000   \n",
       "mean        0.120033      75.671358         0.002148        -0.002148   \n",
       "std         0.325018    1334.744046         0.008236         0.008236   \n",
       "min         0.000000       0.241843         0.000000        -0.172500   \n",
       "25%         0.000000       2.733684         0.000005        -0.000276   \n",
       "50%         0.000000       9.752831         0.000035        -0.000035   \n",
       "75%         0.000000      40.715178         0.000276        -0.000005   \n",
       "max         1.000000  129995.778400         0.172500         0.000000   \n",
       "\n",
       "       koi_time0bk  koi_time0bk_err1  ...  koi_dicco_mdec  koi_dicco_mdec_err  \\\n",
       "count  9564.000000       9110.000000  ...     8965.000000         8965.000000   \n",
       "mean    166.183251          0.009933  ...       -0.045420            0.446229   \n",
       "std      67.918960          0.023097  ...        2.573558            0.569933   \n",
       "min     120.515914          0.000009  ...      -75.900000            0.067000   \n",
       "25%     132.761718          0.001240  ...       -0.387000            0.098000   \n",
       "50%     137.224595          0.004130  ...        0.000000            0.280000   \n",
       "75%     170.694603          0.010500  ...        0.300000            0.610000   \n",
       "max    1472.522306          0.569000  ...       27.500000           22.000000   \n",
       "\n",
       "       koi_dicco_msky  koi_dicco_msky_err  koi_dikco_mra  koi_dikco_mra_err  \\\n",
       "count     8965.000000         8965.000000    8994.000000        8994.000000   \n",
       "mean         1.866561            0.489930      -0.024244           0.425337   \n",
       "std          2.988742            0.646403       2.382286           0.602150   \n",
       "min          0.000000            0.067000     -27.800000           0.067000   \n",
       "25%          0.170000            0.100000      -0.310000           0.087000   \n",
       "50%          0.610000            0.310000      -0.004000           0.250000   \n",
       "75%          2.160000            0.680000       0.290000           0.590000   \n",
       "max         88.600000           32.000000      46.570000          33.000000   \n",
       "\n",
       "       koi_dikco_mdec  koi_dikco_mdec_err  koi_dikco_msky  koi_dikco_msky_err  \n",
       "count     8994.000000         8994.000000     8994.000000         8994.000000  \n",
       "mean        -0.076749            0.436684        1.812566            0.476060  \n",
       "std          2.553758            0.567535        2.986376            0.647587  \n",
       "min        -76.600000            0.067000        0.000000            0.067000  \n",
       "25%         -0.390000            0.090000        0.210000            0.094000  \n",
       "50%         -0.017000            0.270000        0.583000            0.290000  \n",
       "75%          0.300000            0.600000        1.970000            0.660000  \n",
       "max         34.000000           22.000000       89.600000           32.000000  \n",
       "\n",
       "[8 rows x 122 columns]"
      ]
     },
     "execution_count": 25,
     "metadata": {},
     "output_type": "execute_result"
    }
   ],
   "source": [
    "kepler_df.describe()"
   ]
  },
  {
   "cell_type": "markdown",
   "metadata": {},
   "source": [
    "### For-Loops\n",
    "There are two primary looping methods in Python: For-loops and While-loops. We'll focus on For-loops for a second. \n",
    "\n",
    "A For-loop allows you to specify what's known as an iterator — usually an increasing array of indices — which let's you run a block of code over and over again under slightly different circumstances. For example, what if we wanted to advance through the observations of the Kepler target: 10797460 array, and on a new line each time, print the name of the exoplanet detection. I could do that with the following:"
   ]
  },
  {
   "cell_type": "code",
   "execution_count": 26,
   "metadata": {
    "tags": []
   },
   "outputs": [
    {
     "name": "stdout",
     "output_type": "stream",
     "text": [
      "Kepler-228 d\n",
      "Kepler-228 c\n",
      "Kepler-228 b\n"
     ]
    }
   ],
   "source": [
    "for i in kepler_10872983['kepler_name']:\n",
    "    print(i)\n"
   ]
  },
  {
   "cell_type": "markdown",
   "metadata": {},
   "source": [
    "OK, so what just happened? By saying `For ind in kepler_10797460['kepler_name']` I was telling the computer that `kepler_10797460['kepler_name']` was a container with multiple \"things\" in it (the entries we saw above). I told it \"Hey, for every *thing* in `kepler_10797460['kepler_name']`, print out that *thing*.\"\n",
    "\n",
    "Notice that this worked because I, the programmer, knew that `kepler_10797460['kepler_name']` was something that could be advanced through. \n",
    "\n",
    "Let's see another example. Remember the range() function? I can use that as a iterator as well:"
   ]
  },
  {
   "cell_type": "code",
   "execution_count": 27,
   "metadata": {},
   "outputs": [
    {
     "name": "stdout",
     "output_type": "stream",
     "text": [
      "I am analyzing data unit: 0\n",
      "I am analyzing data unit: 1\n",
      "I am analyzing data unit: 2\n",
      "I am analyzing data unit: 3\n",
      "I am analyzing data unit: 4\n",
      "I am analyzing data unit: 5\n",
      "I am analyzing data unit: 6\n",
      "I am analyzing data unit: 7\n",
      "I am analyzing data unit: 8\n",
      "I am analyzing data unit: 9\n"
     ]
    }
   ],
   "source": [
    "for i in range(10):\n",
    "    print('I am analyzing data unit: {}'.format(i))"
   ]
  },
  {
   "cell_type": "markdown",
   "metadata": {},
   "source": [
    "Remember, range(10) can be treated as [0,1,2,3,4,5,6,7,8,9]. You could, to see it more clearly, say:"
   ]
  },
  {
   "cell_type": "code",
   "execution_count": 28,
   "metadata": {},
   "outputs": [
    {
     "name": "stdout",
     "output_type": "stream",
     "text": [
      "I am analyzing data unit: 0\n",
      "I am analyzing data unit: 1\n",
      "I am analyzing data unit: 2\n",
      "I am analyzing data unit: 3\n",
      "I am analyzing data unit: 4\n",
      "I am analyzing data unit: 5\n",
      "I am analyzing data unit: 6\n",
      "I am analyzing data unit: 7\n",
      "I am analyzing data unit: 8\n",
      "I am analyzing data unit: 9\n"
     ]
    }
   ],
   "source": [
    "thing_to_loop_over = range(10)\n",
    "for thing in thing_to_loop_over:\n",
    "    print('I am analyzing data unit: {}'.format(thing))"
   ]
  },
  {
   "cell_type": "markdown",
   "metadata": {},
   "source": [
    "I'm also highlighting here that while \"i\" is a standard choice for an outer loop iterating variable name (followed by \"j\" and \"k\"), you can use whatever you want as long as it's consistent in the loop. "
   ]
  },
  {
   "cell_type": "markdown",
   "metadata": {},
   "source": [
    "I can also use loops to fill an empty array with values, e.g."
   ]
  },
  {
   "cell_type": "code",
   "execution_count": 29,
   "metadata": {},
   "outputs": [
    {
     "name": "stdout",
     "output_type": "stream",
     "text": [
      "['d', 'c', 'b']\n"
     ]
    }
   ],
   "source": [
    "to_fill = []\n",
    "for i in kepler_10872983['kepler_name']: #check the length of class_grades, and create a counting array that long\n",
    "    to_fill.append(i[-1])\n",
    "print(to_fill)"
   ]
  },
  {
   "cell_type": "markdown",
   "metadata": {},
   "source": [
    "What I've done here is make a list containing all the scores, as floats! For each item in class grades, I first take the 1st element (the i[1] part), then I force it to be a float (this wouldn't work if they weren't numbers in the strings), then I **appended** that value to the empty to_fill array outside. Appending to lists is easy, as shown, as a *method* of lists. So to add anything to the end of a list, you just write list_name.append(thing_to_add). \n",
    "\n",
    "### Exercise 1: A dictionary of Kepler IDs / exoplanets\n",
    "OK, it's time for you to dive in! Once you've gotten the hang of the above, and maybe played around a bit with it, try the following. \n",
    "\n",
    "In the cell block below, define an empty dictionary called \"kepler_planets\". Then, initialize a for-loop that goes through the \"kepler_array\" ndarray, and puts each Kepler ID (as a string or an integer) as a key, and the total number of confirmed exoplanets revolving it (as a float) as a value. \n",
    "\n",
    "You can set new values in a dictionary even easier than appending, simply use \n",
    "\n",
    "dictionary_name['new key'] = new value\n",
    "\n",
    "Hint: The 'koi_disposition' column tells us whether an exoplanet is 'CONFIRMED', a 'CANDIDATE', or a 'FALSE POSITIVE', and the 'kepler_name' column mentions the name of confirmed exoplanets.\n",
    "\n",
    "*Note: Here all our keys are strings, and this is often the use-case for dictionaries, but it is not required. You can make dictionaries whose keys are, for example, integers. "
   ]
  },
  {
   "cell_type": "code",
   "execution_count": 30,
   "metadata": {},
   "outputs": [],
   "source": [
    "kepler_planets = {}\n",
    "\n",
    "# Skip the header row (column names)\n",
    "kepler_arr_dat = kepler_array[1:]\n",
    "\n",
    "# Choose all the planets with `koi_disposition = CONFIRMED`\n",
    "kepler_arr_dat_conf = kepler_arr_dat[kepler_arr_dat[:, 3] == 'CONFIRMED']\n",
    "\n",
    "# Your code here\n",
    "# Find all the unique Kepler IDs\n",
    "unique_ids = np.unique(kepler_arr_dat_conf[:, 0])\n",
    "\n",
    "for index in unique_ids:\n",
    "    # Find the rows that have the unique Kepler ID: `index`\n",
    "    id_list_ind = np.where(kepler_arr_dat_conf[:, 0] == index)\n",
    "    id_list = kepler_arr_dat_conf[id_list_ind]\n",
    "\n",
    "    # Sum the confirmed exoplanets\n",
    "    kepler_planets[index] = len(id_list)"
   ]
  },
  {
   "cell_type": "markdown",
   "metadata": {},
   "source": [
    "Did it work? Try indexing for the Kepler ID '10872983' in the cell below:"
   ]
  },
  {
   "cell_type": "code",
   "execution_count": 31,
   "metadata": {},
   "outputs": [
    {
     "data": {
      "text/plain": [
       "3"
      ]
     },
     "execution_count": 31,
     "metadata": {},
     "output_type": "execute_result"
    }
   ],
   "source": [
    "kepler_planets['10872983']"
   ]
  },
  {
   "cell_type": "markdown",
   "metadata": {},
   "source": [
    "Did you get 3? Or are you struggling to create the dictionary?\n",
    "\n",
    "Do not worry if you weren't able to write the above code. The reason I asked you to try writing it is to show that it is not straightforward to perform the above opertaion using Numpy (nd)array, but relatively easy using Pandas DataFrame! Try the following code:"
   ]
  },
  {
   "cell_type": "code",
   "execution_count": 32,
   "metadata": {},
   "outputs": [
    {
     "name": "stdout",
     "output_type": "stream",
     "text": [
      "3 2 1 0\n"
     ]
    }
   ],
   "source": [
    "# Group entries in `kepler_df` by `kepid`\n",
    "kepler_df_groups = kepler_df.groupby('kepid')\n",
    "\n",
    "# Find the number of unique names of confirmed exoplanets\n",
    "kepler_planets = kepler_df_groups['kepler_name'].nunique()\n",
    "\n",
    "# Print examples\n",
    "print(kepler_planets[10872983], kepler_planets[10797460], kepler_planets[10854555], kepler_planets[10811496])"
   ]
  },
  {
   "cell_type": "code",
   "execution_count": 33,
   "metadata": {},
   "outputs": [
    {
     "data": {
      "text/plain": [
       "pandas.core.series.Series"
      ]
     },
     "execution_count": 33,
     "metadata": {},
     "output_type": "execute_result"
    }
   ],
   "source": [
    "type(kepler_planets)"
   ]
  },
  {
   "cell_type": "markdown",
   "metadata": {},
   "source": [
    "Here \"kepler_planets\" is indexed by an integer that represents the Kepler ID (rather than a string). Its datatype is \"pandas.core.series.Series\", which works similar to a dictionary. You can convert the Series to a dictionary using `kepler_planets.to_dict()`\n",
    "\n",
    "To see if the new \"kepler_planets\" Series is doing the right thing, index \"kepler_df\" for the Kepler IDs '10872983' and '10811496':"
   ]
  },
  {
   "cell_type": "code",
   "execution_count": 34,
   "metadata": {},
   "outputs": [
    {
     "data": {
      "text/html": [
       "<div>\n",
       "<style scoped>\n",
       "    .dataframe tbody tr th:only-of-type {\n",
       "        vertical-align: middle;\n",
       "    }\n",
       "\n",
       "    .dataframe tbody tr th {\n",
       "        vertical-align: top;\n",
       "    }\n",
       "\n",
       "    .dataframe thead th {\n",
       "        text-align: right;\n",
       "    }\n",
       "</style>\n",
       "<table border=\"1\" class=\"dataframe\">\n",
       "  <thead>\n",
       "    <tr style=\"text-align: right;\">\n",
       "      <th></th>\n",
       "      <th>kepoi_name</th>\n",
       "      <th>kepler_name</th>\n",
       "      <th>koi_disposition</th>\n",
       "      <th>koi_vet_stat</th>\n",
       "      <th>koi_vet_date</th>\n",
       "      <th>koi_pdisposition</th>\n",
       "      <th>koi_score</th>\n",
       "      <th>koi_fpflag_nt</th>\n",
       "      <th>koi_fpflag_ss</th>\n",
       "      <th>koi_fpflag_co</th>\n",
       "      <th>...</th>\n",
       "      <th>koi_dicco_mdec</th>\n",
       "      <th>koi_dicco_mdec_err</th>\n",
       "      <th>koi_dicco_msky</th>\n",
       "      <th>koi_dicco_msky_err</th>\n",
       "      <th>koi_dikco_mra</th>\n",
       "      <th>koi_dikco_mra_err</th>\n",
       "      <th>koi_dikco_mdec</th>\n",
       "      <th>koi_dikco_mdec_err</th>\n",
       "      <th>koi_dikco_msky</th>\n",
       "      <th>koi_dikco_msky_err</th>\n",
       "    </tr>\n",
       "    <tr>\n",
       "      <th>kepid</th>\n",
       "      <th></th>\n",
       "      <th></th>\n",
       "      <th></th>\n",
       "      <th></th>\n",
       "      <th></th>\n",
       "      <th></th>\n",
       "      <th></th>\n",
       "      <th></th>\n",
       "      <th></th>\n",
       "      <th></th>\n",
       "      <th></th>\n",
       "      <th></th>\n",
       "      <th></th>\n",
       "      <th></th>\n",
       "      <th></th>\n",
       "      <th></th>\n",
       "      <th></th>\n",
       "      <th></th>\n",
       "      <th></th>\n",
       "      <th></th>\n",
       "      <th></th>\n",
       "    </tr>\n",
       "  </thead>\n",
       "  <tbody>\n",
       "    <tr>\n",
       "      <th>10872983</th>\n",
       "      <td>K00756.01</td>\n",
       "      <td>Kepler-228 d</td>\n",
       "      <td>CONFIRMED</td>\n",
       "      <td>Done</td>\n",
       "      <td>2018-08-16</td>\n",
       "      <td>CANDIDATE</td>\n",
       "      <td>1.000</td>\n",
       "      <td>0</td>\n",
       "      <td>0</td>\n",
       "      <td>0</td>\n",
       "      <td>...</td>\n",
       "      <td>-0.07</td>\n",
       "      <td>0.11</td>\n",
       "      <td>0.08</td>\n",
       "      <td>0.13</td>\n",
       "      <td>-0.02</td>\n",
       "      <td>0.13</td>\n",
       "      <td>-0.08</td>\n",
       "      <td>0.10</td>\n",
       "      <td>0.08</td>\n",
       "      <td>0.10</td>\n",
       "    </tr>\n",
       "    <tr>\n",
       "      <th>10872983</th>\n",
       "      <td>K00756.02</td>\n",
       "      <td>Kepler-228 c</td>\n",
       "      <td>CONFIRMED</td>\n",
       "      <td>Done</td>\n",
       "      <td>2018-08-16</td>\n",
       "      <td>CANDIDATE</td>\n",
       "      <td>1.000</td>\n",
       "      <td>0</td>\n",
       "      <td>0</td>\n",
       "      <td>0</td>\n",
       "      <td>...</td>\n",
       "      <td>0.09</td>\n",
       "      <td>0.16</td>\n",
       "      <td>0.26</td>\n",
       "      <td>0.16</td>\n",
       "      <td>0.18</td>\n",
       "      <td>0.15</td>\n",
       "      <td>0.06</td>\n",
       "      <td>0.15</td>\n",
       "      <td>0.19</td>\n",
       "      <td>0.17</td>\n",
       "    </tr>\n",
       "    <tr>\n",
       "      <th>10872983</th>\n",
       "      <td>K00756.03</td>\n",
       "      <td>Kepler-228 b</td>\n",
       "      <td>CONFIRMED</td>\n",
       "      <td>Done</td>\n",
       "      <td>2018-08-16</td>\n",
       "      <td>CANDIDATE</td>\n",
       "      <td>0.992</td>\n",
       "      <td>0</td>\n",
       "      <td>0</td>\n",
       "      <td>0</td>\n",
       "      <td>...</td>\n",
       "      <td>-0.30</td>\n",
       "      <td>0.21</td>\n",
       "      <td>0.45</td>\n",
       "      <td>0.28</td>\n",
       "      <td>-0.41</td>\n",
       "      <td>0.33</td>\n",
       "      <td>-0.29</td>\n",
       "      <td>0.21</td>\n",
       "      <td>0.50</td>\n",
       "      <td>0.30</td>\n",
       "    </tr>\n",
       "  </tbody>\n",
       "</table>\n",
       "<p>3 rows × 139 columns</p>\n",
       "</div>"
      ],
      "text/plain": [
       "         kepoi_name   kepler_name koi_disposition koi_vet_stat koi_vet_date  \\\n",
       "kepid                                                                         \n",
       "10872983  K00756.01  Kepler-228 d       CONFIRMED         Done   2018-08-16   \n",
       "10872983  K00756.02  Kepler-228 c       CONFIRMED         Done   2018-08-16   \n",
       "10872983  K00756.03  Kepler-228 b       CONFIRMED         Done   2018-08-16   \n",
       "\n",
       "         koi_pdisposition  koi_score  koi_fpflag_nt  koi_fpflag_ss  \\\n",
       "kepid                                                                \n",
       "10872983        CANDIDATE      1.000              0              0   \n",
       "10872983        CANDIDATE      1.000              0              0   \n",
       "10872983        CANDIDATE      0.992              0              0   \n",
       "\n",
       "          koi_fpflag_co  ...  koi_dicco_mdec koi_dicco_mdec_err  \\\n",
       "kepid                    ...                                      \n",
       "10872983              0  ...           -0.07               0.11   \n",
       "10872983              0  ...            0.09               0.16   \n",
       "10872983              0  ...           -0.30               0.21   \n",
       "\n",
       "         koi_dicco_msky  koi_dicco_msky_err  koi_dikco_mra  koi_dikco_mra_err  \\\n",
       "kepid                                                                           \n",
       "10872983           0.08                0.13          -0.02               0.13   \n",
       "10872983           0.26                0.16           0.18               0.15   \n",
       "10872983           0.45                0.28          -0.41               0.33   \n",
       "\n",
       "          koi_dikco_mdec  koi_dikco_mdec_err  koi_dikco_msky  \\\n",
       "kepid                                                          \n",
       "10872983           -0.08                0.10            0.08   \n",
       "10872983            0.06                0.15            0.19   \n",
       "10872983           -0.29                0.21            0.50   \n",
       "\n",
       "          koi_dikco_msky_err  \n",
       "kepid                         \n",
       "10872983                0.10  \n",
       "10872983                0.17  \n",
       "10872983                0.30  \n",
       "\n",
       "[3 rows x 139 columns]"
      ]
     },
     "execution_count": 34,
     "metadata": {},
     "output_type": "execute_result"
    }
   ],
   "source": [
    "# Your code here\n",
    "kepler_df.loc[10872983]"
   ]
  },
  {
   "cell_type": "code",
   "execution_count": 35,
   "metadata": {},
   "outputs": [
    {
     "data": {
      "text/plain": [
       "kepoi_name             K00753.01\n",
       "kepler_name                  NaN\n",
       "koi_disposition        CANDIDATE\n",
       "koi_vet_stat                Done\n",
       "koi_vet_date          2018-08-16\n",
       "                         ...    \n",
       "koi_dikco_mra_err          0.071\n",
       "koi_dikco_mdec            -0.027\n",
       "koi_dikco_mdec_err         0.074\n",
       "koi_dikco_msky             0.027\n",
       "koi_dikco_msky_err         0.074\n",
       "Name: 10811496, Length: 139, dtype: object"
      ]
     },
     "execution_count": 35,
     "metadata": {},
     "output_type": "execute_result"
    }
   ],
   "source": [
    "# Your code here\n",
    "kepler_df.loc[10811496]"
   ]
  },
  {
   "cell_type": "markdown",
   "metadata": {},
   "source": [
    "Looks like \"kepler_planets\" contains the right information! \n",
    "\n",
    "Now let's find the Kepler ID with the most number of confirmed exoplanets."
   ]
  },
  {
   "cell_type": "code",
   "execution_count": 36,
   "metadata": {},
   "outputs": [
    {
     "data": {
      "text/plain": [
       "7"
      ]
     },
     "execution_count": 36,
     "metadata": {},
     "output_type": "execute_result"
    }
   ],
   "source": [
    "kepler_planets.max()"
   ]
  },
  {
   "cell_type": "code",
   "execution_count": 37,
   "metadata": {},
   "outputs": [
    {
     "data": {
      "text/html": [
       "<div>\n",
       "<style scoped>\n",
       "    .dataframe tbody tr th:only-of-type {\n",
       "        vertical-align: middle;\n",
       "    }\n",
       "\n",
       "    .dataframe tbody tr th {\n",
       "        vertical-align: top;\n",
       "    }\n",
       "\n",
       "    .dataframe thead th {\n",
       "        text-align: right;\n",
       "    }\n",
       "</style>\n",
       "<table border=\"1\" class=\"dataframe\">\n",
       "  <thead>\n",
       "    <tr style=\"text-align: right;\">\n",
       "      <th></th>\n",
       "      <th>kepoi_name</th>\n",
       "      <th>kepler_name</th>\n",
       "      <th>koi_disposition</th>\n",
       "      <th>koi_vet_stat</th>\n",
       "      <th>koi_vet_date</th>\n",
       "      <th>koi_pdisposition</th>\n",
       "      <th>koi_score</th>\n",
       "      <th>koi_fpflag_nt</th>\n",
       "      <th>koi_fpflag_ss</th>\n",
       "      <th>koi_fpflag_co</th>\n",
       "      <th>...</th>\n",
       "      <th>koi_dicco_mdec</th>\n",
       "      <th>koi_dicco_mdec_err</th>\n",
       "      <th>koi_dicco_msky</th>\n",
       "      <th>koi_dicco_msky_err</th>\n",
       "      <th>koi_dikco_mra</th>\n",
       "      <th>koi_dikco_mra_err</th>\n",
       "      <th>koi_dikco_mdec</th>\n",
       "      <th>koi_dikco_mdec_err</th>\n",
       "      <th>koi_dikco_msky</th>\n",
       "      <th>koi_dikco_msky_err</th>\n",
       "    </tr>\n",
       "    <tr>\n",
       "      <th>kepid</th>\n",
       "      <th></th>\n",
       "      <th></th>\n",
       "      <th></th>\n",
       "      <th></th>\n",
       "      <th></th>\n",
       "      <th></th>\n",
       "      <th></th>\n",
       "      <th></th>\n",
       "      <th></th>\n",
       "      <th></th>\n",
       "      <th></th>\n",
       "      <th></th>\n",
       "      <th></th>\n",
       "      <th></th>\n",
       "      <th></th>\n",
       "      <th></th>\n",
       "      <th></th>\n",
       "      <th></th>\n",
       "      <th></th>\n",
       "      <th></th>\n",
       "      <th></th>\n",
       "    </tr>\n",
       "  </thead>\n",
       "  <tbody>\n",
       "    <tr>\n",
       "      <th>11442793</th>\n",
       "      <td>K00351.01</td>\n",
       "      <td>Kepler-90 h</td>\n",
       "      <td>CONFIRMED</td>\n",
       "      <td>Done</td>\n",
       "      <td>2018-08-16</td>\n",
       "      <td>CANDIDATE</td>\n",
       "      <td>0.000</td>\n",
       "      <td>0</td>\n",
       "      <td>0</td>\n",
       "      <td>0</td>\n",
       "      <td>...</td>\n",
       "      <td>-0.078</td>\n",
       "      <td>0.078</td>\n",
       "      <td>0.093</td>\n",
       "      <td>0.077</td>\n",
       "      <td>-0.011</td>\n",
       "      <td>0.075</td>\n",
       "      <td>-0.13</td>\n",
       "      <td>0.095</td>\n",
       "      <td>0.13</td>\n",
       "      <td>0.095</td>\n",
       "    </tr>\n",
       "    <tr>\n",
       "      <th>11442793</th>\n",
       "      <td>K00351.02</td>\n",
       "      <td>Kepler-90 g</td>\n",
       "      <td>CONFIRMED</td>\n",
       "      <td>Done</td>\n",
       "      <td>2018-08-16</td>\n",
       "      <td>CANDIDATE</td>\n",
       "      <td>0.880</td>\n",
       "      <td>0</td>\n",
       "      <td>0</td>\n",
       "      <td>0</td>\n",
       "      <td>...</td>\n",
       "      <td>-0.090</td>\n",
       "      <td>0.170</td>\n",
       "      <td>0.120</td>\n",
       "      <td>0.140</td>\n",
       "      <td>-0.071</td>\n",
       "      <td>0.078</td>\n",
       "      <td>-0.18</td>\n",
       "      <td>0.160</td>\n",
       "      <td>0.19</td>\n",
       "      <td>0.150</td>\n",
       "    </tr>\n",
       "    <tr>\n",
       "      <th>11442793</th>\n",
       "      <td>K00351.03</td>\n",
       "      <td>Kepler-90 d</td>\n",
       "      <td>CONFIRMED</td>\n",
       "      <td>Done</td>\n",
       "      <td>2018-08-16</td>\n",
       "      <td>CANDIDATE</td>\n",
       "      <td>0.999</td>\n",
       "      <td>0</td>\n",
       "      <td>0</td>\n",
       "      <td>0</td>\n",
       "      <td>...</td>\n",
       "      <td>0.350</td>\n",
       "      <td>0.340</td>\n",
       "      <td>0.400</td>\n",
       "      <td>0.310</td>\n",
       "      <td>0.210</td>\n",
       "      <td>0.190</td>\n",
       "      <td>0.26</td>\n",
       "      <td>0.350</td>\n",
       "      <td>0.34</td>\n",
       "      <td>0.300</td>\n",
       "    </tr>\n",
       "    <tr>\n",
       "      <th>11442793</th>\n",
       "      <td>K00351.05</td>\n",
       "      <td>Kepler-90 c</td>\n",
       "      <td>CONFIRMED</td>\n",
       "      <td>Done</td>\n",
       "      <td>2018-08-16</td>\n",
       "      <td>CANDIDATE</td>\n",
       "      <td>0.999</td>\n",
       "      <td>0</td>\n",
       "      <td>0</td>\n",
       "      <td>0</td>\n",
       "      <td>...</td>\n",
       "      <td>0.510</td>\n",
       "      <td>0.580</td>\n",
       "      <td>0.510</td>\n",
       "      <td>0.550</td>\n",
       "      <td>0.060</td>\n",
       "      <td>0.310</td>\n",
       "      <td>0.43</td>\n",
       "      <td>0.450</td>\n",
       "      <td>0.43</td>\n",
       "      <td>0.450</td>\n",
       "    </tr>\n",
       "    <tr>\n",
       "      <th>11442793</th>\n",
       "      <td>K00351.06</td>\n",
       "      <td>Kepler-90 b</td>\n",
       "      <td>CONFIRMED</td>\n",
       "      <td>Done</td>\n",
       "      <td>2018-08-16</td>\n",
       "      <td>CANDIDATE</td>\n",
       "      <td>0.916</td>\n",
       "      <td>0</td>\n",
       "      <td>0</td>\n",
       "      <td>0</td>\n",
       "      <td>...</td>\n",
       "      <td>-0.440</td>\n",
       "      <td>0.390</td>\n",
       "      <td>0.570</td>\n",
       "      <td>0.440</td>\n",
       "      <td>0.380</td>\n",
       "      <td>0.350</td>\n",
       "      <td>-0.54</td>\n",
       "      <td>0.370</td>\n",
       "      <td>0.66</td>\n",
       "      <td>0.420</td>\n",
       "    </tr>\n",
       "    <tr>\n",
       "      <th>11442793</th>\n",
       "      <td>K00351.04</td>\n",
       "      <td>Kepler-90 e</td>\n",
       "      <td>CONFIRMED</td>\n",
       "      <td>Done</td>\n",
       "      <td>2018-08-16</td>\n",
       "      <td>CANDIDATE</td>\n",
       "      <td>0.971</td>\n",
       "      <td>0</td>\n",
       "      <td>0</td>\n",
       "      <td>0</td>\n",
       "      <td>...</td>\n",
       "      <td>-1.160</td>\n",
       "      <td>0.430</td>\n",
       "      <td>1.280</td>\n",
       "      <td>0.450</td>\n",
       "      <td>0.570</td>\n",
       "      <td>0.320</td>\n",
       "      <td>-1.23</td>\n",
       "      <td>0.420</td>\n",
       "      <td>1.35</td>\n",
       "      <td>0.430</td>\n",
       "    </tr>\n",
       "    <tr>\n",
       "      <th>11442793</th>\n",
       "      <td>K00351.07</td>\n",
       "      <td>Kepler-90 f</td>\n",
       "      <td>CONFIRMED</td>\n",
       "      <td>Done</td>\n",
       "      <td>2018-08-16</td>\n",
       "      <td>CANDIDATE</td>\n",
       "      <td>0.995</td>\n",
       "      <td>0</td>\n",
       "      <td>0</td>\n",
       "      <td>0</td>\n",
       "      <td>...</td>\n",
       "      <td>-0.010</td>\n",
       "      <td>0.540</td>\n",
       "      <td>0.240</td>\n",
       "      <td>0.710</td>\n",
       "      <td>-0.240</td>\n",
       "      <td>0.720</td>\n",
       "      <td>-0.04</td>\n",
       "      <td>0.580</td>\n",
       "      <td>0.25</td>\n",
       "      <td>0.720</td>\n",
       "    </tr>\n",
       "  </tbody>\n",
       "</table>\n",
       "<p>7 rows × 139 columns</p>\n",
       "</div>"
      ],
      "text/plain": [
       "         kepoi_name  kepler_name koi_disposition koi_vet_stat koi_vet_date  \\\n",
       "kepid                                                                        \n",
       "11442793  K00351.01  Kepler-90 h       CONFIRMED         Done   2018-08-16   \n",
       "11442793  K00351.02  Kepler-90 g       CONFIRMED         Done   2018-08-16   \n",
       "11442793  K00351.03  Kepler-90 d       CONFIRMED         Done   2018-08-16   \n",
       "11442793  K00351.05  Kepler-90 c       CONFIRMED         Done   2018-08-16   \n",
       "11442793  K00351.06  Kepler-90 b       CONFIRMED         Done   2018-08-16   \n",
       "11442793  K00351.04  Kepler-90 e       CONFIRMED         Done   2018-08-16   \n",
       "11442793  K00351.07  Kepler-90 f       CONFIRMED         Done   2018-08-16   \n",
       "\n",
       "         koi_pdisposition  koi_score  koi_fpflag_nt  koi_fpflag_ss  \\\n",
       "kepid                                                                \n",
       "11442793        CANDIDATE      0.000              0              0   \n",
       "11442793        CANDIDATE      0.880              0              0   \n",
       "11442793        CANDIDATE      0.999              0              0   \n",
       "11442793        CANDIDATE      0.999              0              0   \n",
       "11442793        CANDIDATE      0.916              0              0   \n",
       "11442793        CANDIDATE      0.971              0              0   \n",
       "11442793        CANDIDATE      0.995              0              0   \n",
       "\n",
       "          koi_fpflag_co  ...  koi_dicco_mdec koi_dicco_mdec_err  \\\n",
       "kepid                    ...                                      \n",
       "11442793              0  ...          -0.078              0.078   \n",
       "11442793              0  ...          -0.090              0.170   \n",
       "11442793              0  ...           0.350              0.340   \n",
       "11442793              0  ...           0.510              0.580   \n",
       "11442793              0  ...          -0.440              0.390   \n",
       "11442793              0  ...          -1.160              0.430   \n",
       "11442793              0  ...          -0.010              0.540   \n",
       "\n",
       "         koi_dicco_msky  koi_dicco_msky_err  koi_dikco_mra  koi_dikco_mra_err  \\\n",
       "kepid                                                                           \n",
       "11442793          0.093               0.077         -0.011              0.075   \n",
       "11442793          0.120               0.140         -0.071              0.078   \n",
       "11442793          0.400               0.310          0.210              0.190   \n",
       "11442793          0.510               0.550          0.060              0.310   \n",
       "11442793          0.570               0.440          0.380              0.350   \n",
       "11442793          1.280               0.450          0.570              0.320   \n",
       "11442793          0.240               0.710         -0.240              0.720   \n",
       "\n",
       "          koi_dikco_mdec  koi_dikco_mdec_err  koi_dikco_msky  \\\n",
       "kepid                                                          \n",
       "11442793           -0.13               0.095            0.13   \n",
       "11442793           -0.18               0.160            0.19   \n",
       "11442793            0.26               0.350            0.34   \n",
       "11442793            0.43               0.450            0.43   \n",
       "11442793           -0.54               0.370            0.66   \n",
       "11442793           -1.23               0.420            1.35   \n",
       "11442793           -0.04               0.580            0.25   \n",
       "\n",
       "          koi_dikco_msky_err  \n",
       "kepid                         \n",
       "11442793               0.095  \n",
       "11442793               0.150  \n",
       "11442793               0.300  \n",
       "11442793               0.450  \n",
       "11442793               0.420  \n",
       "11442793               0.430  \n",
       "11442793               0.720  \n",
       "\n",
       "[7 rows x 139 columns]"
      ]
     },
     "execution_count": 37,
     "metadata": {},
     "output_type": "execute_result"
    }
   ],
   "source": [
    "kepler_df.loc[kepler_planets.idxmax()]"
   ]
  },
  {
   "cell_type": "markdown",
   "metadata": {},
   "source": [
    "We can also find the mean number of exoplanets."
   ]
  },
  {
   "cell_type": "code",
   "execution_count": 38,
   "metadata": {},
   "outputs": [
    {
     "data": {
      "text/plain": [
       "0.32505478451424397"
      ]
     },
     "execution_count": 38,
     "metadata": {},
     "output_type": "execute_result"
    }
   ],
   "source": [
    "kepler_planets.mean()"
   ]
  },
  {
   "cell_type": "markdown",
   "metadata": {},
   "source": [
    "Looks like the mean is 0.32. How do we know if a Kepler ID has more or less (than the mean) confirmed exoplanets? That's, naturally, where conditional \"if-statements\" come in. \n",
    "\n",
    "## If Statements and other Conditionals\n",
    "The problem I've posed, of figuring out whether a condition is true or not, is addressed in code via conditional statements. They run, logically, along the lines of \"IF something is TRUE, do THIS, IF something ELSE is TRUE, do THAT, OTHERWISE do SOMETHING ELSE.\" \n",
    "\n",
    "Here's an example:"
   ]
  },
  {
   "cell_type": "code",
   "execution_count": 401,
   "metadata": {},
   "outputs": [
    {
     "data": {
      "text/plain": [
       "Text(0.5, 1.0, 'Confirmed Planets')"
      ]
     },
     "execution_count": 401,
     "metadata": {},
     "output_type": "execute_result"
    },
    {
     "data": {
      "image/png": "[encoded data removed]",
      "text/plain": [
       "<Figure size 432x288 with 1 Axes>"
      ]
     },
     "metadata": {
      "needs_background": "light"
     },
     "output_type": "display_data"
    }
   ],
   "source": [
    "fig, ax = plt.subplots(1, 1)\n",
    "\n",
    "for ind, row in kepler_df.iterrows():\n",
    "    if row['koi_disposition'] == 'CONFIRMED':\n",
    "        ax.scatter(row['koi_period'], row['koi_prad'], color='blue', s=2)\n",
    "\n",
    "# We will go over the plotting details later\n",
    "ax.set_xscale('log')\n",
    "ax.set_yscale('log')\n",
    "ax.set_xlim(10**(-1), 10**(4))\n",
    "ax.set_ylim(10**(-1), 10**(6))\n",
    "ax.set_xlabel('Period [days]')\n",
    "ax.set_ylabel('Radius [Earth Radii]')\n",
    "ax.set_title('Confirmed Planets')"
   ]
  },
  {
   "cell_type": "markdown",
   "metadata": {},
   "source": [
    "We can also link several if-statements using elif statements, which are combinations of else and if:"
   ]
  },
  {
   "cell_type": "code",
   "execution_count": 402,
   "metadata": {},
   "outputs": [
    {
     "data": {
      "text/plain": [
       "Text(0.5, 1.0, 'Candidate + Confirmed Planets')"
      ]
     },
     "execution_count": 402,
     "metadata": {},
     "output_type": "execute_result"
    },
    {
     "data": {
      "image/png": "[encoded data removed]",
      "text/plain": [
       "<Figure size 432x288 with 1 Axes>"
      ]
     },
     "metadata": {
      "needs_background": "light"
     },
     "output_type": "display_data"
    }
   ],
   "source": [
    "fig, ax = plt.subplots(1, 1)\n",
    "\n",
    "for ind, row in kepler_df.iterrows():\n",
    "    if row['koi_disposition'] == 'CANDIDATE':\n",
    "        ax.scatter(row['koi_period'], row['koi_prad'], color='red', s=2, alpha=0.5)\n",
    "    elif row['koi_disposition'] == 'CONFIRMED':\n",
    "        ax.scatter(row['koi_period'], row['koi_prad'], color='blue', s=2)\n",
    "    else:\n",
    "        pass\n",
    "\n",
    "ax.set_xscale('log')\n",
    "ax.set_yscale('log')\n",
    "ax.set_xlim(10**(-1), 10**(4))\n",
    "ax.set_ylim(10**(-1), 10**(6))\n",
    "ax.set_xlabel('Period [days]')\n",
    "ax.set_ylabel('Radius [Earth Radii]')\n",
    "ax.set_title('Candidate + Confirmed Planets')"
   ]
  },
  {
   "cell_type": "markdown",
   "metadata": {},
   "source": [
    "What happened here? We said \"IF the Kepler object of interest is a planet CANDIDATE, plot its radius vs period in red, ELSE, IF it is a CONFIRMED planet, plot its radius vs period in blue, ELSE do nothing (`pass`)\". If the first condition is met, the elif (or else) is not triggered. Thus, by mixing together if's, else's, and elif's, you can check conditions you are interested in.\n",
    "\n",
    "Notice that the above looks very similar to [this pre-generated plot](https://exoplanetarchive.ipac.caltech.edu/exoplanetplots/exokepler_all_radperiod.png) on the NASA Exoplanet Archive! You are on your way to making publication-quality plots.\n",
    "\n",
    "Let's look at a simple example to better understand conditionals:"
   ]
  },
  {
   "cell_type": "code",
   "execution_count": 352,
   "metadata": {},
   "outputs": [
    {
     "name": "stdout",
     "output_type": "stream",
     "text": [
      "This is a long name\n"
     ]
    }
   ],
   "source": [
    "person_name = 'Finnaeus Fthrockbottom'\n",
    "if len(person_name) < 10:\n",
    "    print('This is a short name')\n",
    "else: \n",
    "    print('This is a long name')"
   ]
  },
  {
   "cell_type": "code",
   "execution_count": 353,
   "metadata": {},
   "outputs": [
    {
     "name": "stdout",
     "output_type": "stream",
     "text": [
      "Both present\n",
      "One is present\n",
      "Neither present\n",
      "One is not present\n"
     ]
    }
   ],
   "source": [
    "if ('F' in person_name) and ('n' in person_name):\n",
    "    print('Both present')\n",
    "\n",
    "if ('F' in person_name) or ('n' in person_name):\n",
    "    print('One is present')\n",
    "\n",
    "if ('l' not in person_name) and ('y' not in person_name):\n",
    "    print('Neither present')\n",
    "\n",
    "if ('l' not in person_name) or ('F' not in person_name):\n",
    "    print('One is not present')"
   ]
  },
  {
   "cell_type": "markdown",
   "metadata": {},
   "source": [
    "Take a moment parsing the above, seeing how you can string together conditionals. You can ask if things are in, or not in, other things, or you can compare values by asking if things are equal (==), not equal (!=), or greater than/less than (>, <). \n",
    "\n",
    "### Exercise: Sort the entries\n",
    "Below, sort the indices (Kepler IDs) of the \"kepler_df\" DataFrame. You can google how to do that!"
   ]
  },
  {
   "cell_type": "code",
   "execution_count": 358,
   "metadata": {},
   "outputs": [
    {
     "data": {
      "text/html": [
       "<div>\n",
       "<style scoped>\n",
       "    .dataframe tbody tr th:only-of-type {\n",
       "        vertical-align: middle;\n",
       "    }\n",
       "\n",
       "    .dataframe tbody tr th {\n",
       "        vertical-align: top;\n",
       "    }\n",
       "\n",
       "    .dataframe thead th {\n",
       "        text-align: right;\n",
       "    }\n",
       "</style>\n",
       "<table border=\"1\" class=\"dataframe\">\n",
       "  <thead>\n",
       "    <tr style=\"text-align: right;\">\n",
       "      <th></th>\n",
       "      <th>kepoi_name</th>\n",
       "      <th>kepler_name</th>\n",
       "      <th>koi_disposition</th>\n",
       "      <th>koi_vet_stat</th>\n",
       "      <th>koi_vet_date</th>\n",
       "      <th>koi_pdisposition</th>\n",
       "      <th>koi_score</th>\n",
       "      <th>koi_fpflag_nt</th>\n",
       "      <th>koi_fpflag_ss</th>\n",
       "      <th>koi_fpflag_co</th>\n",
       "      <th>...</th>\n",
       "      <th>koi_dicco_mdec</th>\n",
       "      <th>koi_dicco_mdec_err</th>\n",
       "      <th>koi_dicco_msky</th>\n",
       "      <th>koi_dicco_msky_err</th>\n",
       "      <th>koi_dikco_mra</th>\n",
       "      <th>koi_dikco_mra_err</th>\n",
       "      <th>koi_dikco_mdec</th>\n",
       "      <th>koi_dikco_mdec_err</th>\n",
       "      <th>koi_dikco_msky</th>\n",
       "      <th>koi_dikco_msky_err</th>\n",
       "    </tr>\n",
       "    <tr>\n",
       "      <th>kepid</th>\n",
       "      <th></th>\n",
       "      <th></th>\n",
       "      <th></th>\n",
       "      <th></th>\n",
       "      <th></th>\n",
       "      <th></th>\n",
       "      <th></th>\n",
       "      <th></th>\n",
       "      <th></th>\n",
       "      <th></th>\n",
       "      <th></th>\n",
       "      <th></th>\n",
       "      <th></th>\n",
       "      <th></th>\n",
       "      <th></th>\n",
       "      <th></th>\n",
       "      <th></th>\n",
       "      <th></th>\n",
       "      <th></th>\n",
       "      <th></th>\n",
       "      <th></th>\n",
       "    </tr>\n",
       "  </thead>\n",
       "  <tbody>\n",
       "    <tr>\n",
       "      <th>757450</th>\n",
       "      <td>K00889.01</td>\n",
       "      <td>Kepler-75 b</td>\n",
       "      <td>CONFIRMED</td>\n",
       "      <td>Done</td>\n",
       "      <td>2018-08-16</td>\n",
       "      <td>CANDIDATE</td>\n",
       "      <td>0.999</td>\n",
       "      <td>0</td>\n",
       "      <td>0</td>\n",
       "      <td>0</td>\n",
       "      <td>...</td>\n",
       "      <td>0.071</td>\n",
       "      <td>0.070</td>\n",
       "      <td>0.071</td>\n",
       "      <td>0.069</td>\n",
       "      <td>0.083</td>\n",
       "      <td>0.072</td>\n",
       "      <td>-0.097</td>\n",
       "      <td>0.078</td>\n",
       "      <td>0.127</td>\n",
       "      <td>0.076</td>\n",
       "    </tr>\n",
       "    <tr>\n",
       "      <th>892772</th>\n",
       "      <td>K01009.01</td>\n",
       "      <td>NaN</td>\n",
       "      <td>FALSE POSITIVE</td>\n",
       "      <td>Done</td>\n",
       "      <td>2018-08-16</td>\n",
       "      <td>FALSE POSITIVE</td>\n",
       "      <td>0.000</td>\n",
       "      <td>0</td>\n",
       "      <td>0</td>\n",
       "      <td>1</td>\n",
       "      <td>...</td>\n",
       "      <td>-1.340</td>\n",
       "      <td>0.130</td>\n",
       "      <td>4.920</td>\n",
       "      <td>0.160</td>\n",
       "      <td>-4.950</td>\n",
       "      <td>0.150</td>\n",
       "      <td>-1.580</td>\n",
       "      <td>0.120</td>\n",
       "      <td>5.190</td>\n",
       "      <td>0.160</td>\n",
       "    </tr>\n",
       "    <tr>\n",
       "      <th>1025986</th>\n",
       "      <td>K07621.01</td>\n",
       "      <td>NaN</td>\n",
       "      <td>CANDIDATE</td>\n",
       "      <td>Done</td>\n",
       "      <td>2018-08-16</td>\n",
       "      <td>CANDIDATE</td>\n",
       "      <td>0.000</td>\n",
       "      <td>0</td>\n",
       "      <td>0</td>\n",
       "      <td>0</td>\n",
       "      <td>...</td>\n",
       "      <td>-2.500</td>\n",
       "      <td>2.500</td>\n",
       "      <td>3.800</td>\n",
       "      <td>1.900</td>\n",
       "      <td>2.780</td>\n",
       "      <td>0.540</td>\n",
       "      <td>-2.500</td>\n",
       "      <td>2.600</td>\n",
       "      <td>3.700</td>\n",
       "      <td>2.000</td>\n",
       "    </tr>\n",
       "    <tr>\n",
       "      <th>1026032</th>\n",
       "      <td>K06252.01</td>\n",
       "      <td>NaN</td>\n",
       "      <td>FALSE POSITIVE</td>\n",
       "      <td>Done</td>\n",
       "      <td>2018-08-16</td>\n",
       "      <td>FALSE POSITIVE</td>\n",
       "      <td>0.000</td>\n",
       "      <td>0</td>\n",
       "      <td>1</td>\n",
       "      <td>0</td>\n",
       "      <td>...</td>\n",
       "      <td>0.051</td>\n",
       "      <td>0.067</td>\n",
       "      <td>0.079</td>\n",
       "      <td>0.067</td>\n",
       "      <td>0.005</td>\n",
       "      <td>0.074</td>\n",
       "      <td>-0.059</td>\n",
       "      <td>0.077</td>\n",
       "      <td>0.060</td>\n",
       "      <td>0.077</td>\n",
       "    </tr>\n",
       "    <tr>\n",
       "      <th>1026957</th>\n",
       "      <td>K00958.01</td>\n",
       "      <td>Kepler-1731 b</td>\n",
       "      <td>CONFIRMED</td>\n",
       "      <td>Done</td>\n",
       "      <td>2018-08-16</td>\n",
       "      <td>CANDIDATE</td>\n",
       "      <td>1.000</td>\n",
       "      <td>0</td>\n",
       "      <td>0</td>\n",
       "      <td>0</td>\n",
       "      <td>...</td>\n",
       "      <td>0.140</td>\n",
       "      <td>0.150</td>\n",
       "      <td>0.150</td>\n",
       "      <td>0.140</td>\n",
       "      <td>-0.080</td>\n",
       "      <td>0.120</td>\n",
       "      <td>-0.290</td>\n",
       "      <td>0.160</td>\n",
       "      <td>0.300</td>\n",
       "      <td>0.140</td>\n",
       "    </tr>\n",
       "    <tr>\n",
       "      <th>...</th>\n",
       "      <td>...</td>\n",
       "      <td>...</td>\n",
       "      <td>...</td>\n",
       "      <td>...</td>\n",
       "      <td>...</td>\n",
       "      <td>...</td>\n",
       "      <td>...</td>\n",
       "      <td>...</td>\n",
       "      <td>...</td>\n",
       "      <td>...</td>\n",
       "      <td>...</td>\n",
       "      <td>...</td>\n",
       "      <td>...</td>\n",
       "      <td>...</td>\n",
       "      <td>...</td>\n",
       "      <td>...</td>\n",
       "      <td>...</td>\n",
       "      <td>...</td>\n",
       "      <td>...</td>\n",
       "      <td>...</td>\n",
       "      <td>...</td>\n",
       "    </tr>\n",
       "    <tr>\n",
       "      <th>12834874</th>\n",
       "      <td>K00487.01</td>\n",
       "      <td>Kepler-574 b</td>\n",
       "      <td>CONFIRMED</td>\n",
       "      <td>Done</td>\n",
       "      <td>2018-08-16</td>\n",
       "      <td>CANDIDATE</td>\n",
       "      <td>1.000</td>\n",
       "      <td>0</td>\n",
       "      <td>0</td>\n",
       "      <td>0</td>\n",
       "      <td>...</td>\n",
       "      <td>-0.010</td>\n",
       "      <td>0.120</td>\n",
       "      <td>0.220</td>\n",
       "      <td>0.150</td>\n",
       "      <td>0.160</td>\n",
       "      <td>0.150</td>\n",
       "      <td>0.040</td>\n",
       "      <td>0.130</td>\n",
       "      <td>0.170</td>\n",
       "      <td>0.160</td>\n",
       "    </tr>\n",
       "    <tr>\n",
       "      <th>12835139</th>\n",
       "      <td>K05981.01</td>\n",
       "      <td>NaN</td>\n",
       "      <td>FALSE POSITIVE</td>\n",
       "      <td>Done</td>\n",
       "      <td>2018-08-16</td>\n",
       "      <td>FALSE POSITIVE</td>\n",
       "      <td>NaN</td>\n",
       "      <td>1</td>\n",
       "      <td>0</td>\n",
       "      <td>0</td>\n",
       "      <td>...</td>\n",
       "      <td>-1.600</td>\n",
       "      <td>4.500</td>\n",
       "      <td>2.100</td>\n",
       "      <td>3.900</td>\n",
       "      <td>1.300</td>\n",
       "      <td>1.900</td>\n",
       "      <td>-1.400</td>\n",
       "      <td>2.800</td>\n",
       "      <td>1.900</td>\n",
       "      <td>2.200</td>\n",
       "    </tr>\n",
       "    <tr>\n",
       "      <th>12885212</th>\n",
       "      <td>K02184.02</td>\n",
       "      <td>NaN</td>\n",
       "      <td>CANDIDATE</td>\n",
       "      <td>Done</td>\n",
       "      <td>2018-08-16</td>\n",
       "      <td>CANDIDATE</td>\n",
       "      <td>0.638</td>\n",
       "      <td>0</td>\n",
       "      <td>0</td>\n",
       "      <td>0</td>\n",
       "      <td>...</td>\n",
       "      <td>0.540</td>\n",
       "      <td>0.650</td>\n",
       "      <td>0.610</td>\n",
       "      <td>0.800</td>\n",
       "      <td>-0.140</td>\n",
       "      <td>0.820</td>\n",
       "      <td>0.810</td>\n",
       "      <td>0.630</td>\n",
       "      <td>0.830</td>\n",
       "      <td>0.630</td>\n",
       "    </tr>\n",
       "    <tr>\n",
       "      <th>12885212</th>\n",
       "      <td>K02184.01</td>\n",
       "      <td>NaN</td>\n",
       "      <td>FALSE POSITIVE</td>\n",
       "      <td>Done</td>\n",
       "      <td>2018-08-16</td>\n",
       "      <td>FALSE POSITIVE</td>\n",
       "      <td>0.001</td>\n",
       "      <td>0</td>\n",
       "      <td>0</td>\n",
       "      <td>1</td>\n",
       "      <td>...</td>\n",
       "      <td>7.528</td>\n",
       "      <td>0.092</td>\n",
       "      <td>7.529</td>\n",
       "      <td>0.092</td>\n",
       "      <td>0.199</td>\n",
       "      <td>0.079</td>\n",
       "      <td>7.765</td>\n",
       "      <td>0.094</td>\n",
       "      <td>7.768</td>\n",
       "      <td>0.093</td>\n",
       "    </tr>\n",
       "    <tr>\n",
       "      <th>12935144</th>\n",
       "      <td>K02847.01</td>\n",
       "      <td>NaN</td>\n",
       "      <td>FALSE POSITIVE</td>\n",
       "      <td>Done</td>\n",
       "      <td>2018-08-16</td>\n",
       "      <td>FALSE POSITIVE</td>\n",
       "      <td>0.000</td>\n",
       "      <td>0</td>\n",
       "      <td>0</td>\n",
       "      <td>1</td>\n",
       "      <td>...</td>\n",
       "      <td>11.070</td>\n",
       "      <td>0.120</td>\n",
       "      <td>12.980</td>\n",
       "      <td>0.110</td>\n",
       "      <td>6.837</td>\n",
       "      <td>0.097</td>\n",
       "      <td>11.430</td>\n",
       "      <td>0.150</td>\n",
       "      <td>13.320</td>\n",
       "      <td>0.140</td>\n",
       "    </tr>\n",
       "  </tbody>\n",
       "</table>\n",
       "<p>9564 rows × 139 columns</p>\n",
       "</div>"
      ],
      "text/plain": [
       "         kepoi_name    kepler_name koi_disposition koi_vet_stat koi_vet_date  \\\n",
       "kepid                                                                          \n",
       "757450    K00889.01    Kepler-75 b       CONFIRMED         Done   2018-08-16   \n",
       "892772    K01009.01            NaN  FALSE POSITIVE         Done   2018-08-16   \n",
       "1025986   K07621.01            NaN       CANDIDATE         Done   2018-08-16   \n",
       "1026032   K06252.01            NaN  FALSE POSITIVE         Done   2018-08-16   \n",
       "1026957   K00958.01  Kepler-1731 b       CONFIRMED         Done   2018-08-16   \n",
       "...             ...            ...             ...          ...          ...   \n",
       "12834874  K00487.01   Kepler-574 b       CONFIRMED         Done   2018-08-16   \n",
       "12835139  K05981.01            NaN  FALSE POSITIVE         Done   2018-08-16   \n",
       "12885212  K02184.02            NaN       CANDIDATE         Done   2018-08-16   \n",
       "12885212  K02184.01            NaN  FALSE POSITIVE         Done   2018-08-16   \n",
       "12935144  K02847.01            NaN  FALSE POSITIVE         Done   2018-08-16   \n",
       "\n",
       "         koi_pdisposition  koi_score  koi_fpflag_nt  koi_fpflag_ss  \\\n",
       "kepid                                                                \n",
       "757450          CANDIDATE      0.999              0              0   \n",
       "892772     FALSE POSITIVE      0.000              0              0   \n",
       "1025986         CANDIDATE      0.000              0              0   \n",
       "1026032    FALSE POSITIVE      0.000              0              1   \n",
       "1026957         CANDIDATE      1.000              0              0   \n",
       "...                   ...        ...            ...            ...   \n",
       "12834874        CANDIDATE      1.000              0              0   \n",
       "12835139   FALSE POSITIVE        NaN              1              0   \n",
       "12885212        CANDIDATE      0.638              0              0   \n",
       "12885212   FALSE POSITIVE      0.001              0              0   \n",
       "12935144   FALSE POSITIVE      0.000              0              0   \n",
       "\n",
       "          koi_fpflag_co  ...  koi_dicco_mdec koi_dicco_mdec_err  \\\n",
       "kepid                    ...                                      \n",
       "757450                0  ...           0.071              0.070   \n",
       "892772                1  ...          -1.340              0.130   \n",
       "1025986               0  ...          -2.500              2.500   \n",
       "1026032               0  ...           0.051              0.067   \n",
       "1026957               0  ...           0.140              0.150   \n",
       "...                 ...  ...             ...                ...   \n",
       "12834874              0  ...          -0.010              0.120   \n",
       "12835139              0  ...          -1.600              4.500   \n",
       "12885212              0  ...           0.540              0.650   \n",
       "12885212              1  ...           7.528              0.092   \n",
       "12935144              1  ...          11.070              0.120   \n",
       "\n",
       "         koi_dicco_msky  koi_dicco_msky_err  koi_dikco_mra  koi_dikco_mra_err  \\\n",
       "kepid                                                                           \n",
       "757450            0.071               0.069          0.083              0.072   \n",
       "892772            4.920               0.160         -4.950              0.150   \n",
       "1025986           3.800               1.900          2.780              0.540   \n",
       "1026032           0.079               0.067          0.005              0.074   \n",
       "1026957           0.150               0.140         -0.080              0.120   \n",
       "...                 ...                 ...            ...                ...   \n",
       "12834874          0.220               0.150          0.160              0.150   \n",
       "12835139          2.100               3.900          1.300              1.900   \n",
       "12885212          0.610               0.800         -0.140              0.820   \n",
       "12885212          7.529               0.092          0.199              0.079   \n",
       "12935144         12.980               0.110          6.837              0.097   \n",
       "\n",
       "          koi_dikco_mdec  koi_dikco_mdec_err  koi_dikco_msky  \\\n",
       "kepid                                                          \n",
       "757450            -0.097               0.078           0.127   \n",
       "892772            -1.580               0.120           5.190   \n",
       "1025986           -2.500               2.600           3.700   \n",
       "1026032           -0.059               0.077           0.060   \n",
       "1026957           -0.290               0.160           0.300   \n",
       "...                  ...                 ...             ...   \n",
       "12834874           0.040               0.130           0.170   \n",
       "12835139          -1.400               2.800           1.900   \n",
       "12885212           0.810               0.630           0.830   \n",
       "12885212           7.765               0.094           7.768   \n",
       "12935144          11.430               0.150          13.320   \n",
       "\n",
       "          koi_dikco_msky_err  \n",
       "kepid                         \n",
       "757450                 0.076  \n",
       "892772                 0.160  \n",
       "1025986                2.000  \n",
       "1026032                0.077  \n",
       "1026957                0.140  \n",
       "...                      ...  \n",
       "12834874               0.160  \n",
       "12835139               2.200  \n",
       "12885212               0.630  \n",
       "12885212               0.093  \n",
       "12935144               0.140  \n",
       "\n",
       "[9564 rows x 139 columns]"
      ]
     },
     "execution_count": 358,
     "metadata": {},
     "output_type": "execute_result"
    }
   ],
   "source": [
    "# Your code here\n",
    "kepler_df.sort_index()"
   ]
  },
  {
   "cell_type": "markdown",
   "metadata": {},
   "source": [
    "Try the same with the \"kepler_array\" ndarray.\n",
    "\n",
    "Hint: Remember to typecast Kepler ID to integers."
   ]
  },
  {
   "cell_type": "code",
   "execution_count": 392,
   "metadata": {},
   "outputs": [
    {
     "data": {
      "text/plain": [
       "array([  757450,   892772,  1025986, ..., 12885212, 12885212, 12935144])"
      ]
     },
     "execution_count": 392,
     "metadata": {},
     "output_type": "execute_result"
    }
   ],
   "source": [
    "# Your code here\n",
    "np.sort(kepler_array[1:, 0].astype(int))"
   ]
  },
  {
   "cell_type": "markdown",
   "metadata": {},
   "source": [
    "So we've now seen how to get data from a text file into Python, where we can start interrogating it, and performing analysis and calculations with it. For a look at how to pull in data from more complicated systems, like FITS, check out the next tutorial.\n",
    "\n",
    "Now, the other thing Python is great for is powerful visualizations. We saw in the pre-workshop tutorial how we could plot the histogram of scores and get an idea of where one standard deviation on either side of the mean was. We also plotted the Radius - Period distribution of Kepler planets above. Now we are going to do a bit more plotting with the Kepler dataset."
   ]
  },
  {
   "cell_type": "markdown",
   "metadata": {},
   "source": [
    "### Plotting a histogram\n",
    "Let's jump back, to start, with that histogram from pre-workshop, and see line by line how to make it. Don't feel discouraged if plotting commands seem like a whole new language over Python — they kind of are. It takes a lot of practice and experience to build up familiarity with what commands make plots look certain ways. For now, googling \"how to add <insert> to a plot\" is fine. \n",
    "\n",
    "The simplest kind of plot possible is plt.plot(), as for the sine wave we plotted above. But that doesn't really help us with 1D data, e.g., looking at the periods of all the Kepler exoplanets). We need to extend into a new dimension to plot anything, which is why seeing how many planets have a particular period is an interesting metric. That's a histogram. Matplotlib has a built in function to plot these. We can start by specifying nothing but the values to histogram (`kepler_df['koi_period']`):"
   ]
  },
  {
   "cell_type": "code",
   "execution_count": 46,
   "metadata": {},
   "outputs": [
    {
     "data": {
      "image/png": "[encoded data removed]",
      "text/plain": [
       "<Figure size 432x288 with 1 Axes>"
      ]
     },
     "metadata": {
      "needs_background": "light"
     },
     "output_type": "display_data"
    }
   ],
   "source": [
    "plt.hist(kepler_df['koi_period'])\n",
    "plt.show()"
   ]
  },
  {
   "cell_type": "markdown",
   "metadata": {},
   "source": [
    "The above plot doesn't look very useful. That is because the x-axis (period) range is too large (from 0 to 120,000 days!). Let's choose a smaller range that is more realistic using the \"range\" parameter."
   ]
  },
  {
   "cell_type": "code",
   "execution_count": 47,
   "metadata": {},
   "outputs": [
    {
     "data": {
      "image/png": "[encoded data removed]",
      "text/plain": [
       "<Figure size 432x288 with 1 Axes>"
      ]
     },
     "metadata": {
      "needs_background": "light"
     },
     "output_type": "display_data"
    }
   ],
   "source": [
    "plt.hist(kepler_df['koi_period'], range=[0, 650])\n",
    "plt.show()"
   ]
  },
  {
   "cell_type": "markdown",
   "metadata": {},
   "source": [
    "That looks better, but the y-axis value (frequency or number of planets) of each bin is either too high or too low. Let's use a logarithmic scale for it:"
   ]
  },
  {
   "cell_type": "code",
   "execution_count": 90,
   "metadata": {},
   "outputs": [
    {
     "data": {
      "image/png": "[encoded data removed]",
      "text/plain": [
       "<Figure size 432x288 with 1 Axes>"
      ]
     },
     "metadata": {
      "needs_background": "light"
     },
     "output_type": "display_data"
    }
   ],
   "source": [
    "plt.hist(kepler_df['koi_period'], range=[0, 650])\n",
    "plt.yscale('log')\n",
    "plt.show()"
   ]
  },
  {
   "cell_type": "markdown",
   "metadata": {},
   "source": [
    "That looks good!\n",
    "\n",
    "By default, matplotlib picks a color, and creates ticks and labels as shown. What if I want the blue to actually be red? And semi transparent? We can do that:"
   ]
  },
  {
   "cell_type": "code",
   "execution_count": 48,
   "metadata": {},
   "outputs": [
    {
     "data": {
      "image/png": "[encoded data removed]",
      "text/plain": [
       "<Figure size 432x288 with 1 Axes>"
      ]
     },
     "metadata": {
      "needs_background": "light"
     },
     "output_type": "display_data"
    }
   ],
   "source": [
    "plt.hist(kepler_df['koi_period'], range=[0, 650], color='r', alpha=0.5)\n",
    "plt.yscale('log')\n",
    "plt.show()"
   ]
  },
  {
   "cell_type": "markdown",
   "metadata": {},
   "source": [
    "It's hard to see because there's nothing behind it, but we now have a semi-transparent red plot. Now, looking, we have by default created 10 bins. We can create more or less:"
   ]
  },
  {
   "cell_type": "code",
   "execution_count": 58,
   "metadata": {},
   "outputs": [
    {
     "data": {
      "image/png": "[encoded data removed]",
      "text/plain": [
       "<Figure size 432x288 with 1 Axes>"
      ]
     },
     "metadata": {
      "needs_background": "light"
     },
     "output_type": "display_data"
    }
   ],
   "source": [
    "plt.hist(kepler_df['koi_period'], bins=20, range=[0, 650])\n",
    "plt.hist(kepler_df['koi_period'], bins=5, range=[0, 650], color='r', alpha=0.5)\n",
    "plt.yscale('log')\n",
    "plt.show()"
   ]
  },
  {
   "cell_type": "markdown",
   "metadata": {},
   "source": [
    "We can see that by decreasing the number of bins, more items (kepler ) appear in each bin. By increasing the number of bins, the opposite effect occurs. Often, we want to normalize histograms:"
   ]
  },
  {
   "cell_type": "code",
   "execution_count": 59,
   "metadata": {},
   "outputs": [
    {
     "data": {
      "image/png": "[encoded data removed]",
      "text/plain": [
       "<Figure size 432x288 with 1 Axes>"
      ]
     },
     "metadata": {
      "needs_background": "light"
     },
     "output_type": "display_data"
    }
   ],
   "source": [
    "plt.hist(kepler_df['koi_period'], bins=20, range=[0, 650], density=True)\n",
    "plt.hist(kepler_df['koi_period'], bins=5, range=[0, 650], color='r', alpha=0.5, density=True)\n",
    "plt.yscale('log')\n",
    "plt.show()"
   ]
  },
  {
   "cell_type": "markdown",
   "metadata": {},
   "source": [
    "By normalizing, we can see the distributions overlaid on each other. It seems to me like the default of 10 was a decent number of bins. Let's try 9, un-normalize, and then add some labels:  "
   ]
  },
  {
   "cell_type": "code",
   "execution_count": 62,
   "metadata": {},
   "outputs": [
    {
     "data": {
      "image/png": "[encoded data removed]",
      "text/plain": [
       "<Figure size 432x288 with 1 Axes>"
      ]
     },
     "metadata": {
      "needs_background": "light"
     },
     "output_type": "display_data"
    }
   ],
   "source": [
    "plt.hist(kepler_df['koi_period'], bins=9, range=[0, 650], color='r', alpha=0.5)\n",
    "plt.yscale('log')\n",
    "plt.xlabel('Period [days]')\n",
    "plt.ylabel('Number of Planets')\n",
    "plt.title('Distribution of Kepler Planet Periods')\n",
    "plt.show()"
   ]
  },
  {
   "cell_type": "markdown",
   "metadata": {},
   "source": [
    "Often we are interested in knowing the percentiles of a distribution — the standard in statistics is the 16th, 50th, and 84th percentile. You can calculate these easily with `np.percentile(array_like, #)`, where # is the percentile you want to calculate. \n",
    "\n",
    "I'll tell you that the function `plt.axvline(value, ls='--', color='k')` will plot a vertical black dashed line at a certain x-axis value \"value\". In the block below, reproduce the plot in the cell above, but with the standard percentile spots demarcated by vertical dashed lines. "
   ]
  },
  {
   "cell_type": "code",
   "execution_count": 79,
   "metadata": {},
   "outputs": [
    {
     "data": {
      "image/png": "[encoded data removed]",
      "text/plain": [
       "<Figure size 432x288 with 1 Axes>"
      ]
     },
     "metadata": {
      "needs_background": "light"
     },
     "output_type": "display_data"
    }
   ],
   "source": [
    "# Your code here\n",
    "perc = np.percentile(kepler_df['koi_period'], [16, 50, 84])\n",
    "\n",
    "plt.hist(kepler_df['koi_period'], bins=9, range=[0, 650], color='r', alpha=0.5)\n",
    "# plt.vlines is a more consice way of plotting several vertical lines\n",
    "plt.axvline(perc[0], ls='--', color='k')\n",
    "plt.axvline(perc[1], ls='--', color='k')\n",
    "plt.axvline(perc[2], ls='--', color='k')\n",
    "plt.yscale('log')\n",
    "plt.xlabel('Period [days]')\n",
    "plt.ylabel('Number of Planets')\n",
    "plt.title('Distribution of Kepler Planet Periods')\n",
    "plt.show()"
   ]
  },
  {
   "cell_type": "markdown",
   "metadata": {},
   "source": [
    "How about the 95th percentile? Plot that below"
   ]
  },
  {
   "cell_type": "code",
   "execution_count": 88,
   "metadata": {},
   "outputs": [
    {
     "data": {
      "image/png": "[encoded data removed]",
      "text/plain": [
       "<Figure size 432x288 with 1 Axes>"
      ]
     },
     "metadata": {
      "needs_background": "light"
     },
     "output_type": "display_data"
    }
   ],
   "source": [
    "# Your code here\n",
    "perc_95 = np.percentile(kepler_df['koi_period'], 95)\n",
    "\n",
    "plt.hist(kepler_df['koi_period'], bins=9, range=[0, 650], color='r', alpha=0.5)\n",
    "plt.axvline(perc_95, ls='--', color='k')\n",
    "plt.yscale('log')\n",
    "plt.xlabel('Period [days]')\n",
    "plt.ylabel('Number of Planets')\n",
    "plt.title('Distribution of Kepler Planet Periods')\n",
    "plt.show()"
   ]
  },
  {
   "cell_type": "markdown",
   "metadata": {},
   "source": [
    "We see that the distribution has some bimodality. Try to plot the same distribution, but for all confirmed Kepler exoplanets. You should be thinking about the condition we used in the \"If Statements and other Conditionals\" section above. We ran a **for** loop to iterate through the `kepler_df` rows, and checked **IF** the 'koi_disposition' of the row was 'CONFIRMED', i.e., if the potential exoplanet was confirmed. Instead of looping through each row, we can directly get all the confirmed exoplanet entries as follows:"
   ]
  },
  {
   "cell_type": "code",
   "execution_count": 71,
   "metadata": {},
   "outputs": [],
   "source": [
    "kepler_df_conf = kepler_df[kepler_df['koi_disposition'] == 'CONFIRMED']"
   ]
  },
  {
   "cell_type": "markdown",
   "metadata": {},
   "source": [
    "The above is a way to add a conditional to a pandas DataFrame. It also works with numpy (nd)arrays. Note that this is more efficient than the for loop we used above. Try to think why!\n",
    "\n",
    "Let's plot the historgram of the periods of `kepler_df_conf`:"
   ]
  },
  {
   "cell_type": "code",
   "execution_count": 73,
   "metadata": {},
   "outputs": [
    {
     "data": {
      "image/png": "[encoded data removed]",
      "text/plain": [
       "<Figure size 432x288 with 1 Axes>"
      ]
     },
     "metadata": {
      "needs_background": "light"
     },
     "output_type": "display_data"
    }
   ],
   "source": [
    "plt.hist(kepler_df_conf['koi_period'], bins=9, range=[0, 650], color='r', alpha=0.5)\n",
    "plt.yscale('log')\n",
    "plt.xlabel('Period [days]')\n",
    "plt.ylabel('Number of Planets')\n",
    "plt.title('Distribution of Kepler Planet Periods')\n",
    "plt.show()"
   ]
  },
  {
   "cell_type": "markdown",
   "metadata": {},
   "source": [
    "The bimodality is gone! This shows you why pre-processing of data is important when doing research.\n",
    "\n",
    "Let's get a little bit fancier. I want to write a function that will compare the number of exoplanets of any number of stars, given a list of Kepler IDs. It should take in the IDs as integers, and then create a horizontal bar plot showing their respective number of exoplanets, with the IDs on the y axis. Why horizontal? Think about it — the maximum number of exoplanets of one Kepler target (star) is 7 (we calculated this above!), and the width of our computer screen is fixed, while the number of names we enter is variable, and our computer can scroll to accomodate any reasonable height. This way, our names won't get squished trying to fit everything in. \n",
    "\n",
    "**Step One** A function that can take in different numbers of arguments. \n",
    "Take a look at the following:"
   ]
  },
  {
   "cell_type": "code",
   "execution_count": 74,
   "metadata": {},
   "outputs": [],
   "source": [
    "def a_function(arg1, arg2):\n",
    "    computation = arg1 + arg2\n",
    "    return computation"
   ]
  },
  {
   "cell_type": "markdown",
   "metadata": {},
   "source": [
    "I can run the above and feed it two numbers:"
   ]
  },
  {
   "cell_type": "code",
   "execution_count": 75,
   "metadata": {},
   "outputs": [
    {
     "data": {
      "text/plain": [
       "6"
      ]
     },
     "execution_count": 75,
     "metadata": {},
     "output_type": "execute_result"
    }
   ],
   "source": [
    "a_function(1, 5)"
   ]
  },
  {
   "cell_type": "markdown",
   "metadata": {},
   "source": [
    "And you can see it did the computation and returned it. But what if I want to add three numbers?"
   ]
  },
  {
   "cell_type": "code",
   "execution_count": 76,
   "metadata": {},
   "outputs": [
    {
     "ename": "TypeError",
     "evalue": "a_function() takes 2 positional arguments but 3 were given",
     "output_type": "error",
     "traceback": [
      "\u001b[0;31m---------------------------------------------------------------------------\u001b[0m",
      "\u001b[0;31mTypeError\u001b[0m                                 Traceback (most recent call last)",
      "\u001b[0;32m/var/folders/hs/xytwn7892j7514f57y5hv_ph0000gn/T/ipykernel_1862/544509701.py\u001b[0m in \u001b[0;36m<module>\u001b[0;34m\u001b[0m\n\u001b[0;32m----> 1\u001b[0;31m \u001b[0ma_function\u001b[0m\u001b[0;34m(\u001b[0m\u001b[0;36m1\u001b[0m\u001b[0;34m,\u001b[0m \u001b[0;36m5\u001b[0m\u001b[0;34m,\u001b[0m \u001b[0;36m6\u001b[0m\u001b[0;34m)\u001b[0m\u001b[0;34m\u001b[0m\u001b[0;34m\u001b[0m\u001b[0m\n\u001b[0m",
      "\u001b[0;31mTypeError\u001b[0m: a_function() takes 2 positional arguments but 3 were given"
     ]
    }
   ],
   "source": [
    "a_function(1, 5, 6)"
   ]
  },
  {
   "cell_type": "markdown",
   "metadata": {},
   "source": [
    "What we get here is a \"TypeError.\" It's raised because our function was specified to take exactly 2 arguments (arg1 and arg2), but we gave it three. Shoutout to python's error message actually being helpful. OK, so how do we fix this? \n",
    "\n",
    "Here's one way:"
   ]
  },
  {
   "cell_type": "code",
   "execution_count": 77,
   "metadata": {},
   "outputs": [],
   "source": [
    "def new_func(array_like):\n",
    "    out_sum = 0\n",
    "    for i in array_like:\n",
    "        out_sum += i\n",
    "    return out_sum"
   ]
  },
  {
   "cell_type": "markdown",
   "metadata": {},
   "source": [
    "What I've done is force the user to enter a list of numbers, then iterated through and added them all up. (Yes, I could've just run np.sum() on the array_like, but what's the fun in that?). But that's just a workaround — sometimes, we need the function to take a truly variable number of inputs. \n",
    "\n",
    "That's where **args** and **kwargs** come in. Check this out:"
   ]
  },
  {
   "cell_type": "code",
   "execution_count": 78,
   "metadata": {},
   "outputs": [],
   "source": [
    "def sum_func(arg1, arg2, *args):\n",
    "    out_sum = arg1 + arg2\n",
    "    for i in args:\n",
    "        out_sum += i \n",
    "    return out_sum"
   ]
  },
  {
   "cell_type": "markdown",
   "metadata": {},
   "source": [
    "What's going on? Let's test the function a bit:"
   ]
  },
  {
   "cell_type": "code",
   "execution_count": 79,
   "metadata": {},
   "outputs": [
    {
     "data": {
      "text/plain": [
       "3"
      ]
     },
     "execution_count": 79,
     "metadata": {},
     "output_type": "execute_result"
    }
   ],
   "source": [
    "sum_func(1, 2)"
   ]
  },
  {
   "cell_type": "code",
   "execution_count": 80,
   "metadata": {},
   "outputs": [
    {
     "data": {
      "text/plain": [
       "6"
      ]
     },
     "execution_count": 80,
     "metadata": {},
     "output_type": "execute_result"
    }
   ],
   "source": [
    "sum_func(1, 2, 3)"
   ]
  },
  {
   "cell_type": "code",
   "execution_count": 82,
   "metadata": {},
   "outputs": [
    {
     "data": {
      "text/plain": [
       "15"
      ]
     },
     "execution_count": 82,
     "metadata": {},
     "output_type": "execute_result"
    }
   ],
   "source": [
    "sum_func(1, 2, 3, 4, 5)"
   ]
  },
  {
   "cell_type": "markdown",
   "metadata": {},
   "source": [
    "By specifying \\*args as the final input to the function, we told python \"allow any extra arguments to be entered into this function, and store them in a list called args.\" Then, we calculated the first sum (the one that is required), and went through any extra numbers that might've been entered and added them in as well. \n",
    "\n",
    "There is a slightly different version of this that applies to a \"dictionary\" style way of doing things. See below:"
   ]
  },
  {
   "cell_type": "code",
   "execution_count": 83,
   "metadata": {},
   "outputs": [],
   "source": [
    "def dict_funct(arg1, arg2, **kwargs):\n",
    "    output_dict = {}\n",
    "    output_dict[arg1] = arg2\n",
    "    for i in kwargs.keys():\n",
    "        output_dict[i] = kwargs[i]\n",
    "    return output_dict"
   ]
  },
  {
   "cell_type": "markdown",
   "metadata": {},
   "source": [
    "What I've done is made a function that takes 2 things, and puts them in a dictionary where the first argument is a key and the second is a value (for illustration). Watch:"
   ]
  },
  {
   "cell_type": "code",
   "execution_count": 84,
   "metadata": {},
   "outputs": [
    {
     "data": {
      "text/plain": [
       "{'key1': 5}"
      ]
     },
     "execution_count": 84,
     "metadata": {},
     "output_type": "execute_result"
    }
   ],
   "source": [
    "one = dict_funct('key1', 5)\n",
    "one"
   ]
  },
  {
   "cell_type": "code",
   "execution_count": 85,
   "metadata": {},
   "outputs": [
    {
     "data": {
      "text/plain": [
       "{'key1': 5, 'key2': 6}"
      ]
     },
     "execution_count": 85,
     "metadata": {},
     "output_type": "execute_result"
    }
   ],
   "source": [
    "two = dict_funct('key1', 5, key2=6)\n",
    "two"
   ]
  },
  {
   "cell_type": "markdown",
   "metadata": {},
   "source": [
    "In short, \\*\\*kwargs tells python \"allow the user to add extra variables to this function, but they have to be of the form a=b, and store those extra variables in a dictionary where each a is a key and each b is a value.\" \n",
    "\n",
    "Sometimes, args and kwargs are most useful not even because you want to use the extra optional arguments in a function, but because you want your intermediary function to allow anything to get dumped into it, and just return it and pass it all along to the next function in your program. \n",
    "\n",
    "OK. Back to our exoplanets. We want to compare at least a minimum of two Kepler IDs, and the ability to add in as many extra as we want. Our basic skeleton then will look something like"
   ]
  },
  {
   "cell_type": "code",
   "execution_count": 86,
   "metadata": {},
   "outputs": [],
   "source": [
    "def compare_exoplanets(id1, id2, *args):\n",
    "    \"some code here\"\n",
    "    return"
   ]
  },
  {
   "cell_type": "markdown",
   "metadata": {},
   "source": [
    "Now, let's practice making the bar plot. We'll be using plt.hbar(), which can take a list of strings (names) and corresponding list of values (scores), and make a bar plot (horizontal). See:"
   ]
  },
  {
   "cell_type": "code",
   "execution_count": 87,
   "metadata": {},
   "outputs": [
    {
     "data": {
      "image/png": "[encoded data removed]",
      "text/plain": [
       "<Figure size 432x288 with 1 Axes>"
      ]
     },
     "metadata": {
      "needs_background": "light"
     },
     "output_type": "display_data"
    }
   ],
   "source": [
    "plt.barh([1,2,3], [4,3,6])\n",
    "plt.show()"
   ]
  },
  {
   "cell_type": "markdown",
   "metadata": {},
   "source": [
    "Now, we want the 1,2,3 to actually be the Kepler IDs. So I can manually set the tick labels for the plot as follows: \n"
   ]
  },
  {
   "cell_type": "code",
   "execution_count": 90,
   "metadata": {},
   "outputs": [
    {
     "data": {
      "image/png": "[encoded data removed]",
      "text/plain": [
       "<Figure size 432x288 with 1 Axes>"
      ]
     },
     "metadata": {
      "needs_background": "light"
     },
     "output_type": "display_data"
    }
   ],
   "source": [
    "tick_labels = (10872983, 10797460, 10854555)\n",
    "plt.barh([1,2,3], [4,3,6])\n",
    "plt.yticks([1,2,3], tick_labels)\n",
    "plt.show()"
   ]
  },
  {
   "cell_type": "markdown",
   "metadata": {},
   "source": [
    "Cool! We're basically ready to go here. Using what I've illustrated above, make a function which takes any number of IDs in our sample as integers, and makes the plot of their respective number of exoplanets. It's up to you which way you chose to index out the number of exoplanets, but the fastest way will be using the `kepler_planets` dictionary or series we made above! Throw a title and axis labels on there while you're at it. Then test it out on first 2 IDs, then 3."
   ]
  },
  {
   "cell_type": "code",
   "execution_count": 42,
   "metadata": {},
   "outputs": [],
   "source": [
    "# Your code here\n",
    "def compare_exoplanets(id1, id2, *args):\n",
    "    len_plot = range(2 + len(args))\n",
    "    ids = [id1] + [id2] + [i for i in args]\n",
    "    planets = kepler_planets[ids]\n",
    "    # Plot the bars\n",
    "    plt.barh(len_plot, planets)\n",
    "    plt.yticks(len_plot, ids)\n",
    "    plt.xlabel('Number of exoplanets')\n",
    "    plt.ylabel('Kepler ID')\n",
    "    plt.show()\n",
    "    return"
   ]
  },
  {
   "cell_type": "code",
   "execution_count": 44,
   "metadata": {},
   "outputs": [
    {
     "data": {
      "image/png": "[encoded data removed]",
      "text/plain": [
       "<Figure size 432x288 with 1 Axes>"
      ]
     },
     "metadata": {
      "needs_background": "light"
     },
     "output_type": "display_data"
    },
    {
     "data": {
      "image/png": "[encoded data removed]",
      "text/plain": [
       "<Figure size 432x288 with 1 Axes>"
      ]
     },
     "metadata": {
      "needs_background": "light"
     },
     "output_type": "display_data"
    }
   ],
   "source": [
    "# Try running your function with this block, and seeing if you get the right plots.\n",
    "compare_exoplanets(10872983, 10797460)\n",
    "compare_exoplanets(10872983, 10797460, 10854555)"
   ]
  },
  {
   "cell_type": "markdown",
   "metadata": {},
   "source": [
    "There might be some nomenclature that's a bit unfamiliar to you in the way I designed my function, if you check my solutions, though you should have been able to accomplish what was needed using for loops and things we've learned so far. But to clue you in, I utilized two basic Python behaviors to accomplish my task in fewer lines: List addition, and list comprehension. \n",
    "\n",
    "List addition is simply the fact that to combine two lists into one, just add them:"
   ]
  },
  {
   "cell_type": "code",
   "execution_count": 45,
   "metadata": {},
   "outputs": [
    {
     "data": {
      "text/plain": [
       "[1, 2, 4, 4, 5, 6]"
      ]
     },
     "execution_count": 45,
     "metadata": {},
     "output_type": "execute_result"
    }
   ],
   "source": [
    "[1,2,4] + [4,5,6]"
   ]
  },
  {
   "cell_type": "markdown",
   "metadata": {},
   "source": [
    "Thus, if you have a list, and two separate values (the way you probably did when args is a list of IDS, but you have two IDs floating around outside, you can make a consolidated list by putting the two floating IDs into their own list and adding them to the rest. In my example, \n",
    "\n",
    "\\[ID1\\] + \\[ID2\\] + args\n",
    "\n",
    "has the same effect as\n",
    "\n",
    "\\[ID1, ID2\\] + args would have."
   ]
  },
  {
   "cell_type": "markdown",
   "metadata": {},
   "source": [
    "The other thing I did was a list comprehension. Watch the following:"
   ]
  },
  {
   "cell_type": "code",
   "execution_count": 46,
   "metadata": {},
   "outputs": [
    {
     "data": {
      "text/plain": [
       "[0, 2, 4, 6, 8, 10, 12, 14, 16, 18]"
      ]
     },
     "execution_count": 46,
     "metadata": {},
     "output_type": "execute_result"
    }
   ],
   "source": [
    "empty_list = []\n",
    "for i in range(10):\n",
    "    empty_list.append(i*2)\n",
    "empty_list"
   ]
  },
  {
   "cell_type": "markdown",
   "metadata": {},
   "source": [
    "I used a for-loop to fill an empty list with the values of range(10) each times two. I can also use the following:"
   ]
  },
  {
   "cell_type": "code",
   "execution_count": 47,
   "metadata": {},
   "outputs": [
    {
     "data": {
      "text/plain": [
       "[0, 2, 4, 6, 8, 10, 12, 14, 16, 18]"
      ]
     },
     "execution_count": 47,
     "metadata": {},
     "output_type": "execute_result"
    }
   ],
   "source": [
    "full_list = [i*2 for i in range(10)]\n",
    "full_list"
   ]
  },
  {
   "cell_type": "markdown",
   "metadata": {},
   "source": [
    "Essentially, I compress the for-loop iteration into 1 line. Python knows I mean \"create a list with values that are i\\*2 for each i in range(10)\". I can do this in many situations, which saves me space in my code, and is often faster computationally as well. "
   ]
  },
  {
   "cell_type": "markdown",
   "metadata": {},
   "source": [
    "**Better Function Writing** \n",
    "\n",
    "Let's take a few steps to make my comparison function better. The first thing we want to do is add *documentation*. This tells people how to use the function. Usually, documention looks something like this:"
   ]
  },
  {
   "cell_type": "code",
   "execution_count": 54,
   "metadata": {},
   "outputs": [],
   "source": [
    "def compare_exoplanets(id1, id2, *args):\n",
    "    '''\n",
    "    A function to produce a horizontal bar plot comparing the\n",
    "    number of exoplanets of different Kepler targets (IDs)\n",
    "    INPUTS:\n",
    "        id1 (int): the target Kepler ID in the kepler_planets Series\n",
    "        id2 (int): the target Kepler ID in kepler_planets\n",
    "        *args (optional, string): any number of Kepler IDs from kepler_planets\n",
    "    PRODUCES: \n",
    "        A bar plot \n",
    "    RETURNS:\n",
    "        NONE\n",
    "    '''\n",
    "    # Code goes here (not to spoil the above exercise!)\n",
    "    return"
   ]
  },
  {
   "cell_type": "markdown",
   "metadata": {},
   "source": [
    "Now, if someone is looking at our code, they can easily figure out that they need, for example, to have a dictionary or series called \"kepler_planets\" defined in their code for this function to work. Actually, the fact that my function requires that is bad, we'll get to that in a minute. If someone were using our code but not actually looking at the text file, they could type:"
   ]
  },
  {
   "cell_type": "code",
   "execution_count": 55,
   "metadata": {},
   "outputs": [
    {
     "name": "stdout",
     "output_type": "stream",
     "text": [
      "Help on function compare_exoplanets in module __main__:\n",
      "\n",
      "compare_exoplanets(id1, id2, *args)\n",
      "    A function to produce a horizontal bar plot comparing the\n",
      "    number of exoplanets of different Kepler targets (IDs)\n",
      "    INPUTS:\n",
      "        id1 (int): the target Kepler ID in the kepler_planets Series\n",
      "        id2 (int): the target Kepler ID in kepler_planets\n",
      "        *args (optional, string): any number of Kepler IDs from kepler_planets\n",
      "    PRODUCES: \n",
      "        A bar plot \n",
      "    RETURNS:\n",
      "        NONE\n",
      "\n"
     ]
    }
   ],
   "source": [
    "help(compare_exoplanets)"
   ]
  },
  {
   "cell_type": "markdown",
   "metadata": {},
   "source": [
    "And our documentation for it would pop up in their terminal, making it easy for them to make sure they are using it properly. \n",
    "\n",
    "Back to what I said about the \"kepler_planets\" Series. Inside my function, I index kepler_planets to get the number of exoplanets of an ID. But what if kepler_planets wasn't defined in my code? My function couldn't run. If I copied and pasted my function into another file, it wouldn't run by default. In short, it's not **general**. It's best to make your code as reasonably generalizable as possible — it will help you re-use your own code later, and catch bugs. I can make my function more generalizable by requiring the user to *provide* a kepler_planets to the function. That truly isolates it, and means I can move it from file to file or know that my tests of it aren't importing problems from elsewhere in my code. \n",
    "\n",
    "But what if I don't want to manually type \"kepler_planets\" into my code when I run it, since, at least, in this file, I only have 1 commonly defined one? Check this out:"
   ]
  },
  {
   "cell_type": "code",
   "execution_count": 67,
   "metadata": {},
   "outputs": [],
   "source": [
    "def compare_exoplanets(id1, id2, kepler_planets_series=kepler_planets, *args):\n",
    "    '''\n",
    "    A function to produce a horizontal bar plot comparing the\n",
    "    number of exoplanets of different Kepler targets (IDs)\n",
    "    INPUTS:\n",
    "        id1 (int): the target Kepler ID in the kepler_planets Series\n",
    "        id2 (int): the target Kepler ID in kepler_planets\n",
    "        *args (optional, string): any number of Kepler IDs from kepler_planets\n",
    "    PRODUCES: \n",
    "        A bar plot \n",
    "    RETURNS:\n",
    "        NONE\n",
    "    '''\n",
    "    # Code goes here!\n",
    "    return"
   ]
  },
  {
   "cell_type": "markdown",
   "metadata": {},
   "source": [
    "What I've done is added a new required argument to my function (I named it kepler_planets_series to avoid confusion with kepler_planets). But in the function call itself, I set the input of kepler_planets_series equal to the kepler_planets I have sitting in my code. **Note:** pre-set or \"default\" arguments in functions must be defined *after* all the required, undefault ones (I couldn't put `kepler_planets_series=kepler_planets` before id1 and id2. \n",
    "\n",
    "This is a reasonable compromise for my code — I don't have to type compare_exoplanets(id1, id2, kepler_planets, other_ids) every time — I can use my function as normal. BUT, if I move my function to another code file, it's clear that I need to manually enter a new dictionary/series, or set one named kepler_planets outside my function in my code for it to work. \n",
    "\n",
    "As a final edition, I'll update the documentation to include the parameters imposed on the input dictionary/series. But I'll also make it the most general (not set a default), and move kepler_planets_series to the front of the required arguments (just for the aesthetic of giving a dictionary/series, then as many IDs as you want (min 2), rather than 2 IDs, a dictionary/series, and then more IDs. "
   ]
  },
  {
   "cell_type": "code",
   "execution_count": 2,
   "metadata": {},
   "outputs": [],
   "source": [
    "def compare_students(kepler_planets_series, id1, id2, *args):\n",
    "    '''\n",
    "    A function to produce a horizontal bar plot comparing the\n",
    "    number of exoplanets of different Kepler targets (IDs)\n",
    "    INPUTS:\n",
    "        kepler_planets_series (dict): A dictionary containing Kepler IDs and number of\n",
    "                                      planets of the form {id (int): planets (int)}\n",
    "        id1 (int): the target Kepler ID in the kepler_planets Series\n",
    "        id2 (int): the target Kepler ID in kepler_planets\n",
    "        *args (optional, string): any number of Kepler IDs from kepler_planets\n",
    "    PRODUCES: \n",
    "        A bar plot \n",
    "    RETURNS: \n",
    "        NONE\n",
    "    '''\n",
    "    # Code here\n",
    "    return"
   ]
  },
  {
   "cell_type": "markdown",
   "metadata": {},
   "source": [
    "**ON YOUR OWN**\n",
    "\n",
    "Here's a couple of exercises to play around with this function to make it EVEN MORE general, which you should be able to do with some quick googling. \n",
    "\n",
    "1. What if someone enters an ID in your function that isn't in the dictionary (not in Kepler or misspelled). As of now, your function will stop and throw a \"key error\", and say that the ID is not in the dictionary. For the sake of exercise, let's change that behavior, and ignore it if an ID isn't included moving on to all the other IDs and still producing the plot. Update your function such that if an ID isn't in the dictionary, it prints a warning \"Warning, ___ wasn't in the kepler_planets dict, continuing...\" so the user knows, but then still plots the rest of the (working) IDs. You could do this with an if-statement before actually querying the dict, or if you're adventurous, look up \"try and except statements\" online. \n",
    "2. Look around plt.barh's documentation, and see if you can plot the ID with the highest number of planets in a different color than the rest. Note, the easiest way might be to go through once plotting all in one color, and plotting the new color for the top score bar on top of it.\n",
    "3. Try to create a new dictionary (or series) kepler_planet_periods of the form {'kepler_name' (str): koi_period (float)}. I want you to get comfortable with using strings as dictionary keys. Then, write a function compare_periods where you compare the periods of different Kepler planet names. Note that the string matching from function argument to dictionary key is exact — the user can't enter 'malena' if the key was 'Malena'. The best way around this might be to coerce all the strings to be all lower or upper case in the dictionary, and then coerce the user input to the function to be the same case (upper or lower) before attempting to query the dictionary. Look up how to make strings upper or lower case, and implement that in your function. \n"
   ]
  },
  {
   "cell_type": "markdown",
   "metadata": {},
   "source": [
    "Alright! That's it for this tutorial. As always, I hope it was helpful to you. If you have any questions about it (or find typos), or a question about your own code as you're getting started, feel free to email me!\n",
    "\n",
    "For more information on functions, refer to the new [Functional Programming](https://prappleizer.github.io/Tutorials/FunctionalProgramming/FunctionalProgramming_web.html) chapter of the [textbook](https://prappleizer.github.io/index.html) we are using. This chapter is also available as a pdf in the pasea-arp/Day_1 folder.\n"
   ]
  },
  {
   "cell_type": "code",
   "execution_count": null,
   "metadata": {},
   "outputs": [],
   "source": []
  }
 ],
 "metadata": {
  "anaconda-cloud": {},
  "kernelspec": {
   "display_name": "Python 3 (ipykernel)",
   "language": "python",
   "name": "python3"
  },
  "language_info": {
   "codemirror_mode": {
    "name": "ipython",
    "version": 3
   },
   "file_extension": ".py",
   "mimetype": "text/x-python",
   "name": "python",
   "nbconvert_exporter": "python",
   "pygments_lexer": "ipython3",
   "version": "3.8.12"
  }
 },
 "nbformat": 4,
 "nbformat_minor": 4
}
